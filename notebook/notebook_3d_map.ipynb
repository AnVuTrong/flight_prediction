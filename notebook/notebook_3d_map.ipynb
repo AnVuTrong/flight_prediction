{
 "cells": [
  {
   "metadata": {
    "ExecuteTime": {
     "end_time": "2024-07-06T15:41:17.137485Z",
     "start_time": "2024-07-06T15:41:17.129883Z"
    }
   },
   "cell_type": "code",
   "source": [
    "import os\n",
    "import dotenv\n",
    "import mapwidget.mapbox as mapwidget\n",
    "dotenv.load_dotenv()\n",
    "map_box_api_key = os.getenv(\"MAPBOX_FLIGHT_PATH_RNN_API_KEY\")"
   ],
   "id": "a9fc10cd41de9cca",
   "outputs": [],
   "execution_count": 5
  },
  {
   "metadata": {
    "ExecuteTime": {
     "end_time": "2024-07-06T15:41:17.142710Z",
     "start_time": "2024-07-06T15:41:17.138635Z"
    }
   },
   "cell_type": "code",
   "source": [
    "m = mapwidget.Map(token=map_box_api_key)\n",
    "m"
   ],
   "id": "e97ff7cd6ddefa4c",
   "outputs": [
    {
     "data": {
      "text/plain": [
       "Map(bounds=[0, 0, 0, 0], center=[0, 20], clicked_latlng=[None, None], token='sk.eyJ1IjoiYWNldGFua2FjZSIsImEiOi…"
      ],
      "application/vnd.jupyter.widget-view+json": {
       "version_major": 2,
       "version_minor": 1,
       "model_id": "c6753ad71e59490ab62b0dfbde6fbfe3"
      }
     },
     "execution_count": 6,
     "metadata": {},
     "output_type": "execute_result"
    }
   ],
   "execution_count": 6
  },
  {
   "metadata": {
    "ExecuteTime": {
     "end_time": "2024-07-06T15:41:17.147946Z",
     "start_time": "2024-07-06T15:41:17.143830Z"
    }
   },
   "cell_type": "code",
   "source": [
    "esm = \"\"\"\n",
    "\n",
    "    const map = new mapboxgl.Map({\n",
    "        container: 'map',\n",
    "        zoom: 14,\n",
    "        center: [-114.26608, 32.7213],\n",
    "        pitch: 80,\n",
    "        bearing: 41,\n",
    "        // Choose from Mapbox's core styles, or make your own style with Mapbox Studio\n",
    "        style: 'mapbox://styles/mapbox/satellite-streets-v12'\n",
    "    });\n",
    "\n",
    "    map.on('style.load', () => {\n",
    "        map.addSource('mapbox-dem', {\n",
    "            'type': 'raster-dem',\n",
    "            'url': 'mapbox://mapbox.mapbox-terrain-dem-v1',\n",
    "            'tileSize': 512,\n",
    "            'maxzoom': 14\n",
    "        });\n",
    "        // add the DEM source as a terrain layer with exaggerated height\n",
    "        map.setTerrain({ 'source': 'mapbox-dem', 'exaggeration': 1.5 });\n",
    "    });\n",
    "\n",
    "\n",
    "\"\"\"\n",
    "m.set_esm(esm)\n",
    "m"
   ],
   "id": "39241ac23b3e98f3",
   "outputs": [
    {
     "data": {
      "text/plain": [
       "Map(bounds=[0, 0, 0, 0], center=[0, 20], clicked_latlng=[None, None], token='sk.eyJ1IjoiYWNldGFua2FjZSIsImEiOi…"
      ],
      "application/vnd.jupyter.widget-view+json": {
       "version_major": 2,
       "version_minor": 1,
       "model_id": "c6753ad71e59490ab62b0dfbde6fbfe3"
      }
     },
     "execution_count": 7,
     "metadata": {},
     "output_type": "execute_result"
    }
   ],
   "execution_count": 7
  },
  {
   "metadata": {
    "ExecuteTime": {
     "end_time": "2024-07-06T15:41:17.153775Z",
     "start_time": "2024-07-06T15:41:17.149556Z"
    }
   },
   "cell_type": "code",
   "source": [
    "esm = \"\"\"\n",
    "\n",
    "    (async () => {\n",
    "        const map = new mapboxgl.Map({\n",
    "            container: 'map',\n",
    "            zoom: 13,\n",
    "            center: [6.6301, 45.35625],\n",
    "            pitch: 80,\n",
    "            bearing: 160,\n",
    "            interactive: false,\n",
    "            // Choose from Mapbox's core styles, or make your own style with Mapbox Studio\n",
    "            style: 'mapbox://styles/mapbox/satellite-v9'\n",
    "        });\n",
    "\n",
    "        await map.once('style.load');\n",
    "\n",
    "        // Add daytime fog\n",
    "        map.setFog({\n",
    "            'range': [-1, 2],\n",
    "            'horizon-blend': 0.3,\n",
    "            'color': 'white',\n",
    "            'high-color': '#add8e6',\n",
    "            'space-color': '#d8f2ff',\n",
    "            'star-intensity': 0.0\n",
    "        });\n",
    "\n",
    "        // Add 3D terrain\n",
    "        map.addSource('mapbox-dem', {\n",
    "            'type': 'raster-dem',\n",
    "            'url': 'mapbox://mapbox.terrain-rgb',\n",
    "            'tileSize': 512,\n",
    "            'maxzoom': 14\n",
    "        });\n",
    "        map.setTerrain({\n",
    "            'source': 'mapbox-dem',\n",
    "            'exaggeration': 1.5\n",
    "        });\n",
    "\n",
    "        // Run a timing loop to switch between day and night\n",
    "        await map.once('idle');\n",
    "\n",
    "        let lastTime = 0.0;\n",
    "        let animationTime = 0.0;\n",
    "        let cycleTime = 0.0;\n",
    "        let night = true;\n",
    "\n",
    "        const initialBearing = map.getBearing();\n",
    "\n",
    "        function frame(time) {\n",
    "            const elapsedTime = (time - lastTime) / 1000.0;\n",
    "\n",
    "            animationTime += elapsedTime;\n",
    "            cycleTime += elapsedTime;\n",
    "\n",
    "            if (cycleTime >= 10.0) {\n",
    "                if (night) {\n",
    "                    // night fog styling\n",
    "                    map.setFog({\n",
    "                        'range': [-1, 2],\n",
    "                        'horizon-blend': 0.3,\n",
    "                        'color': '#242B4B',\n",
    "                        'high-color': '#161B36',\n",
    "                        'space-color': '#0B1026',\n",
    "                        'star-intensity': 0.8\n",
    "                    });\n",
    "                } else {\n",
    "                    // day fog styling\n",
    "                    map.setFog({\n",
    "                        'range': [-1, 2],\n",
    "                        'horizon-blend': 0.3,\n",
    "                        'color': 'white',\n",
    "                        'high-color': '#add8e6',\n",
    "                        'space-color': '#d8f2ff',\n",
    "                        'star-intensity': 0.0\n",
    "                    });\n",
    "                }\n",
    "\n",
    "                night = !night;\n",
    "                cycleTime = 0.0;\n",
    "            }\n",
    "\n",
    "            const rotation = initialBearing + animationTime * 2.0;\n",
    "            map.setBearing(rotation % 360);\n",
    "\n",
    "            lastTime = time;\n",
    "\n",
    "            window.requestAnimationFrame(frame);\n",
    "        }\n",
    "\n",
    "        window.requestAnimationFrame(frame);\n",
    "    })();\n",
    "\n",
    "\"\"\"\n",
    "m.set_esm(esm)\n",
    "m"
   ],
   "id": "caf86a2b469178a4",
   "outputs": [
    {
     "data": {
      "text/plain": [
       "Map(bounds=[0, 0, 0, 0], center=[0, 20], clicked_latlng=[None, None], token='sk.eyJ1IjoiYWNldGFua2FjZSIsImEiOi…"
      ],
      "application/vnd.jupyter.widget-view+json": {
       "version_major": 2,
       "version_minor": 1,
       "model_id": "c6753ad71e59490ab62b0dfbde6fbfe3"
      }
     },
     "execution_count": 8,
     "metadata": {},
     "output_type": "execute_result"
    }
   ],
   "execution_count": 8
  }
 ],
 "metadata": {
  "kernelspec": {
   "display_name": "Python 3",
   "language": "python",
   "name": "python3"
  },
  "language_info": {
   "codemirror_mode": {
    "name": "ipython",
    "version": 2
   },
   "file_extension": ".py",
   "mimetype": "text/x-python",
   "name": "python",
   "nbconvert_exporter": "python",
   "pygments_lexer": "ipython2",
   "version": "2.7.6"
  }
 },
 "nbformat": 4,
 "nbformat_minor": 5
}
