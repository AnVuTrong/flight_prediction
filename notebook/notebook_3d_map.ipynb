{
 "cells": [
  {
   "metadata": {
    "ExecuteTime": {
     "end_time": "2024-07-06T16:00:14.464698Z",
     "start_time": "2024-07-06T16:00:14.402026Z"
    }
   },
   "cell_type": "code",
   "source": [
    "import os\n",
    "import dotenv\n",
    "import mapwidget.mapbox as mapwidget\n",
    "dotenv.load_dotenv()\n",
    "map_box_api_key = os.getenv(\"MAPBOX_FLIGHT_PATH_RNN_API_KEY\")"
   ],
   "id": "a9fc10cd41de9cca",
   "outputs": [],
   "execution_count": 1
  },
  {
   "metadata": {
    "ExecuteTime": {
     "end_time": "2024-07-06T16:00:14.470023Z",
     "start_time": "2024-07-06T16:00:14.465825Z"
    }
   },
   "cell_type": "code",
   "source": "m = mapwidget.Map(token=map_box_api_key)",
   "id": "e97ff7cd6ddefa4c",
   "outputs": [],
   "execution_count": 2
  },
  {
   "metadata": {
    "ExecuteTime": {
     "end_time": "2024-07-06T16:00:14.474669Z",
     "start_time": "2024-07-06T16:00:14.471499Z"
    }
   },
   "cell_type": "code",
   "source": [
    "esm = \"\"\"\n",
    "\n",
    "    const map = new mapboxgl.Map({\n",
    "        container: 'map',\n",
    "        zoom: 14,\n",
    "        center: [-114.26608, 32.7213],\n",
    "        pitch: 80,\n",
    "        bearing: 41,\n",
    "        // Choose from Mapbox's core styles, or make your own style with Mapbox Studio\n",
    "        style: 'mapbox://styles/mapbox/satellite-streets-v12'\n",
    "    });\n",
    "\n",
    "    map.on('style.load', () => {\n",
    "        map.addSource('mapbox-dem', {\n",
    "            'type': 'raster-dem',\n",
    "            'url': 'mapbox://mapbox.mapbox-terrain-dem-v1',\n",
    "            'tileSize': 512,\n",
    "            'maxzoom': 14\n",
    "        });\n",
    "        // add the DEM source as a terrain layer with exaggerated height\n",
    "        map.setTerrain({ 'source': 'mapbox-dem', 'exaggeration': 1.5 });\n",
    "    });\n",
    "\n",
    "\n",
    "\"\"\"\n",
    "m.set_esm(esm)"
   ],
   "id": "39241ac23b3e98f3",
   "outputs": [],
   "execution_count": 3
  },
  {
   "metadata": {
    "ExecuteTime": {
     "end_time": "2024-07-06T16:00:14.481750Z",
     "start_time": "2024-07-06T16:00:14.476389Z"
    }
   },
   "cell_type": "code",
   "source": "m",
   "id": "c0cec86915866e55",
   "outputs": [
    {
     "data": {
      "text/plain": [
       "Map(bounds=[0, 0, 0, 0], center=[0, 20], clicked_latlng=[None, None], token='sk.eyJ1IjoiYWNldGFua2FjZSIsImEiOi…"
      ],
      "application/vnd.jupyter.widget-view+json": {
       "version_major": 2,
       "version_minor": 1,
       "model_id": "abe94648b07747bb88dd78ae99ce6dce"
      }
     },
     "execution_count": 4,
     "metadata": {},
     "output_type": "execute_result"
    }
   ],
   "execution_count": 4
  }
 ],
 "metadata": {
  "kernelspec": {
   "display_name": "Python 3",
   "language": "python",
   "name": "python3"
  },
  "language_info": {
   "codemirror_mode": {
    "name": "ipython",
    "version": 2
   },
   "file_extension": ".py",
   "mimetype": "text/x-python",
   "name": "python",
   "nbconvert_exporter": "python",
   "pygments_lexer": "ipython2",
   "version": "2.7.6"
  }
 },
 "nbformat": 4,
 "nbformat_minor": 5
}
