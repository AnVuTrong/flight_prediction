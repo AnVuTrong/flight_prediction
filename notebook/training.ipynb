{
 "cells": [
  {
   "cell_type": "code",
   "id": "initial_id",
   "metadata": {
    "collapsed": true,
    "ExecuteTime": {
     "end_time": "2024-07-06T06:50:25.213458Z",
     "start_time": "2024-07-06T06:50:22.611891Z"
    }
   },
   "source": [
    "import os\n",
    "import torch\n",
    "import pandas as pd\n",
    "from modules.feature_engineering import FeatureEngineeringV1 \n",
    "from modules.data_module import FlightDataModule\n",
    "from modules.training import TrainingFlightModel\n",
    "from lightning.pytorch.callbacks import ModelCheckpoint, EarlyStopping\n",
    "from lightning.pytorch.loggers import TensorBoardLogger\n",
    "\n",
    "print(torch.__version__)\n",
    "fe = FeatureEngineeringV1()"
   ],
   "outputs": [
    {
     "name": "stdout",
     "output_type": "stream",
     "text": [
      "2.1.2+cu121\n"
     ]
    }
   ],
   "execution_count": 1
  },
  {
   "metadata": {
    "ExecuteTime": {
     "end_time": "2024-07-06T06:50:25.221061Z",
     "start_time": "2024-07-06T06:50:25.214889Z"
    }
   },
   "cell_type": "code",
   "source": "%load_ext tensorboard",
   "id": "5bd68f5b1dcc846b",
   "outputs": [],
   "execution_count": 2
  },
  {
   "metadata": {
    "ExecuteTime": {
     "end_time": "2024-07-06T06:50:25.399233Z",
     "start_time": "2024-07-06T06:50:25.222370Z"
    }
   },
   "cell_type": "code",
   "source": [
    "def get_default_device():\n",
    "    \"\"\"Pick GPU if available, else CPU\"\"\"\n",
    "    if torch.cuda.is_available():\n",
    "        print(f'Using device: {torch.cuda.get_device_name(0)}')\n",
    "        return torch.device('cuda')\n",
    "    elif torch.backends.mps.is_available():\n",
    "        print('Using device: Apple ARM GPU')\n",
    "        return torch.device('mps')\n",
    "    else:\n",
    "        print('Using device: CPU')\n",
    "        return torch.device('cpu')\n",
    "    \n",
    "# Set the device\n",
    "device = get_default_device()\n",
    "print(f'Using device: {device}')"
   ],
   "id": "13e6aaae1d419117",
   "outputs": [
    {
     "name": "stdout",
     "output_type": "stream",
     "text": [
      "Using device: NVIDIA GeForce RTX 3060\n",
      "Using device: cuda\n"
     ]
    }
   ],
   "execution_count": 3
  },
  {
   "metadata": {
    "ExecuteTime": {
     "end_time": "2024-07-06T06:50:25.402609Z",
     "start_time": "2024-07-06T06:50:25.400141Z"
    }
   },
   "cell_type": "code",
   "source": [
    "# Used with GPUs having Tensor cores\n",
    "torch.set_float32_matmul_precision('medium')"
   ],
   "id": "2d87d642479be5b8",
   "outputs": [],
   "execution_count": 4
  },
  {
   "metadata": {
    "ExecuteTime": {
     "end_time": "2024-07-06T06:50:25.837985Z",
     "start_time": "2024-07-06T06:50:25.404488Z"
    }
   },
   "cell_type": "code",
   "source": [
    "processed_df = pd.read_csv('../data/csv/processed.csv')\n",
    "processed_df"
   ],
   "id": "316f6d8253132f0d",
   "outputs": [
    {
     "data": {
      "text/plain": [
       "       wind_speed_TSN  wind_dir_TSN  wind_speed_KADUM  wind_dir_KADUM  \\\n",
       "0            0.928702      0.495425         -0.634564        0.022136   \n",
       "1            0.928702      0.495425         -0.634564        0.023238   \n",
       "2            0.928702      0.495425         -0.634564        0.023238   \n",
       "3            0.928702      0.495425         -0.634564        0.024339   \n",
       "4            0.928702      0.495425         -0.634564        0.024339   \n",
       "...               ...           ...               ...             ...   \n",
       "61380             NaN           NaN               NaN             NaN   \n",
       "61381             NaN           NaN               NaN             NaN   \n",
       "61382             NaN           NaN               NaN             NaN   \n",
       "61383             NaN           NaN               NaN             NaN   \n",
       "61384             NaN           NaN               NaN             NaN   \n",
       "\n",
       "       wind_speed_PATNA  wind_dir_PATNA  wind_speed_SADAS  wind_dir_SADAS  \\\n",
       "0             -1.145864        2.972182         -2.250708        5.614973   \n",
       "1             -1.145864        2.980370         -2.250708        5.623375   \n",
       "2             -1.145864        2.980370         -2.250708        5.623375   \n",
       "3             -1.145864        2.988558         -2.315868        5.640178   \n",
       "4             -1.145864        2.988558         -2.315868        5.640178   \n",
       "...                 ...             ...               ...             ...   \n",
       "61380               NaN             NaN               NaN             NaN   \n",
       "61381               NaN             NaN               NaN             NaN   \n",
       "61382               NaN             NaN               NaN             NaN   \n",
       "61383               NaN             NaN               NaN             NaN   \n",
       "61384               NaN             NaN               NaN             NaN   \n",
       "\n",
       "       wind_speed_DADEN  wind_dir_DADEN  ...    Ac_kts  Time_step    Ac_Lat  \\\n",
       "0             -1.593272        2.974218  ... -2.268434  -1.526071 -1.407072   \n",
       "1             -1.593272        2.963249  ... -2.183981  -1.515271 -1.408670   \n",
       "2             -1.593272        2.963249  ... -1.940006  -1.504471 -1.409917   \n",
       "3             -1.593272        2.957764  ... -1.696031  -1.495831 -1.408996   \n",
       "4             -1.593272        2.957764  ... -1.470824  -1.487191 -1.405175   \n",
       "...                 ...             ...  ...       ...        ...       ...   \n",
       "61380               NaN             NaN  ...       NaN        NaN       NaN   \n",
       "61381               NaN             NaN  ...       NaN        NaN       NaN   \n",
       "61382               NaN             NaN  ...       NaN        NaN       NaN   \n",
       "61383               NaN             NaN  ...       NaN        NaN       NaN   \n",
       "61384               NaN             NaN  ...       NaN        NaN       NaN   \n",
       "\n",
       "         Ac_Lon   Ac_feet  Ac_type_1  Ac_type_2  Phase_1  Phase_2  Phase_3  \n",
       "0     -0.227452 -1.853900        1.0        0.0      1.0      0.0      0.0  \n",
       "1     -0.245917 -1.791555        1.0        0.0      1.0      0.0      0.0  \n",
       "2     -0.266631 -1.762331        1.0        0.0      1.0      0.0      0.0  \n",
       "3     -0.284978 -1.744796        1.0        0.0      1.0      0.0      0.0  \n",
       "4     -0.300484 -1.709727        1.0        0.0      1.0      0.0      0.0  \n",
       "...         ...       ...        ...        ...      ...      ...      ...  \n",
       "61380       NaN       NaN        0.0        1.0      1.0      0.0      0.0  \n",
       "61381       NaN       NaN        0.0        1.0      1.0      0.0      0.0  \n",
       "61382       NaN       NaN        0.0        1.0      1.0      0.0      0.0  \n",
       "61383       NaN       NaN        0.0        1.0      1.0      0.0      0.0  \n",
       "61384       NaN       NaN        0.0        1.0      1.0      0.0      0.0  \n",
       "\n",
       "[61385 rows x 49 columns]"
      ],
      "text/html": [
       "<div>\n",
       "<style scoped>\n",
       "    .dataframe tbody tr th:only-of-type {\n",
       "        vertical-align: middle;\n",
       "    }\n",
       "\n",
       "    .dataframe tbody tr th {\n",
       "        vertical-align: top;\n",
       "    }\n",
       "\n",
       "    .dataframe thead th {\n",
       "        text-align: right;\n",
       "    }\n",
       "</style>\n",
       "<table border=\"1\" class=\"dataframe\">\n",
       "  <thead>\n",
       "    <tr style=\"text-align: right;\">\n",
       "      <th></th>\n",
       "      <th>wind_speed_TSN</th>\n",
       "      <th>wind_dir_TSN</th>\n",
       "      <th>wind_speed_KADUM</th>\n",
       "      <th>wind_dir_KADUM</th>\n",
       "      <th>wind_speed_PATNA</th>\n",
       "      <th>wind_dir_PATNA</th>\n",
       "      <th>wind_speed_SADAS</th>\n",
       "      <th>wind_dir_SADAS</th>\n",
       "      <th>wind_speed_DADEN</th>\n",
       "      <th>wind_dir_DADEN</th>\n",
       "      <th>...</th>\n",
       "      <th>Ac_kts</th>\n",
       "      <th>Time_step</th>\n",
       "      <th>Ac_Lat</th>\n",
       "      <th>Ac_Lon</th>\n",
       "      <th>Ac_feet</th>\n",
       "      <th>Ac_type_1</th>\n",
       "      <th>Ac_type_2</th>\n",
       "      <th>Phase_1</th>\n",
       "      <th>Phase_2</th>\n",
       "      <th>Phase_3</th>\n",
       "    </tr>\n",
       "  </thead>\n",
       "  <tbody>\n",
       "    <tr>\n",
       "      <th>0</th>\n",
       "      <td>0.928702</td>\n",
       "      <td>0.495425</td>\n",
       "      <td>-0.634564</td>\n",
       "      <td>0.022136</td>\n",
       "      <td>-1.145864</td>\n",
       "      <td>2.972182</td>\n",
       "      <td>-2.250708</td>\n",
       "      <td>5.614973</td>\n",
       "      <td>-1.593272</td>\n",
       "      <td>2.974218</td>\n",
       "      <td>...</td>\n",
       "      <td>-2.268434</td>\n",
       "      <td>-1.526071</td>\n",
       "      <td>-1.407072</td>\n",
       "      <td>-0.227452</td>\n",
       "      <td>-1.853900</td>\n",
       "      <td>1.0</td>\n",
       "      <td>0.0</td>\n",
       "      <td>1.0</td>\n",
       "      <td>0.0</td>\n",
       "      <td>0.0</td>\n",
       "    </tr>\n",
       "    <tr>\n",
       "      <th>1</th>\n",
       "      <td>0.928702</td>\n",
       "      <td>0.495425</td>\n",
       "      <td>-0.634564</td>\n",
       "      <td>0.023238</td>\n",
       "      <td>-1.145864</td>\n",
       "      <td>2.980370</td>\n",
       "      <td>-2.250708</td>\n",
       "      <td>5.623375</td>\n",
       "      <td>-1.593272</td>\n",
       "      <td>2.963249</td>\n",
       "      <td>...</td>\n",
       "      <td>-2.183981</td>\n",
       "      <td>-1.515271</td>\n",
       "      <td>-1.408670</td>\n",
       "      <td>-0.245917</td>\n",
       "      <td>-1.791555</td>\n",
       "      <td>1.0</td>\n",
       "      <td>0.0</td>\n",
       "      <td>1.0</td>\n",
       "      <td>0.0</td>\n",
       "      <td>0.0</td>\n",
       "    </tr>\n",
       "    <tr>\n",
       "      <th>2</th>\n",
       "      <td>0.928702</td>\n",
       "      <td>0.495425</td>\n",
       "      <td>-0.634564</td>\n",
       "      <td>0.023238</td>\n",
       "      <td>-1.145864</td>\n",
       "      <td>2.980370</td>\n",
       "      <td>-2.250708</td>\n",
       "      <td>5.623375</td>\n",
       "      <td>-1.593272</td>\n",
       "      <td>2.963249</td>\n",
       "      <td>...</td>\n",
       "      <td>-1.940006</td>\n",
       "      <td>-1.504471</td>\n",
       "      <td>-1.409917</td>\n",
       "      <td>-0.266631</td>\n",
       "      <td>-1.762331</td>\n",
       "      <td>1.0</td>\n",
       "      <td>0.0</td>\n",
       "      <td>1.0</td>\n",
       "      <td>0.0</td>\n",
       "      <td>0.0</td>\n",
       "    </tr>\n",
       "    <tr>\n",
       "      <th>3</th>\n",
       "      <td>0.928702</td>\n",
       "      <td>0.495425</td>\n",
       "      <td>-0.634564</td>\n",
       "      <td>0.024339</td>\n",
       "      <td>-1.145864</td>\n",
       "      <td>2.988558</td>\n",
       "      <td>-2.315868</td>\n",
       "      <td>5.640178</td>\n",
       "      <td>-1.593272</td>\n",
       "      <td>2.957764</td>\n",
       "      <td>...</td>\n",
       "      <td>-1.696031</td>\n",
       "      <td>-1.495831</td>\n",
       "      <td>-1.408996</td>\n",
       "      <td>-0.284978</td>\n",
       "      <td>-1.744796</td>\n",
       "      <td>1.0</td>\n",
       "      <td>0.0</td>\n",
       "      <td>1.0</td>\n",
       "      <td>0.0</td>\n",
       "      <td>0.0</td>\n",
       "    </tr>\n",
       "    <tr>\n",
       "      <th>4</th>\n",
       "      <td>0.928702</td>\n",
       "      <td>0.495425</td>\n",
       "      <td>-0.634564</td>\n",
       "      <td>0.024339</td>\n",
       "      <td>-1.145864</td>\n",
       "      <td>2.988558</td>\n",
       "      <td>-2.315868</td>\n",
       "      <td>5.640178</td>\n",
       "      <td>-1.593272</td>\n",
       "      <td>2.957764</td>\n",
       "      <td>...</td>\n",
       "      <td>-1.470824</td>\n",
       "      <td>-1.487191</td>\n",
       "      <td>-1.405175</td>\n",
       "      <td>-0.300484</td>\n",
       "      <td>-1.709727</td>\n",
       "      <td>1.0</td>\n",
       "      <td>0.0</td>\n",
       "      <td>1.0</td>\n",
       "      <td>0.0</td>\n",
       "      <td>0.0</td>\n",
       "    </tr>\n",
       "    <tr>\n",
       "      <th>...</th>\n",
       "      <td>...</td>\n",
       "      <td>...</td>\n",
       "      <td>...</td>\n",
       "      <td>...</td>\n",
       "      <td>...</td>\n",
       "      <td>...</td>\n",
       "      <td>...</td>\n",
       "      <td>...</td>\n",
       "      <td>...</td>\n",
       "      <td>...</td>\n",
       "      <td>...</td>\n",
       "      <td>...</td>\n",
       "      <td>...</td>\n",
       "      <td>...</td>\n",
       "      <td>...</td>\n",
       "      <td>...</td>\n",
       "      <td>...</td>\n",
       "      <td>...</td>\n",
       "      <td>...</td>\n",
       "      <td>...</td>\n",
       "      <td>...</td>\n",
       "    </tr>\n",
       "    <tr>\n",
       "      <th>61380</th>\n",
       "      <td>NaN</td>\n",
       "      <td>NaN</td>\n",
       "      <td>NaN</td>\n",
       "      <td>NaN</td>\n",
       "      <td>NaN</td>\n",
       "      <td>NaN</td>\n",
       "      <td>NaN</td>\n",
       "      <td>NaN</td>\n",
       "      <td>NaN</td>\n",
       "      <td>NaN</td>\n",
       "      <td>...</td>\n",
       "      <td>NaN</td>\n",
       "      <td>NaN</td>\n",
       "      <td>NaN</td>\n",
       "      <td>NaN</td>\n",
       "      <td>NaN</td>\n",
       "      <td>0.0</td>\n",
       "      <td>1.0</td>\n",
       "      <td>1.0</td>\n",
       "      <td>0.0</td>\n",
       "      <td>0.0</td>\n",
       "    </tr>\n",
       "    <tr>\n",
       "      <th>61381</th>\n",
       "      <td>NaN</td>\n",
       "      <td>NaN</td>\n",
       "      <td>NaN</td>\n",
       "      <td>NaN</td>\n",
       "      <td>NaN</td>\n",
       "      <td>NaN</td>\n",
       "      <td>NaN</td>\n",
       "      <td>NaN</td>\n",
       "      <td>NaN</td>\n",
       "      <td>NaN</td>\n",
       "      <td>...</td>\n",
       "      <td>NaN</td>\n",
       "      <td>NaN</td>\n",
       "      <td>NaN</td>\n",
       "      <td>NaN</td>\n",
       "      <td>NaN</td>\n",
       "      <td>0.0</td>\n",
       "      <td>1.0</td>\n",
       "      <td>1.0</td>\n",
       "      <td>0.0</td>\n",
       "      <td>0.0</td>\n",
       "    </tr>\n",
       "    <tr>\n",
       "      <th>61382</th>\n",
       "      <td>NaN</td>\n",
       "      <td>NaN</td>\n",
       "      <td>NaN</td>\n",
       "      <td>NaN</td>\n",
       "      <td>NaN</td>\n",
       "      <td>NaN</td>\n",
       "      <td>NaN</td>\n",
       "      <td>NaN</td>\n",
       "      <td>NaN</td>\n",
       "      <td>NaN</td>\n",
       "      <td>...</td>\n",
       "      <td>NaN</td>\n",
       "      <td>NaN</td>\n",
       "      <td>NaN</td>\n",
       "      <td>NaN</td>\n",
       "      <td>NaN</td>\n",
       "      <td>0.0</td>\n",
       "      <td>1.0</td>\n",
       "      <td>1.0</td>\n",
       "      <td>0.0</td>\n",
       "      <td>0.0</td>\n",
       "    </tr>\n",
       "    <tr>\n",
       "      <th>61383</th>\n",
       "      <td>NaN</td>\n",
       "      <td>NaN</td>\n",
       "      <td>NaN</td>\n",
       "      <td>NaN</td>\n",
       "      <td>NaN</td>\n",
       "      <td>NaN</td>\n",
       "      <td>NaN</td>\n",
       "      <td>NaN</td>\n",
       "      <td>NaN</td>\n",
       "      <td>NaN</td>\n",
       "      <td>...</td>\n",
       "      <td>NaN</td>\n",
       "      <td>NaN</td>\n",
       "      <td>NaN</td>\n",
       "      <td>NaN</td>\n",
       "      <td>NaN</td>\n",
       "      <td>0.0</td>\n",
       "      <td>1.0</td>\n",
       "      <td>1.0</td>\n",
       "      <td>0.0</td>\n",
       "      <td>0.0</td>\n",
       "    </tr>\n",
       "    <tr>\n",
       "      <th>61384</th>\n",
       "      <td>NaN</td>\n",
       "      <td>NaN</td>\n",
       "      <td>NaN</td>\n",
       "      <td>NaN</td>\n",
       "      <td>NaN</td>\n",
       "      <td>NaN</td>\n",
       "      <td>NaN</td>\n",
       "      <td>NaN</td>\n",
       "      <td>NaN</td>\n",
       "      <td>NaN</td>\n",
       "      <td>...</td>\n",
       "      <td>NaN</td>\n",
       "      <td>NaN</td>\n",
       "      <td>NaN</td>\n",
       "      <td>NaN</td>\n",
       "      <td>NaN</td>\n",
       "      <td>0.0</td>\n",
       "      <td>1.0</td>\n",
       "      <td>1.0</td>\n",
       "      <td>0.0</td>\n",
       "      <td>0.0</td>\n",
       "    </tr>\n",
       "  </tbody>\n",
       "</table>\n",
       "<p>61385 rows × 49 columns</p>\n",
       "</div>"
      ]
     },
     "execution_count": 5,
     "metadata": {},
     "output_type": "execute_result"
    }
   ],
   "execution_count": 5
  },
  {
   "metadata": {
    "ExecuteTime": {
     "end_time": "2024-07-06T07:27:25.249983Z",
     "start_time": "2024-07-06T07:27:25.245205Z"
    }
   },
   "cell_type": "code",
   "source": "processed_df['Ac_id'].unique()",
   "id": "f5c3a41d9ad175c4",
   "outputs": [
    {
     "data": {
      "text/plain": [
       "array(['R6-VJ150-21', 'R6-BL6018-21', 'R6-VJ132-22', 'R6-QH9216-22',\n",
       "       'R6-QH262-22', 'R6-BL6046-22', 'R6-VN248-23', 'R6-VJ198-23',\n",
       "       'R6-QH246-23', 'R6-VJ162-23', 'R6-VJ150-24', 'R6-BL6018-24',\n",
       "       'R6-VN248-24', 'R6-VJ198-24', 'R6-VN7222-25', 'R6-BL6048-25',\n",
       "       'R6-VJ126-25', 'R6-QH224-25', 'R6-QH204-26', 'R6-VJ122-26',\n",
       "       'R6-VU750-26', 'R6-VN244-26', 'R6-VJ150-27', 'R6-VJ6018-27',\n",
       "       'R6-VN248-27', 'R6-VJ198-27', 'R6-VN208-04', 'R6-VN7222-04',\n",
       "       'R6-BL6046-04', 'R6-VJ122-03', 'R6-BL6002-03', 'R6-VN208-03',\n",
       "       'R6-QH204-03', 'R6-VJ156-02', 'R6-VN244-02', 'R6-BL6002-02',\n",
       "       'R6-VJ122-02', 'R6-QH204-02', 'R6-BL6046-01', 'R6-BL6048-01',\n",
       "       'R6-VN244-01', 'R6-VN208-01', 'R6-VJ122-01', 'R6-BL6046-31',\n",
       "       'R6-VJ126-31', 'R6-BL6048-31', 'R6-VN244-31', 'R6-VN7222-31',\n",
       "       'R6-VJ122-31', 'R6-VJ132-30', 'R6-VN216-30', 'R6-VJ162-30',\n",
       "       'R6-VN246-30', 'R6-VN248-30', 'R6-BL6046-29', 'R6-VJ6126-29',\n",
       "       'R6-QH262-29', 'R6-VN258-29', 'R6-VJ132-29', 'R6-VJ162-28',\n",
       "       'R6-QH246-28', 'R6-VJ198-28', 'R6-BL6018-28', 'R6-VJ150-28',\n",
       "       'R6-VN7320-26-11', 'R6-VJ162-26-11', 'R6-VN248-26-11',\n",
       "       'R6-VJ126-26-11', 'R6-BL6012-26-11', 'R6-VN7214-23-11',\n",
       "       'R6-QH240-26-11', 'R6-VN258-26-11', 'R6-VJ6132-26-11',\n",
       "       'R6-VN248-15-11', 'R6-VJ162-15-11', 'R6-VJ126-21', 'R6-VN246-21',\n",
       "       'R6-VJ126-15-11', 'R6-VN7228-12-11', 'R6-VN7240-12-11',\n",
       "       'R6-QH9201-12-11', 'R6-VN7222-12-11', 'R6-BL6012-12-11',\n",
       "       'R6-VN7218-12-11', 'R6-VJ126-12-11', 'R6-VN248-12-11',\n",
       "       'R6-VJ162-12-11', 'R6-VN258-12-11', 'R6-QH240-12-11',\n",
       "       'R6-VN7232-12-11', 'R6-BL6012-13-11', 'R6-VJ126-13-11',\n",
       "       'R6-VN248-13-11', 'R6-VJ162-13-11', 'R6-QH240-13-11',\n",
       "       'R6-VN258-13-11', 'R6-VN7216-13-11', 'R6-BL6012-14-11',\n",
       "       'R6-VJ126-14-11', 'R6-VN248-14-11', 'R6-VJ162-14-11',\n",
       "       'R6-QH240-14-11', 'R6-VN258-14-11', 'R6-VJ6126-15-11',\n",
       "       'R6-VN258-15-11', 'R6-QH240-15-11', 'R6-VN248-23-11',\n",
       "       'R6-VJ126-23-11', 'R6-VJ122-22-11', 'R6-BL6012-22-11',\n",
       "       'R6-VJ126-22-11', 'R6-VN248-22-11', 'R6-VJ6122-22-11',\n",
       "       'R6-VJ162-22-11', 'R6-QH240-22-11', 'R6-VN258-22-11',\n",
       "       'R6-VN7224-22-11', 'R6-VNA299-23-11', 'R6-VL6012-23-11',\n",
       "       'R6-VN7222-23-11', 'R6-VJ6132-23-11', 'R6-VJ6122-23-11',\n",
       "       'R6-VJ162-23-11', 'R6-VN258-23-11', 'R6-QH240-23-11',\n",
       "       'R6-VN240-21', 'R6-QH204-21', 'R6-VN299-21', 'R6-VJ6126-21',\n",
       "       'R6-VJ122-21', 'R6-VN244-21', 'R6-BL6048-21', 'R6-QH224-21',\n",
       "       'R6-VN248-21', 'R6-VJ198-21', 'R6-QH246-21', 'R6-VJ162-21',\n",
       "       'R6-VN216-21', 'R6-VJ132-21', 'R6-VN258-21', 'R6-VU750-22',\n",
       "       'R6-VN240-22', 'R6-QH204-22', 'R6-VJ122-22', 'R6-VN244-22',\n",
       "       'R6-BL6048-22', 'R6-VJ126-22', 'R6-QH244-22', 'R6-VN246-22',\n",
       "       'R6-VJ150-22', 'R6-BL6018-22', 'R6-VN248-22', 'R6-VJ198-22',\n",
       "       'R6-QH246-22', 'R6-VJ162-22', 'R6-VN216-22', 'R6-VN240-23',\n",
       "       'R6-VJ122-23', 'R6-VU750-23', 'R6-VN244-23', 'R6-BL6048-23',\n",
       "       'R6-VJ126-23', 'R6-QH224-23', 'R6-VN246-23', 'R6-VJ150-23',\n",
       "       'R6-BL6018-23', 'R6-VN216-23', 'R6-VJ132-23', 'R6-VN258-23',\n",
       "       'R6-QH262-23', 'R6-VN7244-23', 'R6-BL6046-24', 'R6-VN240-24',\n",
       "       'R6-QH204-24', 'R6-VJ122-24', 'R6-VU750-24', 'R6-VN244-24',\n",
       "       'R6-BL6048-24', 'R6-VJ126-24', 'R6-QH244-24', 'R6-VN246-24',\n",
       "       'R6-QH246-24', 'R6-VJ162-24', 'R6-VN216-24', 'R6-VJ132-24',\n",
       "       'R6-QH262-24', 'R6-BL6046-25', 'R6-VN240-25', 'R6-QH204-25',\n",
       "       'R6-VJ750-25', 'R6-VJ122-25', 'R6-VN246-25', 'R6-VJ150-25',\n",
       "       'R6-BL6018-25', 'R6-VN248-25', 'R6-VJ198-25', 'R6-QH246-25',\n",
       "       'R6-VJ162-25', 'R6-VN216-25', 'R6-VJ132-25', 'R6-VN258-25',\n",
       "       'R6-QH262-25', 'R6-VN240-26', 'R6-BL6048-26', 'R6-QH224-26',\n",
       "       'R6-VJ126-26', 'R6-VN246-26', 'R6-VJ150-26', 'R6-BL6018-26',\n",
       "       'R6-VN248-26', 'R6-VJ162-26', 'R6-VN216-26', 'R6-VN258-26',\n",
       "       'R6-QH262-26', 'R6-VJ6126-26', 'R6-BL6046-27', 'R6-VN240-27',\n",
       "       'R6-VN204-27', 'R6-VJ122-27', 'R6-VN244-27', 'R6-BL6048-27',\n",
       "       'R6-VJ126-27', 'R6-QH224-27', 'R6-VN246-27', 'R6-QH246-27',\n",
       "       'R6-VJ162-27', 'R6-VN216-27', 'R6-VJ132-27', 'R6-VN258-27',\n",
       "       'R6-QH262-27', 'R6-VJ6126-27', 'R6-VN240-28', 'R6-QH204-28',\n",
       "       'R6-VJ122-28', 'R6-VN7222-28', 'R6-VN244-28', 'R6-BL6048-28',\n",
       "       'R6-QH224-28', 'R6-VJ126-28', 'R6-VN246-28', 'R6-VN248-28',\n",
       "       'R6-VN216-28', 'R6-VN258-28', 'R6-VN240-29', 'R6-QH204-29',\n",
       "       'R6-VU750-29', 'R6-VJ122-29', 'R6-VN7222-29', 'R6-VN244-29',\n",
       "       'R6-BL6048-29', 'R6-QH244-29', 'R6-VJ126-29', 'R6-VN246-29',\n",
       "       'R6-VJ150-29', 'R6-BL6018-29', 'R6-VN248-29', 'R6-VJ198-29',\n",
       "       'R6-QH246-29', 'R6-VJ162-29', 'R6-VN216-29', 'R6-VN240-30',\n",
       "       'R6-QH204-30', 'R6-VJ122-30', 'R6-VN244-30', 'R6-BL6048-30',\n",
       "       'R6-VN224-30', 'R6-VJ150-30', 'R6-BL6018-30', 'R6-VN258-30',\n",
       "       'R6-QH262-30', 'R6-QH9455-30', 'R6-QH9457-30', 'R6-VJ6126-30',\n",
       "       'R6-BL6046-30', 'R6-VN240-31', 'R6-QH224-31', 'R6-VN246-31',\n",
       "       'R6-VJ150-31', 'R6-BL6018-31', 'R6-VN248-31', 'R6-VJ198-31',\n",
       "       'R6-QH246-31', 'R6-VJ162-31', 'R6-VN216-31', 'R6-VJ134-31',\n",
       "       'R6-VN258-31', 'R6-QH262-31', 'R6-QH204-01', 'R6-QH224-01',\n",
       "       'R6-VJ126-01', 'R6-VN212-01', 'R6-VJ150-01', 'R6-BL6018-01',\n",
       "       'R6-VN214-01', 'R6-VJ198-01', 'R6-VJ162-01', 'R6-VN216-01',\n",
       "       'R6-VJ132-01', 'R6-VN258-01', 'R6-VJ156-01', 'R6-QH262-01',\n",
       "       'R6-BL6048-02', 'R6-QH224-02', 'R6-VJ126-02', 'R6-VN212-02',\n",
       "       'R6-VJ150-02', 'R6-BL6018-02', 'R6-VN214-02', 'R6-VJ198-02',\n",
       "       'R6-QH246-02', 'R6-VJ162-02', 'R6-VN216-02', 'R6-VJ132-02',\n",
       "       'R6-VN218-02', 'R6-QH262-02', 'R6-VN258-02', 'R6-VN244-03',\n",
       "       'R6-BL6048-03', 'R6-VJ126-03', 'R6-QH224-03', 'R6-VN212-03',\n",
       "       'R6-BL6018-03', 'R6-VJ150-03', 'R6-VN214-03', 'R6-VJ198-03',\n",
       "       'R6-VU752-03', 'R6-QH246-03', 'R6-VJ162-03', 'R6-VN216-03',\n",
       "       'R6-VJ132-03', 'R6-VN218-03', 'R6-VJ156-03', 'R6-QH262-03',\n",
       "       'R6-VN258-03', 'R6-VN244-04', 'R6-BL6048-04', 'R6-QH224-04',\n",
       "       'R6-VJ126-04', 'R6-VN212-04', 'R6-BL6018-04', 'R6-VJ150-04',\n",
       "       'R6-VN214-04', 'R6-VJ198-04', 'R6-QH246-04', 'R6-VU752-04',\n",
       "       'R6-VJ162-04', 'R6-VN126-04', 'R6-VJ132-04', 'R6-VN218-04',\n",
       "       'R6-VJ156-04', 'R6-QH262-04', 'R6-VN258-04', nan], dtype=object)"
      ]
     },
     "execution_count": 20,
     "metadata": {},
     "output_type": "execute_result"
    }
   ],
   "execution_count": 20
  },
  {
   "metadata": {
    "ExecuteTime": {
     "end_time": "2024-07-06T07:27:27.136998Z",
     "start_time": "2024-07-06T07:27:26.238993Z"
    }
   },
   "cell_type": "code",
   "source": [
    "X, y = fe.padding_features(processed_df)\n",
    "X[352]"
   ],
   "id": "af39ca400acef24",
   "outputs": [
    {
     "data": {
      "text/plain": [
       "array([], shape=(0, 42), dtype=float64)"
      ]
     },
     "execution_count": 21,
     "metadata": {},
     "output_type": "execute_result"
    }
   ],
   "execution_count": 21
  },
  {
   "metadata": {
    "ExecuteTime": {
     "end_time": "2024-07-03T19:11:46.091415Z",
     "start_time": "2024-07-03T19:11:45.913158Z"
    }
   },
   "cell_type": "code",
   "source": [
    "X_train, X_val, X_test, y_train, y_val, y_test = fe.split_train_test(X, y, test_size=0.2, val_size=0.25)\n",
    "print(f'Shape of training set is {X_train.shape}, {y_train.shape}')\n",
    "print(f'Shape of validation set is {X_val.shape}, {y_val.shape}')\n",
    "print(f'Shape of test set is {X_test.shape}, {y_test.shape}')"
   ],
   "id": "73459bc64e412df7",
   "outputs": [
    {
     "name": "stdout",
     "output_type": "stream",
     "text": [
      "Shape of training set is (281, 6616, 36), (281, 6616, 4)\n",
      "Shape of validation set is (53, 6616, 36), (53, 6616, 4)\n",
      "Shape of test set is (18, 6616, 36), (18, 6616, 4)\n"
     ]
    }
   ],
   "execution_count": 7
  },
  {
   "metadata": {
    "ExecuteTime": {
     "end_time": "2024-07-03T19:11:46.154147Z",
     "start_time": "2024-07-03T19:11:46.092526Z"
    }
   },
   "cell_type": "code",
   "source": [
    "train_dataset, val_dataset, test_dataset = fe.make_tensor_dataset(X_train, X_val, X_test, y_train, y_val, y_test)\n",
    "print(f'training set is {train_dataset}')\n",
    "print(f'validation set is {val_dataset}')\n",
    "print(f'test set is {test_dataset}')"
   ],
   "id": "cc9f58442c45829",
   "outputs": [
    {
     "name": "stdout",
     "output_type": "stream",
     "text": [
      "training set is <torch.utils.data.dataset.TensorDataset object at 0x7fce24034c50>\n",
      "validation set is <torch.utils.data.dataset.TensorDataset object at 0x7fce23f9ec90>\n",
      "test set is <torch.utils.data.dataset.TensorDataset object at 0x7fce240344d0>\n"
     ]
    }
   ],
   "execution_count": 8
  },
  {
   "metadata": {},
   "cell_type": "markdown",
   "source": [
    "# TRAINING\n",
    "\n",
    "---"
   ],
   "id": "5b43b4f4bf85801e"
  },
  {
   "metadata": {
    "ExecuteTime": {
     "end_time": "2024-07-03T19:11:46.158821Z",
     "start_time": "2024-07-03T19:11:46.155876Z"
    }
   },
   "cell_type": "code",
   "source": [
    "# Global variables\n",
    "batch_size_variable = 16\n",
    "max_epochs = 200"
   ],
   "id": "60c4edaa8a6eaa58",
   "outputs": [],
   "execution_count": 9
  },
  {
   "metadata": {
    "ExecuteTime": {
     "end_time": "2024-07-03T19:11:46.165954Z",
     "start_time": "2024-07-03T19:11:46.161899Z"
    }
   },
   "cell_type": "code",
   "source": "flight_dm = FlightDataModule(train_dataset, val_dataset, test_dataset, batch_size=batch_size_variable)",
   "id": "eb5fb1d7ee147bf2",
   "outputs": [],
   "execution_count": 10
  },
  {
   "metadata": {
    "ExecuteTime": {
     "end_time": "2024-07-03T19:11:46.172433Z",
     "start_time": "2024-07-03T19:11:46.167734Z"
    }
   },
   "cell_type": "code",
   "source": [
    "model_name = 'flight_model_LSTM_V1'\n",
    "base_dir = os.getcwd().replace('notebook', '')\n",
    "log_dir = os.path.join(base_dir, 'log')\n",
    "ckpt_dir = os.path.join(base_dir, model_name)\n",
    "os.makedirs(log_dir, exist_ok=True)"
   ],
   "id": "65012f1ba55c16cc",
   "outputs": [],
   "execution_count": 11
  },
  {
   "metadata": {
    "ExecuteTime": {
     "end_time": "2024-07-03T19:11:46.176756Z",
     "start_time": "2024-07-03T19:11:46.173481Z"
    }
   },
   "cell_type": "code",
   "source": "log_dir",
   "id": "69ec9a2c82527150",
   "outputs": [
    {
     "data": {
      "text/plain": [
       "'/mnt/e/Work/chi_phuong_co_su/log'"
      ]
     },
     "execution_count": 12,
     "metadata": {},
     "output_type": "execute_result"
    }
   ],
   "execution_count": 12
  },
  {
   "metadata": {
    "ExecuteTime": {
     "end_time": "2024-07-03T19:11:46.185144Z",
     "start_time": "2024-07-03T19:11:46.177806Z"
    }
   },
   "cell_type": "code",
   "source": [
    "# Some necessary callbacks\n",
    "early_stopping = EarlyStopping(monitor='val_loss', patience=10, verbose=True, mode='min')\n",
    "model_checkpoint = ModelCheckpoint(\n",
    "    dirpath=log_dir,\n",
    "    filename='LSTM-{epoch}-{val_loss:.5f}',\n",
    "    monitor='val_loss', \n",
    "    save_top_k=3, \n",
    "    verbose=True, \n",
    "    mode='min'\n",
    ")\n",
    "logger = TensorBoardLogger(log_dir, name=model_name, log_graph=True)"
   ],
   "id": "8a26b0d36d837eb0",
   "outputs": [],
   "execution_count": 13
  },
  {
   "metadata": {
    "ExecuteTime": {
     "end_time": "2024-07-03T19:11:46.296801Z",
     "start_time": "2024-07-03T19:11:46.186084Z"
    }
   },
   "cell_type": "code",
   "source": [
    "training_module = TrainingFlightModel(\n",
    "    early_stopping_lstm = early_stopping,\n",
    "    model_checkpoint_lstm = model_checkpoint,\n",
    "    logger_lstm = logger,\n",
    "    data_module = flight_dm,\n",
    "    max_epoch=max_epochs,\n",
    ")"
   ],
   "id": "9cd16e81da4b2a21",
   "outputs": [
    {
     "name": "stderr",
     "output_type": "stream",
     "text": [
      "GPU available: True (cuda), used: True\n",
      "TPU available: False, using: 0 TPU cores\n",
      "IPU available: False, using: 0 IPUs\n",
      "HPU available: False, using: 0 HPUs\n"
     ]
    }
   ],
   "execution_count": 14
  },
  {
   "metadata": {
    "ExecuteTime": {
     "end_time": "2024-07-03T20:00:26.681365Z",
     "start_time": "2024-07-03T19:11:46.297722Z"
    }
   },
   "cell_type": "code",
   "source": [
    "training_module.training(\n",
    "    input_size=36, \n",
    "    hidden_size=300, \n",
    "    num_layers=10,\n",
    "    output_size=4, \n",
    "    learning_rate=1e-4,\n",
    "    dropout=0.1,\n",
    ")"
   ],
   "id": "a7d78f64fda6300",
   "outputs": [
    {
     "name": "stderr",
     "output_type": "stream",
     "text": [
      "Missing logger folder: /mnt/e/Work/chi_phuong_co_su/log/flight_model_LSTM_V0\n",
      "/home/anvutrong/miniconda3/envs/wsl_env/lib/python3.11/site-packages/lightning/pytorch/callbacks/model_checkpoint.py:653: Checkpoint directory /mnt/e/Work/chi_phuong_co_su/log exists and is not empty.\n",
      "LOCAL_RANK: 0 - CUDA_VISIBLE_DEVICES: [0]\n",
      "\n",
      "  | Name | Type             | Params | In sizes                                    | Out sizes                                   \n",
      "---------------------------------------------------------------------------------------------------------------------------------------\n",
      "0 | lstm | LSTM             | 3.3 M  | [[1, 6616, 36], [[5, 1, 300], [5, 1, 300]]] | [[1, 6616, 300], [[5, 1, 300], [5, 1, 300]]]\n",
      "1 | fc   | Linear           | 1.2 K  | [1, 6616, 300]                              | [1, 6616, 4]                                \n",
      "2 | loss | MSELoss          | 0      | ?                                           | ?                                           \n",
      "3 | mse  | MeanSquaredError | 0      | ?                                           | ?                                           \n",
      "---------------------------------------------------------------------------------------------------------------------------------------\n",
      "3.3 M     Trainable params\n",
      "0         Non-trainable params\n",
      "3.3 M     Total params\n",
      "13.186    Total estimated model params size (MB)\n"
     ]
    },
    {
     "data": {
      "text/plain": [
       "Sanity Checking: |          | 0/? [00:00<?, ?it/s]"
      ],
      "application/vnd.jupyter.widget-view+json": {
       "version_major": 2,
       "version_minor": 0,
       "model_id": "766cc9c3e09c4c44b0db2fead6897ee7"
      }
     },
     "metadata": {},
     "output_type": "display_data"
    },
    {
     "data": {
      "text/plain": [
       "Training: |          | 0/? [00:00<?, ?it/s]"
      ],
      "application/vnd.jupyter.widget-view+json": {
       "version_major": 2,
       "version_minor": 0,
       "model_id": "0c3b61903762470bb29b659aed3c15a9"
      }
     },
     "metadata": {},
     "output_type": "display_data"
    },
    {
     "data": {
      "text/plain": [
       "Validation: |          | 0/? [00:00<?, ?it/s]"
      ],
      "application/vnd.jupyter.widget-view+json": {
       "version_major": 2,
       "version_minor": 0,
       "model_id": "3c4e2839df234f84911bb23de17f0001"
      }
     },
     "metadata": {},
     "output_type": "display_data"
    },
    {
     "name": "stderr",
     "output_type": "stream",
     "text": [
      "Metric val_loss improved. New best score: 0.008\n",
      "Epoch 0, global step 18: 'val_loss' reached 0.00828 (best 0.00828), saving model to '/mnt/e/Work/chi_phuong_co_su/log/epoch=0-val_loss=0.01.ckpt' as top 3\n"
     ]
    },
    {
     "data": {
      "text/plain": [
       "Validation: |          | 0/? [00:00<?, ?it/s]"
      ],
      "application/vnd.jupyter.widget-view+json": {
       "version_major": 2,
       "version_minor": 0,
       "model_id": "d0c67e1c4eff49df99227c73a41c6060"
      }
     },
     "metadata": {},
     "output_type": "display_data"
    },
    {
     "name": "stderr",
     "output_type": "stream",
     "text": [
      "Metric val_loss improved by 0.000 >= min_delta = 0.0. New best score: 0.008\n",
      "Epoch 1, global step 36: 'val_loss' reached 0.00812 (best 0.00812), saving model to '/mnt/e/Work/chi_phuong_co_su/log/epoch=1-val_loss=0.01.ckpt' as top 3\n"
     ]
    },
    {
     "data": {
      "text/plain": [
       "Validation: |          | 0/? [00:00<?, ?it/s]"
      ],
      "application/vnd.jupyter.widget-view+json": {
       "version_major": 2,
       "version_minor": 0,
       "model_id": "99b961a6f31e4af3a2efb1d4367dfa0a"
      }
     },
     "metadata": {},
     "output_type": "display_data"
    },
    {
     "name": "stderr",
     "output_type": "stream",
     "text": [
      "Metric val_loss improved by 0.000 >= min_delta = 0.0. New best score: 0.008\n",
      "Epoch 2, global step 54: 'val_loss' reached 0.00808 (best 0.00808), saving model to '/mnt/e/Work/chi_phuong_co_su/log/epoch=2-val_loss=0.01.ckpt' as top 3\n"
     ]
    },
    {
     "data": {
      "text/plain": [
       "Validation: |          | 0/? [00:00<?, ?it/s]"
      ],
      "application/vnd.jupyter.widget-view+json": {
       "version_major": 2,
       "version_minor": 0,
       "model_id": "47c10514ac544880ada48712270adabe"
      }
     },
     "metadata": {},
     "output_type": "display_data"
    },
    {
     "name": "stderr",
     "output_type": "stream",
     "text": [
      "Metric val_loss improved by 0.000 >= min_delta = 0.0. New best score: 0.008\n",
      "Epoch 3, global step 72: 'val_loss' reached 0.00797 (best 0.00797), saving model to '/mnt/e/Work/chi_phuong_co_su/log/epoch=3-val_loss=0.01.ckpt' as top 3\n"
     ]
    },
    {
     "data": {
      "text/plain": [
       "Validation: |          | 0/? [00:00<?, ?it/s]"
      ],
      "application/vnd.jupyter.widget-view+json": {
       "version_major": 2,
       "version_minor": 0,
       "model_id": "4f637fffd8584d5e8167402c95256a33"
      }
     },
     "metadata": {},
     "output_type": "display_data"
    },
    {
     "name": "stderr",
     "output_type": "stream",
     "text": [
      "Metric val_loss improved by 0.000 >= min_delta = 0.0. New best score: 0.008\n",
      "Epoch 4, global step 90: 'val_loss' reached 0.00756 (best 0.00756), saving model to '/mnt/e/Work/chi_phuong_co_su/log/epoch=4-val_loss=0.01.ckpt' as top 3\n"
     ]
    },
    {
     "data": {
      "text/plain": [
       "Validation: |          | 0/? [00:00<?, ?it/s]"
      ],
      "application/vnd.jupyter.widget-view+json": {
       "version_major": 2,
       "version_minor": 0,
       "model_id": "1bb59a1edd0f4418b2ec19f49c48250e"
      }
     },
     "metadata": {},
     "output_type": "display_data"
    },
    {
     "name": "stderr",
     "output_type": "stream",
     "text": [
      "Metric val_loss improved by 0.002 >= min_delta = 0.0. New best score: 0.005\n",
      "Epoch 5, global step 108: 'val_loss' reached 0.00532 (best 0.00532), saving model to '/mnt/e/Work/chi_phuong_co_su/log/epoch=5-val_loss=0.01.ckpt' as top 3\n"
     ]
    },
    {
     "data": {
      "text/plain": [
       "Validation: |          | 0/? [00:00<?, ?it/s]"
      ],
      "application/vnd.jupyter.widget-view+json": {
       "version_major": 2,
       "version_minor": 0,
       "model_id": "959ddd413f104fdf89dc835939e96163"
      }
     },
     "metadata": {},
     "output_type": "display_data"
    },
    {
     "name": "stderr",
     "output_type": "stream",
     "text": [
      "Metric val_loss improved by 0.003 >= min_delta = 0.0. New best score: 0.002\n",
      "Epoch 6, global step 126: 'val_loss' reached 0.00239 (best 0.00239), saving model to '/mnt/e/Work/chi_phuong_co_su/log/epoch=6-val_loss=0.00.ckpt' as top 3\n"
     ]
    },
    {
     "data": {
      "text/plain": [
       "Validation: |          | 0/? [00:00<?, ?it/s]"
      ],
      "application/vnd.jupyter.widget-view+json": {
       "version_major": 2,
       "version_minor": 0,
       "model_id": "c0456d40d4174537ba1f061529c956bc"
      }
     },
     "metadata": {},
     "output_type": "display_data"
    },
    {
     "name": "stderr",
     "output_type": "stream",
     "text": [
      "Metric val_loss improved by 0.000 >= min_delta = 0.0. New best score: 0.002\n",
      "Epoch 7, global step 144: 'val_loss' reached 0.00221 (best 0.00221), saving model to '/mnt/e/Work/chi_phuong_co_su/log/epoch=7-val_loss=0.00.ckpt' as top 3\n"
     ]
    },
    {
     "data": {
      "text/plain": [
       "Validation: |          | 0/? [00:00<?, ?it/s]"
      ],
      "application/vnd.jupyter.widget-view+json": {
       "version_major": 2,
       "version_minor": 0,
       "model_id": "7f82839da73544bca16091b50e7974ad"
      }
     },
     "metadata": {},
     "output_type": "display_data"
    },
    {
     "name": "stderr",
     "output_type": "stream",
     "text": [
      "Metric val_loss improved by 0.000 >= min_delta = 0.0. New best score: 0.002\n",
      "Epoch 8, global step 162: 'val_loss' reached 0.00216 (best 0.00216), saving model to '/mnt/e/Work/chi_phuong_co_su/log/epoch=8-val_loss=0.00.ckpt' as top 3\n"
     ]
    },
    {
     "data": {
      "text/plain": [
       "Validation: |          | 0/? [00:00<?, ?it/s]"
      ],
      "application/vnd.jupyter.widget-view+json": {
       "version_major": 2,
       "version_minor": 0,
       "model_id": "8d899c81d6834af9aba1c73cc253c4f1"
      }
     },
     "metadata": {},
     "output_type": "display_data"
    },
    {
     "name": "stderr",
     "output_type": "stream",
     "text": [
      "Metric val_loss improved by 0.000 >= min_delta = 0.0. New best score: 0.002\n",
      "Epoch 9, global step 180: 'val_loss' reached 0.00216 (best 0.00216), saving model to '/mnt/e/Work/chi_phuong_co_su/log/epoch=9-val_loss=0.00.ckpt' as top 3\n"
     ]
    },
    {
     "data": {
      "text/plain": [
       "Validation: |          | 0/? [00:00<?, ?it/s]"
      ],
      "application/vnd.jupyter.widget-view+json": {
       "version_major": 2,
       "version_minor": 0,
       "model_id": "9e948a4d1ebd40a3b2abd5634e254211"
      }
     },
     "metadata": {},
     "output_type": "display_data"
    },
    {
     "name": "stderr",
     "output_type": "stream",
     "text": [
      "Metric val_loss improved by 0.000 >= min_delta = 0.0. New best score: 0.002\n",
      "Epoch 10, global step 198: 'val_loss' reached 0.00215 (best 0.00215), saving model to '/mnt/e/Work/chi_phuong_co_su/log/epoch=10-val_loss=0.00.ckpt' as top 3\n"
     ]
    },
    {
     "data": {
      "text/plain": [
       "Validation: |          | 0/? [00:00<?, ?it/s]"
      ],
      "application/vnd.jupyter.widget-view+json": {
       "version_major": 2,
       "version_minor": 0,
       "model_id": "a65973b686f94fbb872e14483059ac26"
      }
     },
     "metadata": {},
     "output_type": "display_data"
    },
    {
     "name": "stderr",
     "output_type": "stream",
     "text": [
      "Metric val_loss improved by 0.000 >= min_delta = 0.0. New best score: 0.002\n",
      "Epoch 11, global step 216: 'val_loss' reached 0.00215 (best 0.00215), saving model to '/mnt/e/Work/chi_phuong_co_su/log/epoch=11-val_loss=0.00.ckpt' as top 3\n"
     ]
    },
    {
     "data": {
      "text/plain": [
       "Validation: |          | 0/? [00:00<?, ?it/s]"
      ],
      "application/vnd.jupyter.widget-view+json": {
       "version_major": 2,
       "version_minor": 0,
       "model_id": "b342a6d22369419098f3106233ab9a85"
      }
     },
     "metadata": {},
     "output_type": "display_data"
    },
    {
     "name": "stderr",
     "output_type": "stream",
     "text": [
      "Metric val_loss improved by 0.000 >= min_delta = 0.0. New best score: 0.002\n",
      "Epoch 12, global step 234: 'val_loss' reached 0.00215 (best 0.00215), saving model to '/mnt/e/Work/chi_phuong_co_su/log/epoch=12-val_loss=0.00.ckpt' as top 3\n"
     ]
    },
    {
     "data": {
      "text/plain": [
       "Validation: |          | 0/? [00:00<?, ?it/s]"
      ],
      "application/vnd.jupyter.widget-view+json": {
       "version_major": 2,
       "version_minor": 0,
       "model_id": "99ae43e5043d450382aa7397918dd324"
      }
     },
     "metadata": {},
     "output_type": "display_data"
    },
    {
     "name": "stderr",
     "output_type": "stream",
     "text": [
      "Metric val_loss improved by 0.000 >= min_delta = 0.0. New best score: 0.002\n",
      "Epoch 13, global step 252: 'val_loss' reached 0.00215 (best 0.00215), saving model to '/mnt/e/Work/chi_phuong_co_su/log/epoch=13-val_loss=0.00.ckpt' as top 3\n"
     ]
    },
    {
     "data": {
      "text/plain": [
       "Validation: |          | 0/? [00:00<?, ?it/s]"
      ],
      "application/vnd.jupyter.widget-view+json": {
       "version_major": 2,
       "version_minor": 0,
       "model_id": "349c2aa042864062a16be36a9298eb6d"
      }
     },
     "metadata": {},
     "output_type": "display_data"
    },
    {
     "name": "stderr",
     "output_type": "stream",
     "text": [
      "Metric val_loss improved by 0.000 >= min_delta = 0.0. New best score: 0.002\n",
      "Epoch 14, global step 270: 'val_loss' reached 0.00215 (best 0.00215), saving model to '/mnt/e/Work/chi_phuong_co_su/log/epoch=14-val_loss=0.00.ckpt' as top 3\n"
     ]
    },
    {
     "data": {
      "text/plain": [
       "Validation: |          | 0/? [00:00<?, ?it/s]"
      ],
      "application/vnd.jupyter.widget-view+json": {
       "version_major": 2,
       "version_minor": 0,
       "model_id": "285bb57a3e3f48d9b1d04ddaa886aad6"
      }
     },
     "metadata": {},
     "output_type": "display_data"
    },
    {
     "name": "stderr",
     "output_type": "stream",
     "text": [
      "Metric val_loss improved by 0.000 >= min_delta = 0.0. New best score: 0.002\n",
      "Epoch 15, global step 288: 'val_loss' reached 0.00215 (best 0.00215), saving model to '/mnt/e/Work/chi_phuong_co_su/log/epoch=15-val_loss=0.00.ckpt' as top 3\n"
     ]
    },
    {
     "data": {
      "text/plain": [
       "Validation: |          | 0/? [00:00<?, ?it/s]"
      ],
      "application/vnd.jupyter.widget-view+json": {
       "version_major": 2,
       "version_minor": 0,
       "model_id": "0c40a4aaa1274b62be3d0b2ce2d25384"
      }
     },
     "metadata": {},
     "output_type": "display_data"
    },
    {
     "name": "stderr",
     "output_type": "stream",
     "text": [
      "Metric val_loss improved by 0.000 >= min_delta = 0.0. New best score: 0.002\n",
      "Epoch 16, global step 306: 'val_loss' reached 0.00215 (best 0.00215), saving model to '/mnt/e/Work/chi_phuong_co_su/log/epoch=16-val_loss=0.00.ckpt' as top 3\n"
     ]
    },
    {
     "data": {
      "text/plain": [
       "Validation: |          | 0/? [00:00<?, ?it/s]"
      ],
      "application/vnd.jupyter.widget-view+json": {
       "version_major": 2,
       "version_minor": 0,
       "model_id": "ce9721a4c0f14cc0b1dd8f13728d23d9"
      }
     },
     "metadata": {},
     "output_type": "display_data"
    },
    {
     "name": "stderr",
     "output_type": "stream",
     "text": [
      "Metric val_loss improved by 0.000 >= min_delta = 0.0. New best score: 0.002\n",
      "Epoch 17, global step 324: 'val_loss' reached 0.00215 (best 0.00215), saving model to '/mnt/e/Work/chi_phuong_co_su/log/epoch=17-val_loss=0.00.ckpt' as top 3\n"
     ]
    },
    {
     "data": {
      "text/plain": [
       "Validation: |          | 0/? [00:00<?, ?it/s]"
      ],
      "application/vnd.jupyter.widget-view+json": {
       "version_major": 2,
       "version_minor": 0,
       "model_id": "64f67510b914461497333ededf5eb9ef"
      }
     },
     "metadata": {},
     "output_type": "display_data"
    },
    {
     "name": "stderr",
     "output_type": "stream",
     "text": [
      "Metric val_loss improved by 0.000 >= min_delta = 0.0. New best score: 0.002\n",
      "Epoch 18, global step 342: 'val_loss' reached 0.00214 (best 0.00214), saving model to '/mnt/e/Work/chi_phuong_co_su/log/epoch=18-val_loss=0.00.ckpt' as top 3\n"
     ]
    },
    {
     "data": {
      "text/plain": [
       "Validation: |          | 0/? [00:00<?, ?it/s]"
      ],
      "application/vnd.jupyter.widget-view+json": {
       "version_major": 2,
       "version_minor": 0,
       "model_id": "5ead90c4faa4454c8d64f473c5fa4f77"
      }
     },
     "metadata": {},
     "output_type": "display_data"
    },
    {
     "name": "stderr",
     "output_type": "stream",
     "text": [
      "Metric val_loss improved by 0.000 >= min_delta = 0.0. New best score: 0.002\n",
      "Epoch 19, global step 360: 'val_loss' reached 0.00214 (best 0.00214), saving model to '/mnt/e/Work/chi_phuong_co_su/log/epoch=19-val_loss=0.00.ckpt' as top 3\n"
     ]
    },
    {
     "data": {
      "text/plain": [
       "Validation: |          | 0/? [00:00<?, ?it/s]"
      ],
      "application/vnd.jupyter.widget-view+json": {
       "version_major": 2,
       "version_minor": 0,
       "model_id": "afaf1c54ecd84dfa99e1132956d16e99"
      }
     },
     "metadata": {},
     "output_type": "display_data"
    },
    {
     "name": "stderr",
     "output_type": "stream",
     "text": [
      "Metric val_loss improved by 0.000 >= min_delta = 0.0. New best score: 0.002\n",
      "Epoch 20, global step 378: 'val_loss' reached 0.00214 (best 0.00214), saving model to '/mnt/e/Work/chi_phuong_co_su/log/epoch=20-val_loss=0.00.ckpt' as top 3\n"
     ]
    },
    {
     "data": {
      "text/plain": [
       "Validation: |          | 0/? [00:00<?, ?it/s]"
      ],
      "application/vnd.jupyter.widget-view+json": {
       "version_major": 2,
       "version_minor": 0,
       "model_id": "0d1427aab7ac41108253b5e47b789ffc"
      }
     },
     "metadata": {},
     "output_type": "display_data"
    },
    {
     "name": "stderr",
     "output_type": "stream",
     "text": [
      "Metric val_loss improved by 0.000 >= min_delta = 0.0. New best score: 0.002\n",
      "Epoch 21, global step 396: 'val_loss' reached 0.00214 (best 0.00214), saving model to '/mnt/e/Work/chi_phuong_co_su/log/epoch=21-val_loss=0.00.ckpt' as top 3\n"
     ]
    },
    {
     "data": {
      "text/plain": [
       "Validation: |          | 0/? [00:00<?, ?it/s]"
      ],
      "application/vnd.jupyter.widget-view+json": {
       "version_major": 2,
       "version_minor": 0,
       "model_id": "5e082ada419548be9eb41fcce4a0a3cf"
      }
     },
     "metadata": {},
     "output_type": "display_data"
    },
    {
     "name": "stderr",
     "output_type": "stream",
     "text": [
      "Metric val_loss improved by 0.000 >= min_delta = 0.0. New best score: 0.002\n",
      "Epoch 22, global step 414: 'val_loss' reached 0.00214 (best 0.00214), saving model to '/mnt/e/Work/chi_phuong_co_su/log/epoch=22-val_loss=0.00.ckpt' as top 3\n"
     ]
    },
    {
     "data": {
      "text/plain": [
       "Validation: |          | 0/? [00:00<?, ?it/s]"
      ],
      "application/vnd.jupyter.widget-view+json": {
       "version_major": 2,
       "version_minor": 0,
       "model_id": "fe09d0f34ac043fda0e7566bd85b4d50"
      }
     },
     "metadata": {},
     "output_type": "display_data"
    },
    {
     "name": "stderr",
     "output_type": "stream",
     "text": [
      "Metric val_loss improved by 0.000 >= min_delta = 0.0. New best score: 0.002\n",
      "Epoch 23, global step 432: 'val_loss' reached 0.00214 (best 0.00214), saving model to '/mnt/e/Work/chi_phuong_co_su/log/epoch=23-val_loss=0.00.ckpt' as top 3\n"
     ]
    },
    {
     "data": {
      "text/plain": [
       "Validation: |          | 0/? [00:00<?, ?it/s]"
      ],
      "application/vnd.jupyter.widget-view+json": {
       "version_major": 2,
       "version_minor": 0,
       "model_id": "ccf3300d02774c0da37323db5d65beb0"
      }
     },
     "metadata": {},
     "output_type": "display_data"
    },
    {
     "name": "stderr",
     "output_type": "stream",
     "text": [
      "Metric val_loss improved by 0.000 >= min_delta = 0.0. New best score: 0.002\n",
      "Epoch 24, global step 450: 'val_loss' reached 0.00214 (best 0.00214), saving model to '/mnt/e/Work/chi_phuong_co_su/log/epoch=24-val_loss=0.00.ckpt' as top 3\n"
     ]
    },
    {
     "data": {
      "text/plain": [
       "Validation: |          | 0/? [00:00<?, ?it/s]"
      ],
      "application/vnd.jupyter.widget-view+json": {
       "version_major": 2,
       "version_minor": 0,
       "model_id": "0c1601f6a1c844568a459065904c2ef5"
      }
     },
     "metadata": {},
     "output_type": "display_data"
    },
    {
     "name": "stderr",
     "output_type": "stream",
     "text": [
      "Metric val_loss improved by 0.000 >= min_delta = 0.0. New best score: 0.002\n",
      "Epoch 25, global step 468: 'val_loss' reached 0.00214 (best 0.00214), saving model to '/mnt/e/Work/chi_phuong_co_su/log/epoch=25-val_loss=0.00.ckpt' as top 3\n"
     ]
    },
    {
     "data": {
      "text/plain": [
       "Validation: |          | 0/? [00:00<?, ?it/s]"
      ],
      "application/vnd.jupyter.widget-view+json": {
       "version_major": 2,
       "version_minor": 0,
       "model_id": "7378869a81d7454cb827ce90243875e1"
      }
     },
     "metadata": {},
     "output_type": "display_data"
    },
    {
     "name": "stderr",
     "output_type": "stream",
     "text": [
      "Metric val_loss improved by 0.000 >= min_delta = 0.0. New best score: 0.002\n",
      "Epoch 26, global step 486: 'val_loss' reached 0.00214 (best 0.00214), saving model to '/mnt/e/Work/chi_phuong_co_su/log/epoch=26-val_loss=0.00.ckpt' as top 3\n"
     ]
    },
    {
     "data": {
      "text/plain": [
       "Validation: |          | 0/? [00:00<?, ?it/s]"
      ],
      "application/vnd.jupyter.widget-view+json": {
       "version_major": 2,
       "version_minor": 0,
       "model_id": "9617c8f7a4644a5b96bdb73c178e2976"
      }
     },
     "metadata": {},
     "output_type": "display_data"
    },
    {
     "name": "stderr",
     "output_type": "stream",
     "text": [
      "Metric val_loss improved by 0.000 >= min_delta = 0.0. New best score: 0.002\n",
      "Epoch 27, global step 504: 'val_loss' reached 0.00214 (best 0.00214), saving model to '/mnt/e/Work/chi_phuong_co_su/log/epoch=27-val_loss=0.00.ckpt' as top 3\n"
     ]
    },
    {
     "data": {
      "text/plain": [
       "Validation: |          | 0/? [00:00<?, ?it/s]"
      ],
      "application/vnd.jupyter.widget-view+json": {
       "version_major": 2,
       "version_minor": 0,
       "model_id": "b9807f6304154583aca9b1995334cfd3"
      }
     },
     "metadata": {},
     "output_type": "display_data"
    },
    {
     "name": "stderr",
     "output_type": "stream",
     "text": [
      "Metric val_loss improved by 0.000 >= min_delta = 0.0. New best score: 0.002\n",
      "Epoch 28, global step 522: 'val_loss' reached 0.00214 (best 0.00214), saving model to '/mnt/e/Work/chi_phuong_co_su/log/epoch=28-val_loss=0.00.ckpt' as top 3\n"
     ]
    },
    {
     "data": {
      "text/plain": [
       "Validation: |          | 0/? [00:00<?, ?it/s]"
      ],
      "application/vnd.jupyter.widget-view+json": {
       "version_major": 2,
       "version_minor": 0,
       "model_id": "ad2617227f68445c87ee4b09a381c77c"
      }
     },
     "metadata": {},
     "output_type": "display_data"
    },
    {
     "name": "stderr",
     "output_type": "stream",
     "text": [
      "Metric val_loss improved by 0.000 >= min_delta = 0.0. New best score: 0.002\n",
      "Epoch 29, global step 540: 'val_loss' reached 0.00214 (best 0.00214), saving model to '/mnt/e/Work/chi_phuong_co_su/log/epoch=29-val_loss=0.00.ckpt' as top 3\n"
     ]
    },
    {
     "data": {
      "text/plain": [
       "Validation: |          | 0/? [00:00<?, ?it/s]"
      ],
      "application/vnd.jupyter.widget-view+json": {
       "version_major": 2,
       "version_minor": 0,
       "model_id": "650c0ef70e704c7bae94f055a520bb97"
      }
     },
     "metadata": {},
     "output_type": "display_data"
    },
    {
     "name": "stderr",
     "output_type": "stream",
     "text": [
      "Metric val_loss improved by 0.000 >= min_delta = 0.0. New best score: 0.002\n",
      "Epoch 30, global step 558: 'val_loss' reached 0.00214 (best 0.00214), saving model to '/mnt/e/Work/chi_phuong_co_su/log/epoch=30-val_loss=0.00.ckpt' as top 3\n"
     ]
    },
    {
     "data": {
      "text/plain": [
       "Validation: |          | 0/? [00:00<?, ?it/s]"
      ],
      "application/vnd.jupyter.widget-view+json": {
       "version_major": 2,
       "version_minor": 0,
       "model_id": "2a0612a945e8423cacee02f00b43a463"
      }
     },
     "metadata": {},
     "output_type": "display_data"
    },
    {
     "name": "stderr",
     "output_type": "stream",
     "text": [
      "Metric val_loss improved by 0.000 >= min_delta = 0.0. New best score: 0.002\n",
      "Epoch 31, global step 576: 'val_loss' reached 0.00214 (best 0.00214), saving model to '/mnt/e/Work/chi_phuong_co_su/log/epoch=31-val_loss=0.00.ckpt' as top 3\n"
     ]
    },
    {
     "data": {
      "text/plain": [
       "Validation: |          | 0/? [00:00<?, ?it/s]"
      ],
      "application/vnd.jupyter.widget-view+json": {
       "version_major": 2,
       "version_minor": 0,
       "model_id": "add6f333f58e4476a9a7e403bb4916d4"
      }
     },
     "metadata": {},
     "output_type": "display_data"
    },
    {
     "name": "stderr",
     "output_type": "stream",
     "text": [
      "Metric val_loss improved by 0.000 >= min_delta = 0.0. New best score: 0.002\n",
      "Epoch 32, global step 594: 'val_loss' reached 0.00214 (best 0.00214), saving model to '/mnt/e/Work/chi_phuong_co_su/log/epoch=32-val_loss=0.00.ckpt' as top 3\n"
     ]
    },
    {
     "data": {
      "text/plain": [
       "Validation: |          | 0/? [00:00<?, ?it/s]"
      ],
      "application/vnd.jupyter.widget-view+json": {
       "version_major": 2,
       "version_minor": 0,
       "model_id": "762c78bee65e4e9285fc62eea73fdf8b"
      }
     },
     "metadata": {},
     "output_type": "display_data"
    },
    {
     "name": "stderr",
     "output_type": "stream",
     "text": [
      "Metric val_loss improved by 0.000 >= min_delta = 0.0. New best score: 0.002\n",
      "Epoch 33, global step 612: 'val_loss' reached 0.00214 (best 0.00214), saving model to '/mnt/e/Work/chi_phuong_co_su/log/epoch=33-val_loss=0.00.ckpt' as top 3\n"
     ]
    },
    {
     "data": {
      "text/plain": [
       "Validation: |          | 0/? [00:00<?, ?it/s]"
      ],
      "application/vnd.jupyter.widget-view+json": {
       "version_major": 2,
       "version_minor": 0,
       "model_id": "0a540a5ed80b4131b8ada340027698b8"
      }
     },
     "metadata": {},
     "output_type": "display_data"
    },
    {
     "name": "stderr",
     "output_type": "stream",
     "text": [
      "Metric val_loss improved by 0.000 >= min_delta = 0.0. New best score: 0.002\n",
      "Epoch 34, global step 630: 'val_loss' reached 0.00214 (best 0.00214), saving model to '/mnt/e/Work/chi_phuong_co_su/log/epoch=34-val_loss=0.00.ckpt' as top 3\n"
     ]
    },
    {
     "data": {
      "text/plain": [
       "Validation: |          | 0/? [00:00<?, ?it/s]"
      ],
      "application/vnd.jupyter.widget-view+json": {
       "version_major": 2,
       "version_minor": 0,
       "model_id": "9752cc70b8324c729a3da91a733de1eb"
      }
     },
     "metadata": {},
     "output_type": "display_data"
    },
    {
     "name": "stderr",
     "output_type": "stream",
     "text": [
      "Metric val_loss improved by 0.000 >= min_delta = 0.0. New best score: 0.002\n",
      "Epoch 35, global step 648: 'val_loss' reached 0.00214 (best 0.00214), saving model to '/mnt/e/Work/chi_phuong_co_su/log/epoch=35-val_loss=0.00.ckpt' as top 3\n"
     ]
    },
    {
     "data": {
      "text/plain": [
       "Validation: |          | 0/? [00:00<?, ?it/s]"
      ],
      "application/vnd.jupyter.widget-view+json": {
       "version_major": 2,
       "version_minor": 0,
       "model_id": "0a56b3f12f7b41dba88dd55453f8b5be"
      }
     },
     "metadata": {},
     "output_type": "display_data"
    },
    {
     "name": "stderr",
     "output_type": "stream",
     "text": [
      "Metric val_loss improved by 0.000 >= min_delta = 0.0. New best score: 0.002\n",
      "Epoch 36, global step 666: 'val_loss' reached 0.00214 (best 0.00214), saving model to '/mnt/e/Work/chi_phuong_co_su/log/epoch=36-val_loss=0.00.ckpt' as top 3\n"
     ]
    },
    {
     "data": {
      "text/plain": [
       "Validation: |          | 0/? [00:00<?, ?it/s]"
      ],
      "application/vnd.jupyter.widget-view+json": {
       "version_major": 2,
       "version_minor": 0,
       "model_id": "6bee06af5dc74f1fbc38e55fe343c073"
      }
     },
     "metadata": {},
     "output_type": "display_data"
    },
    {
     "name": "stderr",
     "output_type": "stream",
     "text": [
      "Metric val_loss improved by 0.000 >= min_delta = 0.0. New best score: 0.002\n",
      "Epoch 37, global step 684: 'val_loss' reached 0.00214 (best 0.00214), saving model to '/mnt/e/Work/chi_phuong_co_su/log/epoch=37-val_loss=0.00.ckpt' as top 3\n"
     ]
    },
    {
     "data": {
      "text/plain": [
       "Validation: |          | 0/? [00:00<?, ?it/s]"
      ],
      "application/vnd.jupyter.widget-view+json": {
       "version_major": 2,
       "version_minor": 0,
       "model_id": "0e3e993fbad04e029802f0e78b9150fc"
      }
     },
     "metadata": {},
     "output_type": "display_data"
    },
    {
     "name": "stderr",
     "output_type": "stream",
     "text": [
      "Metric val_loss improved by 0.000 >= min_delta = 0.0. New best score: 0.002\n",
      "Epoch 38, global step 702: 'val_loss' reached 0.00214 (best 0.00214), saving model to '/mnt/e/Work/chi_phuong_co_su/log/epoch=38-val_loss=0.00.ckpt' as top 3\n"
     ]
    },
    {
     "data": {
      "text/plain": [
       "Validation: |          | 0/? [00:00<?, ?it/s]"
      ],
      "application/vnd.jupyter.widget-view+json": {
       "version_major": 2,
       "version_minor": 0,
       "model_id": "f889a545895946ffaadf9d987a3270e8"
      }
     },
     "metadata": {},
     "output_type": "display_data"
    },
    {
     "name": "stderr",
     "output_type": "stream",
     "text": [
      "Metric val_loss improved by 0.000 >= min_delta = 0.0. New best score: 0.002\n",
      "Epoch 39, global step 720: 'val_loss' reached 0.00214 (best 0.00214), saving model to '/mnt/e/Work/chi_phuong_co_su/log/epoch=39-val_loss=0.00.ckpt' as top 3\n"
     ]
    },
    {
     "data": {
      "text/plain": [
       "Validation: |          | 0/? [00:00<?, ?it/s]"
      ],
      "application/vnd.jupyter.widget-view+json": {
       "version_major": 2,
       "version_minor": 0,
       "model_id": "ab89d34e5a2042a4be5677f4fc5c941d"
      }
     },
     "metadata": {},
     "output_type": "display_data"
    },
    {
     "name": "stderr",
     "output_type": "stream",
     "text": [
      "Epoch 40, global step 738: 'val_loss' reached 0.00214 (best 0.00214), saving model to '/mnt/e/Work/chi_phuong_co_su/log/epoch=40-val_loss=0.00.ckpt' as top 3\n"
     ]
    },
    {
     "data": {
      "text/plain": [
       "Validation: |          | 0/? [00:00<?, ?it/s]"
      ],
      "application/vnd.jupyter.widget-view+json": {
       "version_major": 2,
       "version_minor": 0,
       "model_id": "98648e9e0886469cab30142ea72b280a"
      }
     },
     "metadata": {},
     "output_type": "display_data"
    },
    {
     "name": "stderr",
     "output_type": "stream",
     "text": [
      "Metric val_loss improved by 0.000 >= min_delta = 0.0. New best score: 0.002\n",
      "Epoch 41, global step 756: 'val_loss' reached 0.00214 (best 0.00214), saving model to '/mnt/e/Work/chi_phuong_co_su/log/epoch=41-val_loss=0.00.ckpt' as top 3\n"
     ]
    },
    {
     "data": {
      "text/plain": [
       "Validation: |          | 0/? [00:00<?, ?it/s]"
      ],
      "application/vnd.jupyter.widget-view+json": {
       "version_major": 2,
       "version_minor": 0,
       "model_id": "2e6f17b98956467db8658bc808de1bea"
      }
     },
     "metadata": {},
     "output_type": "display_data"
    },
    {
     "name": "stderr",
     "output_type": "stream",
     "text": [
      "Metric val_loss improved by 0.000 >= min_delta = 0.0. New best score: 0.002\n",
      "Epoch 42, global step 774: 'val_loss' reached 0.00214 (best 0.00214), saving model to '/mnt/e/Work/chi_phuong_co_su/log/epoch=42-val_loss=0.00.ckpt' as top 3\n"
     ]
    },
    {
     "data": {
      "text/plain": [
       "Validation: |          | 0/? [00:00<?, ?it/s]"
      ],
      "application/vnd.jupyter.widget-view+json": {
       "version_major": 2,
       "version_minor": 0,
       "model_id": "daa8f91ce9a343aca0db6581c382b798"
      }
     },
     "metadata": {},
     "output_type": "display_data"
    },
    {
     "name": "stderr",
     "output_type": "stream",
     "text": [
      "Epoch 43, global step 792: 'val_loss' reached 0.00214 (best 0.00214), saving model to '/mnt/e/Work/chi_phuong_co_su/log/epoch=43-val_loss=0.00.ckpt' as top 3\n"
     ]
    },
    {
     "data": {
      "text/plain": [
       "Validation: |          | 0/? [00:00<?, ?it/s]"
      ],
      "application/vnd.jupyter.widget-view+json": {
       "version_major": 2,
       "version_minor": 0,
       "model_id": "5f08ed8787314a0db3d36e69cb6002be"
      }
     },
     "metadata": {},
     "output_type": "display_data"
    },
    {
     "name": "stderr",
     "output_type": "stream",
     "text": [
      "Epoch 44, global step 810: 'val_loss' was not in top 3\n"
     ]
    },
    {
     "data": {
      "text/plain": [
       "Validation: |          | 0/? [00:00<?, ?it/s]"
      ],
      "application/vnd.jupyter.widget-view+json": {
       "version_major": 2,
       "version_minor": 0,
       "model_id": "9782b364abfe4490be186b9273971a9d"
      }
     },
     "metadata": {},
     "output_type": "display_data"
    },
    {
     "name": "stderr",
     "output_type": "stream",
     "text": [
      "Epoch 45, global step 828: 'val_loss' was not in top 3\n"
     ]
    },
    {
     "data": {
      "text/plain": [
       "Validation: |          | 0/? [00:00<?, ?it/s]"
      ],
      "application/vnd.jupyter.widget-view+json": {
       "version_major": 2,
       "version_minor": 0,
       "model_id": "54ba5f0c26544cfc9ad89c245fd6b6d9"
      }
     },
     "metadata": {},
     "output_type": "display_data"
    },
    {
     "name": "stderr",
     "output_type": "stream",
     "text": [
      "Metric val_loss improved by 0.000 >= min_delta = 0.0. New best score: 0.002\n",
      "Epoch 46, global step 846: 'val_loss' reached 0.00214 (best 0.00214), saving model to '/mnt/e/Work/chi_phuong_co_su/log/epoch=46-val_loss=0.00.ckpt' as top 3\n"
     ]
    },
    {
     "data": {
      "text/plain": [
       "Validation: |          | 0/? [00:00<?, ?it/s]"
      ],
      "application/vnd.jupyter.widget-view+json": {
       "version_major": 2,
       "version_minor": 0,
       "model_id": "09731c6adee74695a77f4dc0938e62df"
      }
     },
     "metadata": {},
     "output_type": "display_data"
    },
    {
     "name": "stderr",
     "output_type": "stream",
     "text": [
      "Epoch 47, global step 864: 'val_loss' was not in top 3\n"
     ]
    },
    {
     "data": {
      "text/plain": [
       "Validation: |          | 0/? [00:00<?, ?it/s]"
      ],
      "application/vnd.jupyter.widget-view+json": {
       "version_major": 2,
       "version_minor": 0,
       "model_id": "c27b7724fe9e4eb68346e47580fe497a"
      }
     },
     "metadata": {},
     "output_type": "display_data"
    },
    {
     "name": "stderr",
     "output_type": "stream",
     "text": [
      "Epoch 48, global step 882: 'val_loss' reached 0.00214 (best 0.00214), saving model to '/mnt/e/Work/chi_phuong_co_su/log/epoch=48-val_loss=0.00.ckpt' as top 3\n"
     ]
    },
    {
     "data": {
      "text/plain": [
       "Validation: |          | 0/? [00:00<?, ?it/s]"
      ],
      "application/vnd.jupyter.widget-view+json": {
       "version_major": 2,
       "version_minor": 0,
       "model_id": "776159dffb9743a187e8f8c96e830fe2"
      }
     },
     "metadata": {},
     "output_type": "display_data"
    },
    {
     "name": "stderr",
     "output_type": "stream",
     "text": [
      "Metric val_loss improved by 0.000 >= min_delta = 0.0. New best score: 0.002\n",
      "Epoch 49, global step 900: 'val_loss' reached 0.00214 (best 0.00214), saving model to '/mnt/e/Work/chi_phuong_co_su/log/epoch=49-val_loss=0.00.ckpt' as top 3\n"
     ]
    },
    {
     "data": {
      "text/plain": [
       "Validation: |          | 0/? [00:00<?, ?it/s]"
      ],
      "application/vnd.jupyter.widget-view+json": {
       "version_major": 2,
       "version_minor": 0,
       "model_id": "894ff260b6da4a899740c26d5f9a89a5"
      }
     },
     "metadata": {},
     "output_type": "display_data"
    },
    {
     "name": "stderr",
     "output_type": "stream",
     "text": [
      "Epoch 50, global step 918: 'val_loss' reached 0.00214 (best 0.00214), saving model to '/mnt/e/Work/chi_phuong_co_su/log/epoch=50-val_loss=0.00.ckpt' as top 3\n"
     ]
    },
    {
     "data": {
      "text/plain": [
       "Validation: |          | 0/? [00:00<?, ?it/s]"
      ],
      "application/vnd.jupyter.widget-view+json": {
       "version_major": 2,
       "version_minor": 0,
       "model_id": "6cc86dcd020d479f807eb6307727930c"
      }
     },
     "metadata": {},
     "output_type": "display_data"
    },
    {
     "name": "stderr",
     "output_type": "stream",
     "text": [
      "Metric val_loss improved by 0.000 >= min_delta = 0.0. New best score: 0.002\n",
      "Epoch 51, global step 936: 'val_loss' reached 0.00214 (best 0.00214), saving model to '/mnt/e/Work/chi_phuong_co_su/log/epoch=51-val_loss=0.00.ckpt' as top 3\n"
     ]
    },
    {
     "data": {
      "text/plain": [
       "Validation: |          | 0/? [00:00<?, ?it/s]"
      ],
      "application/vnd.jupyter.widget-view+json": {
       "version_major": 2,
       "version_minor": 0,
       "model_id": "d2a12b465cc1413fa878c36a065e4e1e"
      }
     },
     "metadata": {},
     "output_type": "display_data"
    },
    {
     "name": "stderr",
     "output_type": "stream",
     "text": [
      "Epoch 52, global step 954: 'val_loss' reached 0.00214 (best 0.00214), saving model to '/mnt/e/Work/chi_phuong_co_su/log/epoch=52-val_loss=0.00.ckpt' as top 3\n"
     ]
    },
    {
     "data": {
      "text/plain": [
       "Validation: |          | 0/? [00:00<?, ?it/s]"
      ],
      "application/vnd.jupyter.widget-view+json": {
       "version_major": 2,
       "version_minor": 0,
       "model_id": "ec3bc5fbe2064b4e92cb95e3edf03428"
      }
     },
     "metadata": {},
     "output_type": "display_data"
    },
    {
     "name": "stderr",
     "output_type": "stream",
     "text": [
      "Epoch 53, global step 972: 'val_loss' was not in top 3\n"
     ]
    },
    {
     "data": {
      "text/plain": [
       "Validation: |          | 0/? [00:00<?, ?it/s]"
      ],
      "application/vnd.jupyter.widget-view+json": {
       "version_major": 2,
       "version_minor": 0,
       "model_id": "fd7503921e114d65917bb93c45510a1d"
      }
     },
     "metadata": {},
     "output_type": "display_data"
    },
    {
     "name": "stderr",
     "output_type": "stream",
     "text": [
      "Epoch 54, global step 990: 'val_loss' was not in top 3\n"
     ]
    },
    {
     "data": {
      "text/plain": [
       "Validation: |          | 0/? [00:00<?, ?it/s]"
      ],
      "application/vnd.jupyter.widget-view+json": {
       "version_major": 2,
       "version_minor": 0,
       "model_id": "477f5e92b7d04d9a96a7207af67b1188"
      }
     },
     "metadata": {},
     "output_type": "display_data"
    },
    {
     "name": "stderr",
     "output_type": "stream",
     "text": [
      "Epoch 55, global step 1008: 'val_loss' reached 0.00214 (best 0.00214), saving model to '/mnt/e/Work/chi_phuong_co_su/log/epoch=55-val_loss=0.00.ckpt' as top 3\n"
     ]
    },
    {
     "data": {
      "text/plain": [
       "Validation: |          | 0/? [00:00<?, ?it/s]"
      ],
      "application/vnd.jupyter.widget-view+json": {
       "version_major": 2,
       "version_minor": 0,
       "model_id": "e25d4b10d1af488eb298cbe2df4184c6"
      }
     },
     "metadata": {},
     "output_type": "display_data"
    },
    {
     "name": "stderr",
     "output_type": "stream",
     "text": [
      "Epoch 56, global step 1026: 'val_loss' was not in top 3\n"
     ]
    },
    {
     "data": {
      "text/plain": [
       "Validation: |          | 0/? [00:00<?, ?it/s]"
      ],
      "application/vnd.jupyter.widget-view+json": {
       "version_major": 2,
       "version_minor": 0,
       "model_id": "8dd42ce5464345f19294b97f92cddbed"
      }
     },
     "metadata": {},
     "output_type": "display_data"
    },
    {
     "name": "stderr",
     "output_type": "stream",
     "text": [
      "Epoch 57, global step 1044: 'val_loss' was not in top 3\n"
     ]
    },
    {
     "data": {
      "text/plain": [
       "Validation: |          | 0/? [00:00<?, ?it/s]"
      ],
      "application/vnd.jupyter.widget-view+json": {
       "version_major": 2,
       "version_minor": 0,
       "model_id": "07c69a50a8e14906a0c954aa4eba229d"
      }
     },
     "metadata": {},
     "output_type": "display_data"
    },
    {
     "name": "stderr",
     "output_type": "stream",
     "text": [
      "Epoch 58, global step 1062: 'val_loss' was not in top 3\n"
     ]
    },
    {
     "data": {
      "text/plain": [
       "Validation: |          | 0/? [00:00<?, ?it/s]"
      ],
      "application/vnd.jupyter.widget-view+json": {
       "version_major": 2,
       "version_minor": 0,
       "model_id": "3b65bdf135464008aba7556e107cb72c"
      }
     },
     "metadata": {},
     "output_type": "display_data"
    },
    {
     "name": "stderr",
     "output_type": "stream",
     "text": [
      "Epoch 59, global step 1080: 'val_loss' was not in top 3\n"
     ]
    },
    {
     "data": {
      "text/plain": [
       "Validation: |          | 0/? [00:00<?, ?it/s]"
      ],
      "application/vnd.jupyter.widget-view+json": {
       "version_major": 2,
       "version_minor": 0,
       "model_id": "cc5586cd1925431590993b64fba43a2b"
      }
     },
     "metadata": {},
     "output_type": "display_data"
    },
    {
     "name": "stderr",
     "output_type": "stream",
     "text": [
      "Epoch 60, global step 1098: 'val_loss' was not in top 3\n"
     ]
    },
    {
     "data": {
      "text/plain": [
       "Validation: |          | 0/? [00:00<?, ?it/s]"
      ],
      "application/vnd.jupyter.widget-view+json": {
       "version_major": 2,
       "version_minor": 0,
       "model_id": "4abfcd1baf1c403ea48564ad79fdb334"
      }
     },
     "metadata": {},
     "output_type": "display_data"
    },
    {
     "name": "stderr",
     "output_type": "stream",
     "text": [
      "Epoch 61, global step 1116: 'val_loss' was not in top 3\n"
     ]
    },
    {
     "data": {
      "text/plain": [
       "Validation: |          | 0/? [00:00<?, ?it/s]"
      ],
      "application/vnd.jupyter.widget-view+json": {
       "version_major": 2,
       "version_minor": 0,
       "model_id": "ba391f93405e4ef389aa1f6a9405b827"
      }
     },
     "metadata": {},
     "output_type": "display_data"
    },
    {
     "name": "stderr",
     "output_type": "stream",
     "text": [
      "Epoch 62, global step 1134: 'val_loss' was not in top 3\n"
     ]
    },
    {
     "data": {
      "text/plain": [
       "Validation: |          | 0/? [00:00<?, ?it/s]"
      ],
      "application/vnd.jupyter.widget-view+json": {
       "version_major": 2,
       "version_minor": 0,
       "model_id": "246b257aa97849cfa2bc741382e7dd35"
      }
     },
     "metadata": {},
     "output_type": "display_data"
    },
    {
     "name": "stderr",
     "output_type": "stream",
     "text": [
      "Epoch 63, global step 1152: 'val_loss' was not in top 3\n"
     ]
    },
    {
     "data": {
      "text/plain": [
       "Validation: |          | 0/? [00:00<?, ?it/s]"
      ],
      "application/vnd.jupyter.widget-view+json": {
       "version_major": 2,
       "version_minor": 0,
       "model_id": "766ef24cf8784f4a8c301bee71cff4c2"
      }
     },
     "metadata": {},
     "output_type": "display_data"
    },
    {
     "name": "stderr",
     "output_type": "stream",
     "text": [
      "Epoch 64, global step 1170: 'val_loss' was not in top 3\n"
     ]
    },
    {
     "data": {
      "text/plain": [
       "Validation: |          | 0/? [00:00<?, ?it/s]"
      ],
      "application/vnd.jupyter.widget-view+json": {
       "version_major": 2,
       "version_minor": 0,
       "model_id": "4f01023328fe46e4b7cb76611e0b35b5"
      }
     },
     "metadata": {},
     "output_type": "display_data"
    },
    {
     "name": "stderr",
     "output_type": "stream",
     "text": [
      "Epoch 65, global step 1188: 'val_loss' was not in top 3\n"
     ]
    },
    {
     "data": {
      "text/plain": [
       "Validation: |          | 0/? [00:00<?, ?it/s]"
      ],
      "application/vnd.jupyter.widget-view+json": {
       "version_major": 2,
       "version_minor": 0,
       "model_id": "926fd936f18d4132a88d40c36f1356ea"
      }
     },
     "metadata": {},
     "output_type": "display_data"
    },
    {
     "name": "stderr",
     "output_type": "stream",
     "text": [
      "Epoch 66, global step 1206: 'val_loss' was not in top 3\n"
     ]
    },
    {
     "data": {
      "text/plain": [
       "Validation: |          | 0/? [00:00<?, ?it/s]"
      ],
      "application/vnd.jupyter.widget-view+json": {
       "version_major": 2,
       "version_minor": 0,
       "model_id": "001d3e04a5f5488e9a5bfcf7308c3b07"
      }
     },
     "metadata": {},
     "output_type": "display_data"
    },
    {
     "name": "stderr",
     "output_type": "stream",
     "text": [
      "Epoch 67, global step 1224: 'val_loss' was not in top 3\n"
     ]
    },
    {
     "data": {
      "text/plain": [
       "Validation: |          | 0/? [00:00<?, ?it/s]"
      ],
      "application/vnd.jupyter.widget-view+json": {
       "version_major": 2,
       "version_minor": 0,
       "model_id": "52158537350d470ca5e2baa4b6f81da6"
      }
     },
     "metadata": {},
     "output_type": "display_data"
    },
    {
     "name": "stderr",
     "output_type": "stream",
     "text": [
      "Epoch 68, global step 1242: 'val_loss' was not in top 3\n"
     ]
    },
    {
     "data": {
      "text/plain": [
       "Validation: |          | 0/? [00:00<?, ?it/s]"
      ],
      "application/vnd.jupyter.widget-view+json": {
       "version_major": 2,
       "version_minor": 0,
       "model_id": "fd323b8e63ec4ef6b23bd93d242449ce"
      }
     },
     "metadata": {},
     "output_type": "display_data"
    },
    {
     "name": "stderr",
     "output_type": "stream",
     "text": [
      "Epoch 69, global step 1260: 'val_loss' was not in top 3\n"
     ]
    },
    {
     "data": {
      "text/plain": [
       "Validation: |          | 0/? [00:00<?, ?it/s]"
      ],
      "application/vnd.jupyter.widget-view+json": {
       "version_major": 2,
       "version_minor": 0,
       "model_id": "353fa6e17af54425bfbc8f88d68e0c4d"
      }
     },
     "metadata": {},
     "output_type": "display_data"
    },
    {
     "name": "stderr",
     "output_type": "stream",
     "text": [
      "Epoch 70, global step 1278: 'val_loss' was not in top 3\n"
     ]
    },
    {
     "data": {
      "text/plain": [
       "Validation: |          | 0/? [00:00<?, ?it/s]"
      ],
      "application/vnd.jupyter.widget-view+json": {
       "version_major": 2,
       "version_minor": 0,
       "model_id": "cc78039b0b24407bb7213feca72324b7"
      }
     },
     "metadata": {},
     "output_type": "display_data"
    },
    {
     "name": "stderr",
     "output_type": "stream",
     "text": [
      "Epoch 71, global step 1296: 'val_loss' was not in top 3\n"
     ]
    },
    {
     "data": {
      "text/plain": [
       "Validation: |          | 0/? [00:00<?, ?it/s]"
      ],
      "application/vnd.jupyter.widget-view+json": {
       "version_major": 2,
       "version_minor": 0,
       "model_id": "3f2d311cf97944edb13af30a5c850551"
      }
     },
     "metadata": {},
     "output_type": "display_data"
    },
    {
     "name": "stderr",
     "output_type": "stream",
     "text": [
      "Epoch 72, global step 1314: 'val_loss' was not in top 3\n"
     ]
    },
    {
     "data": {
      "text/plain": [
       "Validation: |          | 0/? [00:00<?, ?it/s]"
      ],
      "application/vnd.jupyter.widget-view+json": {
       "version_major": 2,
       "version_minor": 0,
       "model_id": "7484cf5b33f744e49b0b523e888987de"
      }
     },
     "metadata": {},
     "output_type": "display_data"
    },
    {
     "name": "stderr",
     "output_type": "stream",
     "text": [
      "Epoch 73, global step 1332: 'val_loss' was not in top 3\n"
     ]
    },
    {
     "data": {
      "text/plain": [
       "Validation: |          | 0/? [00:00<?, ?it/s]"
      ],
      "application/vnd.jupyter.widget-view+json": {
       "version_major": 2,
       "version_minor": 0,
       "model_id": "6509a7d09f5c4297973698478277942f"
      }
     },
     "metadata": {},
     "output_type": "display_data"
    },
    {
     "name": "stderr",
     "output_type": "stream",
     "text": [
      "Epoch 74, global step 1350: 'val_loss' was not in top 3\n"
     ]
    },
    {
     "data": {
      "text/plain": [
       "Validation: |          | 0/? [00:00<?, ?it/s]"
      ],
      "application/vnd.jupyter.widget-view+json": {
       "version_major": 2,
       "version_minor": 0,
       "model_id": "b906fe5dc01e4ec0ac3b80ad7072c5dd"
      }
     },
     "metadata": {},
     "output_type": "display_data"
    },
    {
     "name": "stderr",
     "output_type": "stream",
     "text": [
      "Epoch 75, global step 1368: 'val_loss' was not in top 3\n"
     ]
    },
    {
     "data": {
      "text/plain": [
       "Validation: |          | 0/? [00:00<?, ?it/s]"
      ],
      "application/vnd.jupyter.widget-view+json": {
       "version_major": 2,
       "version_minor": 0,
       "model_id": "660533b9762f426aa9ef6390d1463f15"
      }
     },
     "metadata": {},
     "output_type": "display_data"
    },
    {
     "name": "stderr",
     "output_type": "stream",
     "text": [
      "Epoch 76, global step 1386: 'val_loss' was not in top 3\n"
     ]
    },
    {
     "data": {
      "text/plain": [
       "Validation: |          | 0/? [00:00<?, ?it/s]"
      ],
      "application/vnd.jupyter.widget-view+json": {
       "version_major": 2,
       "version_minor": 0,
       "model_id": "d6bbacb4404a469882fb6a8a8e5e9d1c"
      }
     },
     "metadata": {},
     "output_type": "display_data"
    },
    {
     "name": "stderr",
     "output_type": "stream",
     "text": [
      "Epoch 77, global step 1404: 'val_loss' was not in top 3\n"
     ]
    },
    {
     "data": {
      "text/plain": [
       "Validation: |          | 0/? [00:00<?, ?it/s]"
      ],
      "application/vnd.jupyter.widget-view+json": {
       "version_major": 2,
       "version_minor": 0,
       "model_id": "1d58b0cbbbff49d783846636bc3b5a9e"
      }
     },
     "metadata": {},
     "output_type": "display_data"
    },
    {
     "name": "stderr",
     "output_type": "stream",
     "text": [
      "Epoch 78, global step 1422: 'val_loss' was not in top 3\n"
     ]
    },
    {
     "data": {
      "text/plain": [
       "Validation: |          | 0/? [00:00<?, ?it/s]"
      ],
      "application/vnd.jupyter.widget-view+json": {
       "version_major": 2,
       "version_minor": 0,
       "model_id": "68ca68c621a6479395fb426f9ef8d319"
      }
     },
     "metadata": {},
     "output_type": "display_data"
    },
    {
     "name": "stderr",
     "output_type": "stream",
     "text": [
      "Epoch 79, global step 1440: 'val_loss' was not in top 3\n"
     ]
    },
    {
     "data": {
      "text/plain": [
       "Validation: |          | 0/? [00:00<?, ?it/s]"
      ],
      "application/vnd.jupyter.widget-view+json": {
       "version_major": 2,
       "version_minor": 0,
       "model_id": "1ffd0569ee90441084f5fd91fc556dc2"
      }
     },
     "metadata": {},
     "output_type": "display_data"
    },
    {
     "name": "stderr",
     "output_type": "stream",
     "text": [
      "Epoch 80, global step 1458: 'val_loss' was not in top 3\n"
     ]
    },
    {
     "data": {
      "text/plain": [
       "Validation: |          | 0/? [00:00<?, ?it/s]"
      ],
      "application/vnd.jupyter.widget-view+json": {
       "version_major": 2,
       "version_minor": 0,
       "model_id": "7f9fd8b169b64dbd99aff352fcf20910"
      }
     },
     "metadata": {},
     "output_type": "display_data"
    },
    {
     "name": "stderr",
     "output_type": "stream",
     "text": [
      "Monitored metric val_loss did not improve in the last 30 records. Best score: 0.002. Signaling Trainer to stop.\n",
      "Epoch 81, global step 1476: 'val_loss' was not in top 3\n"
     ]
    }
   ],
   "execution_count": 15
  },
  {
   "metadata": {
    "ExecuteTime": {
     "end_time": "2024-07-03T20:00:35.397248Z",
     "start_time": "2024-07-03T20:00:26.682535Z"
    }
   },
   "cell_type": "code",
   "source": "training_module.validate_and_testing_lstm(data_module=flight_dm)",
   "id": "5c63ceb0241662ec",
   "outputs": [
    {
     "name": "stderr",
     "output_type": "stream",
     "text": [
      "LOCAL_RANK: 0 - CUDA_VISIBLE_DEVICES: [0]\n"
     ]
    },
    {
     "data": {
      "text/plain": [
       "Validation: |          | 0/? [00:00<?, ?it/s]"
      ],
      "application/vnd.jupyter.widget-view+json": {
       "version_major": 2,
       "version_minor": 0,
       "model_id": "ea3f7a125e734d7f80f043821332e7df"
      }
     },
     "metadata": {},
     "output_type": "display_data"
    },
    {
     "data": {
      "text/plain": [
       "┏━━━━━━━━━━━━━━━━━━━━━━━━━━━┳━━━━━━━━━━━━━━━━━━━━━━━━━━━┓\n",
       "┃\u001B[1m \u001B[0m\u001B[1m     Validate metric     \u001B[0m\u001B[1m \u001B[0m┃\u001B[1m \u001B[0m\u001B[1m      DataLoader 0       \u001B[0m\u001B[1m \u001B[0m┃\n",
       "┡━━━━━━━━━━━━━━━━━━━━━━━━━━━╇━━━━━━━━━━━━━━━━━━━━━━━━━━━┩\n",
       "│\u001B[36m \u001B[0m\u001B[36m     val_loss_epoch      \u001B[0m\u001B[36m \u001B[0m│\u001B[35m \u001B[0m\u001B[35m  0.002143095014616847   \u001B[0m\u001B[35m \u001B[0m│\n",
       "│\u001B[36m \u001B[0m\u001B[36m      val_mse_epoch      \u001B[0m\u001B[36m \u001B[0m│\u001B[35m \u001B[0m\u001B[35m  0.002143095014616847   \u001B[0m\u001B[35m \u001B[0m│\n",
       "└───────────────────────────┴───────────────────────────┘\n"
      ],
      "text/html": [
       "<pre style=\"white-space:pre;overflow-x:auto;line-height:normal;font-family:Menlo,'DejaVu Sans Mono',consolas,'Courier New',monospace\">┏━━━━━━━━━━━━━━━━━━━━━━━━━━━┳━━━━━━━━━━━━━━━━━━━━━━━━━━━┓\n",
       "┃<span style=\"font-weight: bold\">      Validate metric      </span>┃<span style=\"font-weight: bold\">       DataLoader 0        </span>┃\n",
       "┡━━━━━━━━━━━━━━━━━━━━━━━━━━━╇━━━━━━━━━━━━━━━━━━━━━━━━━━━┩\n",
       "│<span style=\"color: #008080; text-decoration-color: #008080\">      val_loss_epoch       </span>│<span style=\"color: #800080; text-decoration-color: #800080\">   0.002143095014616847    </span>│\n",
       "│<span style=\"color: #008080; text-decoration-color: #008080\">       val_mse_epoch       </span>│<span style=\"color: #800080; text-decoration-color: #800080\">   0.002143095014616847    </span>│\n",
       "└───────────────────────────┴───────────────────────────┘\n",
       "</pre>\n"
      ]
     },
     "metadata": {},
     "output_type": "display_data"
    },
    {
     "name": "stderr",
     "output_type": "stream",
     "text": [
      "LOCAL_RANK: 0 - CUDA_VISIBLE_DEVICES: [0]\n"
     ]
    },
    {
     "data": {
      "text/plain": [
       "Testing: |          | 0/? [00:00<?, ?it/s]"
      ],
      "application/vnd.jupyter.widget-view+json": {
       "version_major": 2,
       "version_minor": 0,
       "model_id": "0e2981967a4e48519d604f8832a86183"
      }
     },
     "metadata": {},
     "output_type": "display_data"
    },
    {
     "data": {
      "text/plain": [
       "┏━━━━━━━━━━━━━━━━━━━━━━━━━━━┳━━━━━━━━━━━━━━━━━━━━━━━━━━━┓\n",
       "┃\u001B[1m \u001B[0m\u001B[1m       Test metric       \u001B[0m\u001B[1m \u001B[0m┃\u001B[1m \u001B[0m\u001B[1m      DataLoader 0       \u001B[0m\u001B[1m \u001B[0m┃\n",
       "┡━━━━━━━━━━━━━━━━━━━━━━━━━━━╇━━━━━━━━━━━━━━━━━━━━━━━━━━━┩\n",
       "│\u001B[36m \u001B[0m\u001B[36m     test_loss_epoch     \u001B[0m\u001B[36m \u001B[0m│\u001B[35m \u001B[0m\u001B[35m  0.002164205303415656   \u001B[0m\u001B[35m \u001B[0m│\n",
       "│\u001B[36m \u001B[0m\u001B[36m     test_mse_epoch      \u001B[0m\u001B[36m \u001B[0m│\u001B[35m \u001B[0m\u001B[35m  0.002164205303415656   \u001B[0m\u001B[35m \u001B[0m│\n",
       "└───────────────────────────┴───────────────────────────┘\n"
      ],
      "text/html": [
       "<pre style=\"white-space:pre;overflow-x:auto;line-height:normal;font-family:Menlo,'DejaVu Sans Mono',consolas,'Courier New',monospace\">┏━━━━━━━━━━━━━━━━━━━━━━━━━━━┳━━━━━━━━━━━━━━━━━━━━━━━━━━━┓\n",
       "┃<span style=\"font-weight: bold\">        Test metric        </span>┃<span style=\"font-weight: bold\">       DataLoader 0        </span>┃\n",
       "┡━━━━━━━━━━━━━━━━━━━━━━━━━━━╇━━━━━━━━━━━━━━━━━━━━━━━━━━━┩\n",
       "│<span style=\"color: #008080; text-decoration-color: #008080\">      test_loss_epoch      </span>│<span style=\"color: #800080; text-decoration-color: #800080\">   0.002164205303415656    </span>│\n",
       "│<span style=\"color: #008080; text-decoration-color: #008080\">      test_mse_epoch       </span>│<span style=\"color: #800080; text-decoration-color: #800080\">   0.002164205303415656    </span>│\n",
       "└───────────────────────────┴───────────────────────────┘\n",
       "</pre>\n"
      ]
     },
     "metadata": {},
     "output_type": "display_data"
    }
   ],
   "execution_count": 16
  },
  {
   "metadata": {
    "ExecuteTime": {
     "end_time": "2024-07-04T00:22:57.146560Z",
     "start_time": "2024-07-04T00:22:57.133216Z"
    }
   },
   "cell_type": "code",
   "source": [
    "# Tensorboard\n",
    "%tensorboard --logdir /mnt/e/Work/chi_phuong_co_su/log"
   ],
   "id": "f45e407dda14f986",
   "outputs": [
    {
     "data": {
      "text/plain": [
       "Reusing TensorBoard on port 6007 (pid 236788), started 4:22:22 ago. (Use '!kill 236788' to kill it.)"
      ]
     },
     "metadata": {},
     "output_type": "display_data"
    },
    {
     "data": {
      "text/plain": [
       "<IPython.core.display.HTML object>"
      ],
      "text/html": [
       "\n",
       "      <iframe id=\"tensorboard-frame-5fe4d59c4971c930\" width=\"100%\" height=\"800\" frameborder=\"0\">\n",
       "      </iframe>\n",
       "      <script>\n",
       "        (function() {\n",
       "          const frame = document.getElementById(\"tensorboard-frame-5fe4d59c4971c930\");\n",
       "          const url = new URL(\"/\", window.location);\n",
       "          const port = 6007;\n",
       "          if (port) {\n",
       "            url.port = port;\n",
       "          }\n",
       "          frame.src = url;\n",
       "        })();\n",
       "      </script>\n",
       "    "
      ]
     },
     "metadata": {},
     "output_type": "display_data"
    }
   ],
   "execution_count": 18
  },
  {
   "metadata": {
    "ExecuteTime": {
     "end_time": "2024-07-03T20:00:36.411784Z",
     "start_time": "2024-07-03T20:00:36.408777Z"
    }
   },
   "cell_type": "code",
   "source": "",
   "id": "b538b57884d124fa",
   "outputs": [],
   "execution_count": 17
  }
 ],
 "metadata": {
  "kernelspec": {
   "display_name": "Python 3",
   "language": "python",
   "name": "python3"
  },
  "language_info": {
   "codemirror_mode": {
    "name": "ipython",
    "version": 2
   },
   "file_extension": ".py",
   "mimetype": "text/x-python",
   "name": "python",
   "nbconvert_exporter": "python",
   "pygments_lexer": "ipython2",
   "version": "2.7.6"
  }
 },
 "nbformat": 4,
 "nbformat_minor": 5
}
