{
 "cells": [
  {
   "cell_type": "code",
   "id": "initial_id",
   "metadata": {
    "collapsed": true,
    "ExecuteTime": {
     "end_time": "2024-07-03T19:11:44.427295Z",
     "start_time": "2024-07-03T19:11:42.030490Z"
    }
   },
   "source": [
    "import os\n",
    "import torch\n",
    "import pandas as pd\n",
    "from modules.feature_engineering import FeatureEngineeringV1 \n",
    "from modules.data_module import FlightDataModule\n",
    "from modules.training import TrainingFlightModel\n",
    "from lightning.pytorch.callbacks import ModelCheckpoint, EarlyStopping\n",
    "from lightning.pytorch.loggers import TensorBoardLogger\n",
    "\n",
    "print(torch.__version__)\n",
    "fe = FeatureEngineeringV1()"
   ],
   "outputs": [
    {
     "name": "stdout",
     "output_type": "stream",
     "text": [
      "2.1.2+cu121\n"
     ]
    }
   ],
   "execution_count": 1
  },
  {
   "metadata": {
    "ExecuteTime": {
     "end_time": "2024-07-03T19:11:44.436168Z",
     "start_time": "2024-07-03T19:11:44.429175Z"
    }
   },
   "cell_type": "code",
   "source": "%load_ext tensorboard",
   "id": "5bd68f5b1dcc846b",
   "outputs": [],
   "execution_count": 2
  },
  {
   "metadata": {
    "ExecuteTime": {
     "end_time": "2024-07-03T19:11:44.571532Z",
     "start_time": "2024-07-03T19:11:44.437344Z"
    }
   },
   "cell_type": "code",
   "source": [
    "def get_default_device():\n",
    "    \"\"\"Pick GPU if available, else CPU\"\"\"\n",
    "    if torch.cuda.is_available():\n",
    "        print(f'Using device: {torch.cuda.get_device_name(0)}')\n",
    "        return torch.device('cuda')\n",
    "    elif torch.backends.mps.is_available():\n",
    "        print('Using device: Apple ARM GPU')\n",
    "        return torch.device('mps')\n",
    "    else:\n",
    "        print('Using device: CPU')\n",
    "        return torch.device('cpu')\n",
    "    \n",
    "# Set the device\n",
    "device = get_default_device()\n",
    "print(f'Using device: {device}')"
   ],
   "id": "13e6aaae1d419117",
   "outputs": [
    {
     "name": "stdout",
     "output_type": "stream",
     "text": [
      "Using device: NVIDIA GeForce RTX 3060\n",
      "Using device: cuda\n"
     ]
    }
   ],
   "execution_count": 3
  },
  {
   "metadata": {
    "ExecuteTime": {
     "end_time": "2024-07-03T19:11:44.577279Z",
     "start_time": "2024-07-03T19:11:44.573717Z"
    }
   },
   "cell_type": "code",
   "source": [
    "# Used with GPUs having Tensor cores\n",
    "torch.set_float32_matmul_precision('medium')"
   ],
   "id": "2d87d642479be5b8",
   "outputs": [],
   "execution_count": 4
  },
  {
   "metadata": {},
   "cell_type": "code",
   "outputs": [],
   "execution_count": null,
   "source": "",
   "id": "e1cc265449833fa6"
  },
  {
   "metadata": {
    "ExecuteTime": {
     "end_time": "2024-07-03T19:11:44.933408Z",
     "start_time": "2024-07-03T19:11:44.579318Z"
    }
   },
   "cell_type": "code",
   "source": [
    "processed_df = pd.read_csv('../data/csv/processed.csv')\n",
    "processed_df"
   ],
   "id": "316f6d8253132f0d",
   "outputs": [
    {
     "data": {
      "text/plain": [
       "       wind_speed_TSN  wind_dir_TSN  wind_speed_KADUM  wind_dir_KADUM  \\\n",
       "0            0.630435      0.363611          0.200000        0.361868   \n",
       "1            0.630435      0.363611          0.200000        0.362146   \n",
       "2            0.630435      0.363611          0.200000        0.362146   \n",
       "3            0.630435      0.363611          0.200000        0.362424   \n",
       "4            0.630435      0.363611          0.200000        0.362424   \n",
       "...               ...           ...               ...             ...   \n",
       "60523        0.347826      0.381111          0.327273        0.118121   \n",
       "60524        0.347826      0.381111          0.327273        0.118121   \n",
       "60525        0.347826      0.381111          0.327273        0.117009   \n",
       "60526        0.347826      0.381111          0.327273        0.117009   \n",
       "60527        0.347826      0.381389          0.327273        0.116176   \n",
       "\n",
       "       wind_speed_PATNA  wind_dir_PATNA  wind_speed_SADAS  wind_dir_SADAS  \\\n",
       "0              0.229167        0.561418          0.014493        0.993860   \n",
       "1              0.229167        0.562535          0.014493        0.994628   \n",
       "2              0.229167        0.562535          0.014493        0.994628   \n",
       "3              0.229167        0.563652          0.000000        0.996163   \n",
       "4              0.229167        0.563652          0.000000        0.996163   \n",
       "...                 ...             ...               ...             ...   \n",
       "60523          0.531250        0.101619          0.391304        0.629317   \n",
       "60524          0.531250        0.101619          0.391304        0.629317   \n",
       "60525          0.531250        0.101619          0.391304        0.629317   \n",
       "60526          0.531250        0.101619          0.391304        0.629317   \n",
       "60527          0.531250        0.101340          0.391304        0.629317   \n",
       "\n",
       "       wind_speed_DADEN  wind_dir_DADEN  ...  Route        Ac_id  Ac_code  \\\n",
       "0              0.150000        0.884247  ...      6  R6-VJ150-21    VJ150   \n",
       "1              0.150000        0.882877  ...      6  R6-VJ150-21    VJ150   \n",
       "2              0.150000        0.882877  ...      6  R6-VJ150-21    VJ150   \n",
       "3              0.150000        0.882192  ...      6  R6-VJ150-21    VJ150   \n",
       "4              0.150000        0.882192  ...      6  R6-VJ150-21    VJ150   \n",
       "...                 ...             ...  ...    ...          ...      ...   \n",
       "60523          0.533333        0.580822  ...      6  R6-VN258-04    VN258   \n",
       "60524          0.533333        0.580822  ...      6  R6-VN258-04    VN258   \n",
       "60525          0.533333        0.580822  ...      6  R6-VN258-04    VN258   \n",
       "60526          0.533333        0.580822  ...      6  R6-VN258-04    VN258   \n",
       "60527          0.533333        0.580822  ...      6  R6-VN258-04    VN258   \n",
       "\n",
       "       Ac_type    Ac_kts  Time_step  Phase    Ac_Lat    Ac_Lon   Ac_feet  \n",
       "0            1  0.060280          3      1  0.034167  0.454558  0.012828  \n",
       "1            1  0.069968         23      1  0.033625  0.449206  0.032376  \n",
       "2            1  0.097955         43      1  0.033203  0.443202  0.041539  \n",
       "3            1  0.125942         59      1  0.033515  0.437884  0.047037  \n",
       "4            1  0.151776         75      1  0.034810  0.433389  0.058033  \n",
       "...        ...       ...        ...    ...       ...       ...       ...  \n",
       "60523        2  0.046286       5344      1  0.993293  0.126874  0.040929  \n",
       "60524        2  0.040904       5362      1  0.992935  0.131472  0.034820  \n",
       "60525        2  0.034446       5378      1  0.992641  0.135280  0.029933  \n",
       "60526        2  0.018299       5412      1  0.992090  0.142485  0.020770  \n",
       "60527        2  0.025834       5480      1  0.990941  0.157340  0.001222  \n",
       "\n",
       "[60528 rows x 46 columns]"
      ],
      "text/html": [
       "<div>\n",
       "<style scoped>\n",
       "    .dataframe tbody tr th:only-of-type {\n",
       "        vertical-align: middle;\n",
       "    }\n",
       "\n",
       "    .dataframe tbody tr th {\n",
       "        vertical-align: top;\n",
       "    }\n",
       "\n",
       "    .dataframe thead th {\n",
       "        text-align: right;\n",
       "    }\n",
       "</style>\n",
       "<table border=\"1\" class=\"dataframe\">\n",
       "  <thead>\n",
       "    <tr style=\"text-align: right;\">\n",
       "      <th></th>\n",
       "      <th>wind_speed_TSN</th>\n",
       "      <th>wind_dir_TSN</th>\n",
       "      <th>wind_speed_KADUM</th>\n",
       "      <th>wind_dir_KADUM</th>\n",
       "      <th>wind_speed_PATNA</th>\n",
       "      <th>wind_dir_PATNA</th>\n",
       "      <th>wind_speed_SADAS</th>\n",
       "      <th>wind_dir_SADAS</th>\n",
       "      <th>wind_speed_DADEN</th>\n",
       "      <th>wind_dir_DADEN</th>\n",
       "      <th>...</th>\n",
       "      <th>Route</th>\n",
       "      <th>Ac_id</th>\n",
       "      <th>Ac_code</th>\n",
       "      <th>Ac_type</th>\n",
       "      <th>Ac_kts</th>\n",
       "      <th>Time_step</th>\n",
       "      <th>Phase</th>\n",
       "      <th>Ac_Lat</th>\n",
       "      <th>Ac_Lon</th>\n",
       "      <th>Ac_feet</th>\n",
       "    </tr>\n",
       "  </thead>\n",
       "  <tbody>\n",
       "    <tr>\n",
       "      <th>0</th>\n",
       "      <td>0.630435</td>\n",
       "      <td>0.363611</td>\n",
       "      <td>0.200000</td>\n",
       "      <td>0.361868</td>\n",
       "      <td>0.229167</td>\n",
       "      <td>0.561418</td>\n",
       "      <td>0.014493</td>\n",
       "      <td>0.993860</td>\n",
       "      <td>0.150000</td>\n",
       "      <td>0.884247</td>\n",
       "      <td>...</td>\n",
       "      <td>6</td>\n",
       "      <td>R6-VJ150-21</td>\n",
       "      <td>VJ150</td>\n",
       "      <td>1</td>\n",
       "      <td>0.060280</td>\n",
       "      <td>3</td>\n",
       "      <td>1</td>\n",
       "      <td>0.034167</td>\n",
       "      <td>0.454558</td>\n",
       "      <td>0.012828</td>\n",
       "    </tr>\n",
       "    <tr>\n",
       "      <th>1</th>\n",
       "      <td>0.630435</td>\n",
       "      <td>0.363611</td>\n",
       "      <td>0.200000</td>\n",
       "      <td>0.362146</td>\n",
       "      <td>0.229167</td>\n",
       "      <td>0.562535</td>\n",
       "      <td>0.014493</td>\n",
       "      <td>0.994628</td>\n",
       "      <td>0.150000</td>\n",
       "      <td>0.882877</td>\n",
       "      <td>...</td>\n",
       "      <td>6</td>\n",
       "      <td>R6-VJ150-21</td>\n",
       "      <td>VJ150</td>\n",
       "      <td>1</td>\n",
       "      <td>0.069968</td>\n",
       "      <td>23</td>\n",
       "      <td>1</td>\n",
       "      <td>0.033625</td>\n",
       "      <td>0.449206</td>\n",
       "      <td>0.032376</td>\n",
       "    </tr>\n",
       "    <tr>\n",
       "      <th>2</th>\n",
       "      <td>0.630435</td>\n",
       "      <td>0.363611</td>\n",
       "      <td>0.200000</td>\n",
       "      <td>0.362146</td>\n",
       "      <td>0.229167</td>\n",
       "      <td>0.562535</td>\n",
       "      <td>0.014493</td>\n",
       "      <td>0.994628</td>\n",
       "      <td>0.150000</td>\n",
       "      <td>0.882877</td>\n",
       "      <td>...</td>\n",
       "      <td>6</td>\n",
       "      <td>R6-VJ150-21</td>\n",
       "      <td>VJ150</td>\n",
       "      <td>1</td>\n",
       "      <td>0.097955</td>\n",
       "      <td>43</td>\n",
       "      <td>1</td>\n",
       "      <td>0.033203</td>\n",
       "      <td>0.443202</td>\n",
       "      <td>0.041539</td>\n",
       "    </tr>\n",
       "    <tr>\n",
       "      <th>3</th>\n",
       "      <td>0.630435</td>\n",
       "      <td>0.363611</td>\n",
       "      <td>0.200000</td>\n",
       "      <td>0.362424</td>\n",
       "      <td>0.229167</td>\n",
       "      <td>0.563652</td>\n",
       "      <td>0.000000</td>\n",
       "      <td>0.996163</td>\n",
       "      <td>0.150000</td>\n",
       "      <td>0.882192</td>\n",
       "      <td>...</td>\n",
       "      <td>6</td>\n",
       "      <td>R6-VJ150-21</td>\n",
       "      <td>VJ150</td>\n",
       "      <td>1</td>\n",
       "      <td>0.125942</td>\n",
       "      <td>59</td>\n",
       "      <td>1</td>\n",
       "      <td>0.033515</td>\n",
       "      <td>0.437884</td>\n",
       "      <td>0.047037</td>\n",
       "    </tr>\n",
       "    <tr>\n",
       "      <th>4</th>\n",
       "      <td>0.630435</td>\n",
       "      <td>0.363611</td>\n",
       "      <td>0.200000</td>\n",
       "      <td>0.362424</td>\n",
       "      <td>0.229167</td>\n",
       "      <td>0.563652</td>\n",
       "      <td>0.000000</td>\n",
       "      <td>0.996163</td>\n",
       "      <td>0.150000</td>\n",
       "      <td>0.882192</td>\n",
       "      <td>...</td>\n",
       "      <td>6</td>\n",
       "      <td>R6-VJ150-21</td>\n",
       "      <td>VJ150</td>\n",
       "      <td>1</td>\n",
       "      <td>0.151776</td>\n",
       "      <td>75</td>\n",
       "      <td>1</td>\n",
       "      <td>0.034810</td>\n",
       "      <td>0.433389</td>\n",
       "      <td>0.058033</td>\n",
       "    </tr>\n",
       "    <tr>\n",
       "      <th>...</th>\n",
       "      <td>...</td>\n",
       "      <td>...</td>\n",
       "      <td>...</td>\n",
       "      <td>...</td>\n",
       "      <td>...</td>\n",
       "      <td>...</td>\n",
       "      <td>...</td>\n",
       "      <td>...</td>\n",
       "      <td>...</td>\n",
       "      <td>...</td>\n",
       "      <td>...</td>\n",
       "      <td>...</td>\n",
       "      <td>...</td>\n",
       "      <td>...</td>\n",
       "      <td>...</td>\n",
       "      <td>...</td>\n",
       "      <td>...</td>\n",
       "      <td>...</td>\n",
       "      <td>...</td>\n",
       "      <td>...</td>\n",
       "      <td>...</td>\n",
       "    </tr>\n",
       "    <tr>\n",
       "      <th>60523</th>\n",
       "      <td>0.347826</td>\n",
       "      <td>0.381111</td>\n",
       "      <td>0.327273</td>\n",
       "      <td>0.118121</td>\n",
       "      <td>0.531250</td>\n",
       "      <td>0.101619</td>\n",
       "      <td>0.391304</td>\n",
       "      <td>0.629317</td>\n",
       "      <td>0.533333</td>\n",
       "      <td>0.580822</td>\n",
       "      <td>...</td>\n",
       "      <td>6</td>\n",
       "      <td>R6-VN258-04</td>\n",
       "      <td>VN258</td>\n",
       "      <td>2</td>\n",
       "      <td>0.046286</td>\n",
       "      <td>5344</td>\n",
       "      <td>1</td>\n",
       "      <td>0.993293</td>\n",
       "      <td>0.126874</td>\n",
       "      <td>0.040929</td>\n",
       "    </tr>\n",
       "    <tr>\n",
       "      <th>60524</th>\n",
       "      <td>0.347826</td>\n",
       "      <td>0.381111</td>\n",
       "      <td>0.327273</td>\n",
       "      <td>0.118121</td>\n",
       "      <td>0.531250</td>\n",
       "      <td>0.101619</td>\n",
       "      <td>0.391304</td>\n",
       "      <td>0.629317</td>\n",
       "      <td>0.533333</td>\n",
       "      <td>0.580822</td>\n",
       "      <td>...</td>\n",
       "      <td>6</td>\n",
       "      <td>R6-VN258-04</td>\n",
       "      <td>VN258</td>\n",
       "      <td>2</td>\n",
       "      <td>0.040904</td>\n",
       "      <td>5362</td>\n",
       "      <td>1</td>\n",
       "      <td>0.992935</td>\n",
       "      <td>0.131472</td>\n",
       "      <td>0.034820</td>\n",
       "    </tr>\n",
       "    <tr>\n",
       "      <th>60525</th>\n",
       "      <td>0.347826</td>\n",
       "      <td>0.381111</td>\n",
       "      <td>0.327273</td>\n",
       "      <td>0.117009</td>\n",
       "      <td>0.531250</td>\n",
       "      <td>0.101619</td>\n",
       "      <td>0.391304</td>\n",
       "      <td>0.629317</td>\n",
       "      <td>0.533333</td>\n",
       "      <td>0.580822</td>\n",
       "      <td>...</td>\n",
       "      <td>6</td>\n",
       "      <td>R6-VN258-04</td>\n",
       "      <td>VN258</td>\n",
       "      <td>2</td>\n",
       "      <td>0.034446</td>\n",
       "      <td>5378</td>\n",
       "      <td>1</td>\n",
       "      <td>0.992641</td>\n",
       "      <td>0.135280</td>\n",
       "      <td>0.029933</td>\n",
       "    </tr>\n",
       "    <tr>\n",
       "      <th>60526</th>\n",
       "      <td>0.347826</td>\n",
       "      <td>0.381111</td>\n",
       "      <td>0.327273</td>\n",
       "      <td>0.117009</td>\n",
       "      <td>0.531250</td>\n",
       "      <td>0.101619</td>\n",
       "      <td>0.391304</td>\n",
       "      <td>0.629317</td>\n",
       "      <td>0.533333</td>\n",
       "      <td>0.580822</td>\n",
       "      <td>...</td>\n",
       "      <td>6</td>\n",
       "      <td>R6-VN258-04</td>\n",
       "      <td>VN258</td>\n",
       "      <td>2</td>\n",
       "      <td>0.018299</td>\n",
       "      <td>5412</td>\n",
       "      <td>1</td>\n",
       "      <td>0.992090</td>\n",
       "      <td>0.142485</td>\n",
       "      <td>0.020770</td>\n",
       "    </tr>\n",
       "    <tr>\n",
       "      <th>60527</th>\n",
       "      <td>0.347826</td>\n",
       "      <td>0.381389</td>\n",
       "      <td>0.327273</td>\n",
       "      <td>0.116176</td>\n",
       "      <td>0.531250</td>\n",
       "      <td>0.101340</td>\n",
       "      <td>0.391304</td>\n",
       "      <td>0.629317</td>\n",
       "      <td>0.533333</td>\n",
       "      <td>0.580822</td>\n",
       "      <td>...</td>\n",
       "      <td>6</td>\n",
       "      <td>R6-VN258-04</td>\n",
       "      <td>VN258</td>\n",
       "      <td>2</td>\n",
       "      <td>0.025834</td>\n",
       "      <td>5480</td>\n",
       "      <td>1</td>\n",
       "      <td>0.990941</td>\n",
       "      <td>0.157340</td>\n",
       "      <td>0.001222</td>\n",
       "    </tr>\n",
       "  </tbody>\n",
       "</table>\n",
       "<p>60528 rows × 46 columns</p>\n",
       "</div>"
      ]
     },
     "execution_count": 5,
     "metadata": {},
     "output_type": "execute_result"
    }
   ],
   "execution_count": 5
  },
  {
   "metadata": {
    "ExecuteTime": {
     "end_time": "2024-07-03T19:11:45.911515Z",
     "start_time": "2024-07-03T19:11:44.934988Z"
    }
   },
   "cell_type": "code",
   "source": [
    "X, y = fe.padding_features(processed_df)\n",
    "print(f'X.shape: {X.shape}')\n",
    "print(f'y.shape: {y.shape}')\n",
    "print(f'X.dtype: {X.dtype}')\n",
    "print(f'y.dtype: {y.dtype}')\n",
    "print(f'X:\\n{X}')\n",
    "print(f'y:\\n{y}')"
   ],
   "id": "af39ca400acef24",
   "outputs": [
    {
     "name": "stdout",
     "output_type": "stream",
     "text": [
      "X.shape: (352, 6616, 36)\n",
      "y.shape: (352, 6616, 4)\n",
      "X.dtype: float64\n",
      "y.dtype: float64\n",
      "X:\n",
      "[[[0.63043478 0.36361111 0.2        ... 0.00833333 0.49230769 0.93388889]\n",
      "  [0.63043478 0.36361111 0.2        ... 0.00833333 0.49230769 0.93361111]\n",
      "  [0.63043478 0.36361111 0.2        ... 0.00833333 0.49230769 0.93361111]\n",
      "  ...\n",
      "  [0.         0.         0.         ... 0.         0.         0.        ]\n",
      "  [0.         0.         0.         ... 0.         0.         0.        ]\n",
      "  [0.         0.         0.         ... 0.         0.         0.        ]]\n",
      "\n",
      " [[0.7173913  0.36138889 0.27272727 ... 0.00361111 0.49230769 0.93388889]\n",
      "  [0.7173913  0.36138889 0.27272727 ... 0.00361111 0.49230769 0.93388889]\n",
      "  [0.7173913  0.36138889 0.27272727 ... 0.00333333 0.49230769 0.93388889]\n",
      "  ...\n",
      "  [0.         0.         0.         ... 0.         0.         0.        ]\n",
      "  [0.         0.         0.         ... 0.         0.         0.        ]\n",
      "  [0.         0.         0.         ... 0.         0.         0.        ]]\n",
      "\n",
      " [[0.63043478 0.35361111 0.23636364 ... 0.36916667 0.36153846 0.01416667]\n",
      "  [0.65217391 0.35333333 0.23636364 ... 0.37       0.36153846 0.01472222]\n",
      "  [0.65217391 0.35333333 0.23636364 ... 0.37       0.36153846 0.01472222]\n",
      "  ...\n",
      "  [0.         0.         0.         ... 0.         0.         0.        ]\n",
      "  [0.         0.         0.         ... 0.         0.         0.        ]\n",
      "  [0.         0.         0.         ... 0.         0.         0.        ]]\n",
      "\n",
      " ...\n",
      "\n",
      " [[0.41304348 0.3725     0.30909091 ... 0.46       0.16153846 0.14388889]\n",
      "  [0.41304348 0.37277778 0.29090909 ... 0.46083333 0.16153846 0.14361111]\n",
      "  [0.41304348 0.37277778 0.29090909 ... 0.46083333 0.16153846 0.14361111]\n",
      "  ...\n",
      "  [0.         0.         0.         ... 0.         0.         0.        ]\n",
      "  [0.         0.         0.         ... 0.         0.         0.        ]\n",
      "  [0.         0.         0.         ... 0.         0.         0.        ]]\n",
      "\n",
      " [[0.45652174 0.36916667 0.30909091 ... 0.44694444 0.19230769 0.14972222]\n",
      "  [0.43478261 0.37       0.30909091 ... 0.44638889 0.19230769 0.14916667]\n",
      "  [0.43478261 0.37       0.30909091 ... 0.44638889 0.19230769 0.14916667]\n",
      "  ...\n",
      "  [0.         0.         0.         ... 0.         0.         0.        ]\n",
      "  [0.         0.         0.         ... 0.         0.         0.        ]\n",
      "  [0.         0.         0.         ... 0.         0.         0.        ]]\n",
      "\n",
      " [[0.43478261 0.37194444 0.30909091 ... 0.45416667 0.17692308 0.14611111]\n",
      "  [0.43478261 0.37194444 0.30909091 ... 0.45416667 0.17692308 0.14611111]\n",
      "  [0.43478261 0.37194444 0.30909091 ... 0.45472222 0.17692308 0.14583333]\n",
      "  ...\n",
      "  [0.         0.         0.         ... 0.         0.         0.        ]\n",
      "  [0.         0.         0.         ... 0.         0.         0.        ]\n",
      "  [0.         0.         0.         ... 0.         0.         0.        ]]]\n",
      "y:\n",
      "[[[0.06027987 0.03416723 0.45455793 0.01282834]\n",
      "  [0.06996771 0.03362518 0.44920575 0.0323763 ]\n",
      "  [0.09795479 0.03320257 0.4432017  0.0415394 ]\n",
      "  ...\n",
      "  [0.         0.         0.         0.        ]\n",
      "  [0.         0.         0.         0.        ]\n",
      "  [0.         0.         0.         0.        ]]\n",
      "\n",
      " [[0.05597417 0.03404779 0.45346005 0.01893708]\n",
      "  [0.06889128 0.03361599 0.44951453 0.03176542]\n",
      "  [0.09364909 0.0330372  0.44392219 0.03970678]\n",
      "  ...\n",
      "  [0.         0.         0.         0.        ]\n",
      "  [0.         0.         0.         0.        ]\n",
      "  [0.         0.         0.         0.        ]]\n",
      "\n",
      " [[0.05597417 0.03438772 0.45647923 0.00427611]\n",
      "  [0.05274489 0.03387323 0.45167599 0.02382407]\n",
      "  [0.06996771 0.03345981 0.44755893 0.03298717]\n",
      "  ...\n",
      "  [0.         0.         0.         0.        ]\n",
      "  [0.         0.         0.         0.        ]\n",
      "  [0.         0.         0.         0.        ]]\n",
      "\n",
      " ...\n",
      "\n",
      " [[0.05920344 0.03383649 0.45167599 0.02260232]\n",
      "  [0.07857912 0.0333955  0.44728445 0.0323763 ]\n",
      "  [0.09903122 0.03287183 0.44196658 0.04215027]\n",
      "  ...\n",
      "  [0.         0.         0.         0.        ]\n",
      "  [0.         0.         0.         0.        ]\n",
      "  [0.         0.         0.         0.        ]]\n",
      "\n",
      " [[0.05920344 0.03385486 0.45129859 0.02321319]\n",
      "  [0.06781485 0.03344144 0.44700998 0.03543067]\n",
      "  [0.08073197 0.0329637  0.44248122 0.04520464]\n",
      "  ...\n",
      "  [0.         0.         0.         0.        ]\n",
      "  [0.         0.         0.         0.        ]\n",
      "  [0.         0.         0.         0.        ]]\n",
      "\n",
      " [[0.07642626 0.03377218 0.4505781  0.01405009]\n",
      "  [0.08073197 0.03333119 0.44632381 0.02810018]\n",
      "  [0.10333692 0.03286264 0.44169211 0.03604154]\n",
      "  ...\n",
      "  [0.         0.         0.         0.        ]\n",
      "  [0.         0.         0.         0.        ]\n",
      "  [0.         0.         0.         0.        ]]]\n"
     ]
    }
   ],
   "execution_count": 6
  },
  {
   "metadata": {
    "ExecuteTime": {
     "end_time": "2024-07-03T19:11:46.091415Z",
     "start_time": "2024-07-03T19:11:45.913158Z"
    }
   },
   "cell_type": "code",
   "source": [
    "X_train, X_val, X_test, y_train, y_val, y_test = fe.split_train_test(X, y, test_size=0.2, val_size=0.25)\n",
    "print(f'Shape of training set is {X_train.shape}, {y_train.shape}')\n",
    "print(f'Shape of validation set is {X_val.shape}, {y_val.shape}')\n",
    "print(f'Shape of test set is {X_test.shape}, {y_test.shape}')"
   ],
   "id": "73459bc64e412df7",
   "outputs": [
    {
     "name": "stdout",
     "output_type": "stream",
     "text": [
      "Shape of training set is (281, 6616, 36), (281, 6616, 4)\n",
      "Shape of validation set is (53, 6616, 36), (53, 6616, 4)\n",
      "Shape of test set is (18, 6616, 36), (18, 6616, 4)\n"
     ]
    }
   ],
   "execution_count": 7
  },
  {
   "metadata": {
    "ExecuteTime": {
     "end_time": "2024-07-03T19:11:46.154147Z",
     "start_time": "2024-07-03T19:11:46.092526Z"
    }
   },
   "cell_type": "code",
   "source": [
    "train_dataset, val_dataset, test_dataset = fe.make_tensor_dataset(X_train, X_val, X_test, y_train, y_val, y_test)\n",
    "print(f'training set is {train_dataset}')\n",
    "print(f'validation set is {val_dataset}')\n",
    "print(f'test set is {test_dataset}')"
   ],
   "id": "cc9f58442c45829",
   "outputs": [
    {
     "name": "stdout",
     "output_type": "stream",
     "text": [
      "training set is <torch.utils.data.dataset.TensorDataset object at 0x7fce24034c50>\n",
      "validation set is <torch.utils.data.dataset.TensorDataset object at 0x7fce23f9ec90>\n",
      "test set is <torch.utils.data.dataset.TensorDataset object at 0x7fce240344d0>\n"
     ]
    }
   ],
   "execution_count": 8
  },
  {
   "metadata": {},
   "cell_type": "markdown",
   "source": [
    "# TRAINING\n",
    "\n",
    "---"
   ],
   "id": "5b43b4f4bf85801e"
  },
  {
   "metadata": {
    "ExecuteTime": {
     "end_time": "2024-07-03T19:11:46.158821Z",
     "start_time": "2024-07-03T19:11:46.155876Z"
    }
   },
   "cell_type": "code",
   "source": [
    "# Global variables\n",
    "batch_size_variable = 16\n",
    "max_epochs = 200"
   ],
   "id": "60c4edaa8a6eaa58",
   "outputs": [],
   "execution_count": 9
  },
  {
   "metadata": {
    "ExecuteTime": {
     "end_time": "2024-07-03T19:11:46.165954Z",
     "start_time": "2024-07-03T19:11:46.161899Z"
    }
   },
   "cell_type": "code",
   "source": "flight_dm = FlightDataModule(train_dataset, val_dataset, test_dataset, batch_size=batch_size_variable)",
   "id": "eb5fb1d7ee147bf2",
   "outputs": [],
   "execution_count": 10
  },
  {
   "metadata": {
    "ExecuteTime": {
     "end_time": "2024-07-03T19:11:46.172433Z",
     "start_time": "2024-07-03T19:11:46.167734Z"
    }
   },
   "cell_type": "code",
   "source": [
    "model_name = 'flight_model_LSTM_V1'\n",
    "base_dir = os.getcwd().replace('notebook', '')\n",
    "log_dir = os.path.join(base_dir, 'log')\n",
    "ckpt_dir = os.path.join(base_dir, model_name)\n",
    "os.makedirs(log_dir, exist_ok=True)"
   ],
   "id": "65012f1ba55c16cc",
   "outputs": [],
   "execution_count": 11
  },
  {
   "metadata": {
    "ExecuteTime": {
     "end_time": "2024-07-03T19:11:46.176756Z",
     "start_time": "2024-07-03T19:11:46.173481Z"
    }
   },
   "cell_type": "code",
   "source": "log_dir",
   "id": "69ec9a2c82527150",
   "outputs": [
    {
     "data": {
      "text/plain": [
       "'/mnt/e/Work/chi_phuong_co_su/log'"
      ]
     },
     "execution_count": 12,
     "metadata": {},
     "output_type": "execute_result"
    }
   ],
   "execution_count": 12
  },
  {
   "metadata": {
    "ExecuteTime": {
     "end_time": "2024-07-03T19:11:46.185144Z",
     "start_time": "2024-07-03T19:11:46.177806Z"
    }
   },
   "cell_type": "code",
   "source": [
    "# Some necessary callbacks\n",
    "early_stopping = EarlyStopping(monitor='val_loss', patience=10, verbose=True, mode='min')\n",
    "model_checkpoint = ModelCheckpoint(\n",
    "    dirpath=log_dir,\n",
    "    filename='LSTM-{epoch}-{val_loss:.5f}',\n",
    "    monitor='val_loss', \n",
    "    save_top_k=3, \n",
    "    verbose=True, \n",
    "    mode='min'\n",
    ")\n",
    "logger = TensorBoardLogger(log_dir, name=model_name, log_graph=True)"
   ],
   "id": "8a26b0d36d837eb0",
   "outputs": [],
   "execution_count": 13
  },
  {
   "metadata": {
    "ExecuteTime": {
     "end_time": "2024-07-03T19:11:46.296801Z",
     "start_time": "2024-07-03T19:11:46.186084Z"
    }
   },
   "cell_type": "code",
   "source": [
    "training_module = TrainingFlightModel(\n",
    "    early_stopping_lstm = early_stopping,\n",
    "    model_checkpoint_lstm = model_checkpoint,\n",
    "    logger_lstm = logger,\n",
    "    data_module = flight_dm,\n",
    "    max_epoch=max_epochs,\n",
    ")"
   ],
   "id": "9cd16e81da4b2a21",
   "outputs": [
    {
     "name": "stderr",
     "output_type": "stream",
     "text": [
      "GPU available: True (cuda), used: True\n",
      "TPU available: False, using: 0 TPU cores\n",
      "IPU available: False, using: 0 IPUs\n",
      "HPU available: False, using: 0 HPUs\n"
     ]
    }
   ],
   "execution_count": 14
  },
  {
   "metadata": {
    "ExecuteTime": {
     "end_time": "2024-07-03T20:00:26.681365Z",
     "start_time": "2024-07-03T19:11:46.297722Z"
    }
   },
   "cell_type": "code",
   "source": [
    "training_module.training(\n",
    "    input_size=36, \n",
    "    hidden_size=300, \n",
    "    num_layers=10,\n",
    "    output_size=4, \n",
    "    learning_rate=1e-4,\n",
    "    dropout=0.1,\n",
    ")"
   ],
   "id": "a7d78f64fda6300",
   "outputs": [
    {
     "name": "stderr",
     "output_type": "stream",
     "text": [
      "Missing logger folder: /mnt/e/Work/chi_phuong_co_su/log/flight_model_LSTM_V0\n",
      "/home/anvutrong/miniconda3/envs/wsl_env/lib/python3.11/site-packages/lightning/pytorch/callbacks/model_checkpoint.py:653: Checkpoint directory /mnt/e/Work/chi_phuong_co_su/log exists and is not empty.\n",
      "LOCAL_RANK: 0 - CUDA_VISIBLE_DEVICES: [0]\n",
      "\n",
      "  | Name | Type             | Params | In sizes                                    | Out sizes                                   \n",
      "---------------------------------------------------------------------------------------------------------------------------------------\n",
      "0 | lstm | LSTM             | 3.3 M  | [[1, 6616, 36], [[5, 1, 300], [5, 1, 300]]] | [[1, 6616, 300], [[5, 1, 300], [5, 1, 300]]]\n",
      "1 | fc   | Linear           | 1.2 K  | [1, 6616, 300]                              | [1, 6616, 4]                                \n",
      "2 | loss | MSELoss          | 0      | ?                                           | ?                                           \n",
      "3 | mse  | MeanSquaredError | 0      | ?                                           | ?                                           \n",
      "---------------------------------------------------------------------------------------------------------------------------------------\n",
      "3.3 M     Trainable params\n",
      "0         Non-trainable params\n",
      "3.3 M     Total params\n",
      "13.186    Total estimated model params size (MB)\n"
     ]
    },
    {
     "data": {
      "text/plain": [
       "Sanity Checking: |          | 0/? [00:00<?, ?it/s]"
      ],
      "application/vnd.jupyter.widget-view+json": {
       "version_major": 2,
       "version_minor": 0,
       "model_id": "766cc9c3e09c4c44b0db2fead6897ee7"
      }
     },
     "metadata": {},
     "output_type": "display_data"
    },
    {
     "data": {
      "text/plain": [
       "Training: |          | 0/? [00:00<?, ?it/s]"
      ],
      "application/vnd.jupyter.widget-view+json": {
       "version_major": 2,
       "version_minor": 0,
       "model_id": "0c3b61903762470bb29b659aed3c15a9"
      }
     },
     "metadata": {},
     "output_type": "display_data"
    },
    {
     "data": {
      "text/plain": [
       "Validation: |          | 0/? [00:00<?, ?it/s]"
      ],
      "application/vnd.jupyter.widget-view+json": {
       "version_major": 2,
       "version_minor": 0,
       "model_id": "3c4e2839df234f84911bb23de17f0001"
      }
     },
     "metadata": {},
     "output_type": "display_data"
    },
    {
     "name": "stderr",
     "output_type": "stream",
     "text": [
      "Metric val_loss improved. New best score: 0.008\n",
      "Epoch 0, global step 18: 'val_loss' reached 0.00828 (best 0.00828), saving model to '/mnt/e/Work/chi_phuong_co_su/log/epoch=0-val_loss=0.01.ckpt' as top 3\n"
     ]
    },
    {
     "data": {
      "text/plain": [
       "Validation: |          | 0/? [00:00<?, ?it/s]"
      ],
      "application/vnd.jupyter.widget-view+json": {
       "version_major": 2,
       "version_minor": 0,
       "model_id": "d0c67e1c4eff49df99227c73a41c6060"
      }
     },
     "metadata": {},
     "output_type": "display_data"
    },
    {
     "name": "stderr",
     "output_type": "stream",
     "text": [
      "Metric val_loss improved by 0.000 >= min_delta = 0.0. New best score: 0.008\n",
      "Epoch 1, global step 36: 'val_loss' reached 0.00812 (best 0.00812), saving model to '/mnt/e/Work/chi_phuong_co_su/log/epoch=1-val_loss=0.01.ckpt' as top 3\n"
     ]
    },
    {
     "data": {
      "text/plain": [
       "Validation: |          | 0/? [00:00<?, ?it/s]"
      ],
      "application/vnd.jupyter.widget-view+json": {
       "version_major": 2,
       "version_minor": 0,
       "model_id": "99b961a6f31e4af3a2efb1d4367dfa0a"
      }
     },
     "metadata": {},
     "output_type": "display_data"
    },
    {
     "name": "stderr",
     "output_type": "stream",
     "text": [
      "Metric val_loss improved by 0.000 >= min_delta = 0.0. New best score: 0.008\n",
      "Epoch 2, global step 54: 'val_loss' reached 0.00808 (best 0.00808), saving model to '/mnt/e/Work/chi_phuong_co_su/log/epoch=2-val_loss=0.01.ckpt' as top 3\n"
     ]
    },
    {
     "data": {
      "text/plain": [
       "Validation: |          | 0/? [00:00<?, ?it/s]"
      ],
      "application/vnd.jupyter.widget-view+json": {
       "version_major": 2,
       "version_minor": 0,
       "model_id": "47c10514ac544880ada48712270adabe"
      }
     },
     "metadata": {},
     "output_type": "display_data"
    },
    {
     "name": "stderr",
     "output_type": "stream",
     "text": [
      "Metric val_loss improved by 0.000 >= min_delta = 0.0. New best score: 0.008\n",
      "Epoch 3, global step 72: 'val_loss' reached 0.00797 (best 0.00797), saving model to '/mnt/e/Work/chi_phuong_co_su/log/epoch=3-val_loss=0.01.ckpt' as top 3\n"
     ]
    },
    {
     "data": {
      "text/plain": [
       "Validation: |          | 0/? [00:00<?, ?it/s]"
      ],
      "application/vnd.jupyter.widget-view+json": {
       "version_major": 2,
       "version_minor": 0,
       "model_id": "4f637fffd8584d5e8167402c95256a33"
      }
     },
     "metadata": {},
     "output_type": "display_data"
    },
    {
     "name": "stderr",
     "output_type": "stream",
     "text": [
      "Metric val_loss improved by 0.000 >= min_delta = 0.0. New best score: 0.008\n",
      "Epoch 4, global step 90: 'val_loss' reached 0.00756 (best 0.00756), saving model to '/mnt/e/Work/chi_phuong_co_su/log/epoch=4-val_loss=0.01.ckpt' as top 3\n"
     ]
    },
    {
     "data": {
      "text/plain": [
       "Validation: |          | 0/? [00:00<?, ?it/s]"
      ],
      "application/vnd.jupyter.widget-view+json": {
       "version_major": 2,
       "version_minor": 0,
       "model_id": "1bb59a1edd0f4418b2ec19f49c48250e"
      }
     },
     "metadata": {},
     "output_type": "display_data"
    },
    {
     "name": "stderr",
     "output_type": "stream",
     "text": [
      "Metric val_loss improved by 0.002 >= min_delta = 0.0. New best score: 0.005\n",
      "Epoch 5, global step 108: 'val_loss' reached 0.00532 (best 0.00532), saving model to '/mnt/e/Work/chi_phuong_co_su/log/epoch=5-val_loss=0.01.ckpt' as top 3\n"
     ]
    },
    {
     "data": {
      "text/plain": [
       "Validation: |          | 0/? [00:00<?, ?it/s]"
      ],
      "application/vnd.jupyter.widget-view+json": {
       "version_major": 2,
       "version_minor": 0,
       "model_id": "959ddd413f104fdf89dc835939e96163"
      }
     },
     "metadata": {},
     "output_type": "display_data"
    },
    {
     "name": "stderr",
     "output_type": "stream",
     "text": [
      "Metric val_loss improved by 0.003 >= min_delta = 0.0. New best score: 0.002\n",
      "Epoch 6, global step 126: 'val_loss' reached 0.00239 (best 0.00239), saving model to '/mnt/e/Work/chi_phuong_co_su/log/epoch=6-val_loss=0.00.ckpt' as top 3\n"
     ]
    },
    {
     "data": {
      "text/plain": [
       "Validation: |          | 0/? [00:00<?, ?it/s]"
      ],
      "application/vnd.jupyter.widget-view+json": {
       "version_major": 2,
       "version_minor": 0,
       "model_id": "c0456d40d4174537ba1f061529c956bc"
      }
     },
     "metadata": {},
     "output_type": "display_data"
    },
    {
     "name": "stderr",
     "output_type": "stream",
     "text": [
      "Metric val_loss improved by 0.000 >= min_delta = 0.0. New best score: 0.002\n",
      "Epoch 7, global step 144: 'val_loss' reached 0.00221 (best 0.00221), saving model to '/mnt/e/Work/chi_phuong_co_su/log/epoch=7-val_loss=0.00.ckpt' as top 3\n"
     ]
    },
    {
     "data": {
      "text/plain": [
       "Validation: |          | 0/? [00:00<?, ?it/s]"
      ],
      "application/vnd.jupyter.widget-view+json": {
       "version_major": 2,
       "version_minor": 0,
       "model_id": "7f82839da73544bca16091b50e7974ad"
      }
     },
     "metadata": {},
     "output_type": "display_data"
    },
    {
     "name": "stderr",
     "output_type": "stream",
     "text": [
      "Metric val_loss improved by 0.000 >= min_delta = 0.0. New best score: 0.002\n",
      "Epoch 8, global step 162: 'val_loss' reached 0.00216 (best 0.00216), saving model to '/mnt/e/Work/chi_phuong_co_su/log/epoch=8-val_loss=0.00.ckpt' as top 3\n"
     ]
    },
    {
     "data": {
      "text/plain": [
       "Validation: |          | 0/? [00:00<?, ?it/s]"
      ],
      "application/vnd.jupyter.widget-view+json": {
       "version_major": 2,
       "version_minor": 0,
       "model_id": "8d899c81d6834af9aba1c73cc253c4f1"
      }
     },
     "metadata": {},
     "output_type": "display_data"
    },
    {
     "name": "stderr",
     "output_type": "stream",
     "text": [
      "Metric val_loss improved by 0.000 >= min_delta = 0.0. New best score: 0.002\n",
      "Epoch 9, global step 180: 'val_loss' reached 0.00216 (best 0.00216), saving model to '/mnt/e/Work/chi_phuong_co_su/log/epoch=9-val_loss=0.00.ckpt' as top 3\n"
     ]
    },
    {
     "data": {
      "text/plain": [
       "Validation: |          | 0/? [00:00<?, ?it/s]"
      ],
      "application/vnd.jupyter.widget-view+json": {
       "version_major": 2,
       "version_minor": 0,
       "model_id": "9e948a4d1ebd40a3b2abd5634e254211"
      }
     },
     "metadata": {},
     "output_type": "display_data"
    },
    {
     "name": "stderr",
     "output_type": "stream",
     "text": [
      "Metric val_loss improved by 0.000 >= min_delta = 0.0. New best score: 0.002\n",
      "Epoch 10, global step 198: 'val_loss' reached 0.00215 (best 0.00215), saving model to '/mnt/e/Work/chi_phuong_co_su/log/epoch=10-val_loss=0.00.ckpt' as top 3\n"
     ]
    },
    {
     "data": {
      "text/plain": [
       "Validation: |          | 0/? [00:00<?, ?it/s]"
      ],
      "application/vnd.jupyter.widget-view+json": {
       "version_major": 2,
       "version_minor": 0,
       "model_id": "a65973b686f94fbb872e14483059ac26"
      }
     },
     "metadata": {},
     "output_type": "display_data"
    },
    {
     "name": "stderr",
     "output_type": "stream",
     "text": [
      "Metric val_loss improved by 0.000 >= min_delta = 0.0. New best score: 0.002\n",
      "Epoch 11, global step 216: 'val_loss' reached 0.00215 (best 0.00215), saving model to '/mnt/e/Work/chi_phuong_co_su/log/epoch=11-val_loss=0.00.ckpt' as top 3\n"
     ]
    },
    {
     "data": {
      "text/plain": [
       "Validation: |          | 0/? [00:00<?, ?it/s]"
      ],
      "application/vnd.jupyter.widget-view+json": {
       "version_major": 2,
       "version_minor": 0,
       "model_id": "b342a6d22369419098f3106233ab9a85"
      }
     },
     "metadata": {},
     "output_type": "display_data"
    },
    {
     "name": "stderr",
     "output_type": "stream",
     "text": [
      "Metric val_loss improved by 0.000 >= min_delta = 0.0. New best score: 0.002\n",
      "Epoch 12, global step 234: 'val_loss' reached 0.00215 (best 0.00215), saving model to '/mnt/e/Work/chi_phuong_co_su/log/epoch=12-val_loss=0.00.ckpt' as top 3\n"
     ]
    },
    {
     "data": {
      "text/plain": [
       "Validation: |          | 0/? [00:00<?, ?it/s]"
      ],
      "application/vnd.jupyter.widget-view+json": {
       "version_major": 2,
       "version_minor": 0,
       "model_id": "99ae43e5043d450382aa7397918dd324"
      }
     },
     "metadata": {},
     "output_type": "display_data"
    },
    {
     "name": "stderr",
     "output_type": "stream",
     "text": [
      "Metric val_loss improved by 0.000 >= min_delta = 0.0. New best score: 0.002\n",
      "Epoch 13, global step 252: 'val_loss' reached 0.00215 (best 0.00215), saving model to '/mnt/e/Work/chi_phuong_co_su/log/epoch=13-val_loss=0.00.ckpt' as top 3\n"
     ]
    },
    {
     "data": {
      "text/plain": [
       "Validation: |          | 0/? [00:00<?, ?it/s]"
      ],
      "application/vnd.jupyter.widget-view+json": {
       "version_major": 2,
       "version_minor": 0,
       "model_id": "349c2aa042864062a16be36a9298eb6d"
      }
     },
     "metadata": {},
     "output_type": "display_data"
    },
    {
     "name": "stderr",
     "output_type": "stream",
     "text": [
      "Metric val_loss improved by 0.000 >= min_delta = 0.0. New best score: 0.002\n",
      "Epoch 14, global step 270: 'val_loss' reached 0.00215 (best 0.00215), saving model to '/mnt/e/Work/chi_phuong_co_su/log/epoch=14-val_loss=0.00.ckpt' as top 3\n"
     ]
    },
    {
     "data": {
      "text/plain": [
       "Validation: |          | 0/? [00:00<?, ?it/s]"
      ],
      "application/vnd.jupyter.widget-view+json": {
       "version_major": 2,
       "version_minor": 0,
       "model_id": "285bb57a3e3f48d9b1d04ddaa886aad6"
      }
     },
     "metadata": {},
     "output_type": "display_data"
    },
    {
     "name": "stderr",
     "output_type": "stream",
     "text": [
      "Metric val_loss improved by 0.000 >= min_delta = 0.0. New best score: 0.002\n",
      "Epoch 15, global step 288: 'val_loss' reached 0.00215 (best 0.00215), saving model to '/mnt/e/Work/chi_phuong_co_su/log/epoch=15-val_loss=0.00.ckpt' as top 3\n"
     ]
    },
    {
     "data": {
      "text/plain": [
       "Validation: |          | 0/? [00:00<?, ?it/s]"
      ],
      "application/vnd.jupyter.widget-view+json": {
       "version_major": 2,
       "version_minor": 0,
       "model_id": "0c40a4aaa1274b62be3d0b2ce2d25384"
      }
     },
     "metadata": {},
     "output_type": "display_data"
    },
    {
     "name": "stderr",
     "output_type": "stream",
     "text": [
      "Metric val_loss improved by 0.000 >= min_delta = 0.0. New best score: 0.002\n",
      "Epoch 16, global step 306: 'val_loss' reached 0.00215 (best 0.00215), saving model to '/mnt/e/Work/chi_phuong_co_su/log/epoch=16-val_loss=0.00.ckpt' as top 3\n"
     ]
    },
    {
     "data": {
      "text/plain": [
       "Validation: |          | 0/? [00:00<?, ?it/s]"
      ],
      "application/vnd.jupyter.widget-view+json": {
       "version_major": 2,
       "version_minor": 0,
       "model_id": "ce9721a4c0f14cc0b1dd8f13728d23d9"
      }
     },
     "metadata": {},
     "output_type": "display_data"
    },
    {
     "name": "stderr",
     "output_type": "stream",
     "text": [
      "Metric val_loss improved by 0.000 >= min_delta = 0.0. New best score: 0.002\n",
      "Epoch 17, global step 324: 'val_loss' reached 0.00215 (best 0.00215), saving model to '/mnt/e/Work/chi_phuong_co_su/log/epoch=17-val_loss=0.00.ckpt' as top 3\n"
     ]
    },
    {
     "data": {
      "text/plain": [
       "Validation: |          | 0/? [00:00<?, ?it/s]"
      ],
      "application/vnd.jupyter.widget-view+json": {
       "version_major": 2,
       "version_minor": 0,
       "model_id": "64f67510b914461497333ededf5eb9ef"
      }
     },
     "metadata": {},
     "output_type": "display_data"
    },
    {
     "name": "stderr",
     "output_type": "stream",
     "text": [
      "Metric val_loss improved by 0.000 >= min_delta = 0.0. New best score: 0.002\n",
      "Epoch 18, global step 342: 'val_loss' reached 0.00214 (best 0.00214), saving model to '/mnt/e/Work/chi_phuong_co_su/log/epoch=18-val_loss=0.00.ckpt' as top 3\n"
     ]
    },
    {
     "data": {
      "text/plain": [
       "Validation: |          | 0/? [00:00<?, ?it/s]"
      ],
      "application/vnd.jupyter.widget-view+json": {
       "version_major": 2,
       "version_minor": 0,
       "model_id": "5ead90c4faa4454c8d64f473c5fa4f77"
      }
     },
     "metadata": {},
     "output_type": "display_data"
    },
    {
     "name": "stderr",
     "output_type": "stream",
     "text": [
      "Metric val_loss improved by 0.000 >= min_delta = 0.0. New best score: 0.002\n",
      "Epoch 19, global step 360: 'val_loss' reached 0.00214 (best 0.00214), saving model to '/mnt/e/Work/chi_phuong_co_su/log/epoch=19-val_loss=0.00.ckpt' as top 3\n"
     ]
    },
    {
     "data": {
      "text/plain": [
       "Validation: |          | 0/? [00:00<?, ?it/s]"
      ],
      "application/vnd.jupyter.widget-view+json": {
       "version_major": 2,
       "version_minor": 0,
       "model_id": "afaf1c54ecd84dfa99e1132956d16e99"
      }
     },
     "metadata": {},
     "output_type": "display_data"
    },
    {
     "name": "stderr",
     "output_type": "stream",
     "text": [
      "Metric val_loss improved by 0.000 >= min_delta = 0.0. New best score: 0.002\n",
      "Epoch 20, global step 378: 'val_loss' reached 0.00214 (best 0.00214), saving model to '/mnt/e/Work/chi_phuong_co_su/log/epoch=20-val_loss=0.00.ckpt' as top 3\n"
     ]
    },
    {
     "data": {
      "text/plain": [
       "Validation: |          | 0/? [00:00<?, ?it/s]"
      ],
      "application/vnd.jupyter.widget-view+json": {
       "version_major": 2,
       "version_minor": 0,
       "model_id": "0d1427aab7ac41108253b5e47b789ffc"
      }
     },
     "metadata": {},
     "output_type": "display_data"
    },
    {
     "name": "stderr",
     "output_type": "stream",
     "text": [
      "Metric val_loss improved by 0.000 >= min_delta = 0.0. New best score: 0.002\n",
      "Epoch 21, global step 396: 'val_loss' reached 0.00214 (best 0.00214), saving model to '/mnt/e/Work/chi_phuong_co_su/log/epoch=21-val_loss=0.00.ckpt' as top 3\n"
     ]
    },
    {
     "data": {
      "text/plain": [
       "Validation: |          | 0/? [00:00<?, ?it/s]"
      ],
      "application/vnd.jupyter.widget-view+json": {
       "version_major": 2,
       "version_minor": 0,
       "model_id": "5e082ada419548be9eb41fcce4a0a3cf"
      }
     },
     "metadata": {},
     "output_type": "display_data"
    },
    {
     "name": "stderr",
     "output_type": "stream",
     "text": [
      "Metric val_loss improved by 0.000 >= min_delta = 0.0. New best score: 0.002\n",
      "Epoch 22, global step 414: 'val_loss' reached 0.00214 (best 0.00214), saving model to '/mnt/e/Work/chi_phuong_co_su/log/epoch=22-val_loss=0.00.ckpt' as top 3\n"
     ]
    },
    {
     "data": {
      "text/plain": [
       "Validation: |          | 0/? [00:00<?, ?it/s]"
      ],
      "application/vnd.jupyter.widget-view+json": {
       "version_major": 2,
       "version_minor": 0,
       "model_id": "fe09d0f34ac043fda0e7566bd85b4d50"
      }
     },
     "metadata": {},
     "output_type": "display_data"
    },
    {
     "name": "stderr",
     "output_type": "stream",
     "text": [
      "Metric val_loss improved by 0.000 >= min_delta = 0.0. New best score: 0.002\n",
      "Epoch 23, global step 432: 'val_loss' reached 0.00214 (best 0.00214), saving model to '/mnt/e/Work/chi_phuong_co_su/log/epoch=23-val_loss=0.00.ckpt' as top 3\n"
     ]
    },
    {
     "data": {
      "text/plain": [
       "Validation: |          | 0/? [00:00<?, ?it/s]"
      ],
      "application/vnd.jupyter.widget-view+json": {
       "version_major": 2,
       "version_minor": 0,
       "model_id": "ccf3300d02774c0da37323db5d65beb0"
      }
     },
     "metadata": {},
     "output_type": "display_data"
    },
    {
     "name": "stderr",
     "output_type": "stream",
     "text": [
      "Metric val_loss improved by 0.000 >= min_delta = 0.0. New best score: 0.002\n",
      "Epoch 24, global step 450: 'val_loss' reached 0.00214 (best 0.00214), saving model to '/mnt/e/Work/chi_phuong_co_su/log/epoch=24-val_loss=0.00.ckpt' as top 3\n"
     ]
    },
    {
     "data": {
      "text/plain": [
       "Validation: |          | 0/? [00:00<?, ?it/s]"
      ],
      "application/vnd.jupyter.widget-view+json": {
       "version_major": 2,
       "version_minor": 0,
       "model_id": "0c1601f6a1c844568a459065904c2ef5"
      }
     },
     "metadata": {},
     "output_type": "display_data"
    },
    {
     "name": "stderr",
     "output_type": "stream",
     "text": [
      "Metric val_loss improved by 0.000 >= min_delta = 0.0. New best score: 0.002\n",
      "Epoch 25, global step 468: 'val_loss' reached 0.00214 (best 0.00214), saving model to '/mnt/e/Work/chi_phuong_co_su/log/epoch=25-val_loss=0.00.ckpt' as top 3\n"
     ]
    },
    {
     "data": {
      "text/plain": [
       "Validation: |          | 0/? [00:00<?, ?it/s]"
      ],
      "application/vnd.jupyter.widget-view+json": {
       "version_major": 2,
       "version_minor": 0,
       "model_id": "7378869a81d7454cb827ce90243875e1"
      }
     },
     "metadata": {},
     "output_type": "display_data"
    },
    {
     "name": "stderr",
     "output_type": "stream",
     "text": [
      "Metric val_loss improved by 0.000 >= min_delta = 0.0. New best score: 0.002\n",
      "Epoch 26, global step 486: 'val_loss' reached 0.00214 (best 0.00214), saving model to '/mnt/e/Work/chi_phuong_co_su/log/epoch=26-val_loss=0.00.ckpt' as top 3\n"
     ]
    },
    {
     "data": {
      "text/plain": [
       "Validation: |          | 0/? [00:00<?, ?it/s]"
      ],
      "application/vnd.jupyter.widget-view+json": {
       "version_major": 2,
       "version_minor": 0,
       "model_id": "9617c8f7a4644a5b96bdb73c178e2976"
      }
     },
     "metadata": {},
     "output_type": "display_data"
    },
    {
     "name": "stderr",
     "output_type": "stream",
     "text": [
      "Metric val_loss improved by 0.000 >= min_delta = 0.0. New best score: 0.002\n",
      "Epoch 27, global step 504: 'val_loss' reached 0.00214 (best 0.00214), saving model to '/mnt/e/Work/chi_phuong_co_su/log/epoch=27-val_loss=0.00.ckpt' as top 3\n"
     ]
    },
    {
     "data": {
      "text/plain": [
       "Validation: |          | 0/? [00:00<?, ?it/s]"
      ],
      "application/vnd.jupyter.widget-view+json": {
       "version_major": 2,
       "version_minor": 0,
       "model_id": "b9807f6304154583aca9b1995334cfd3"
      }
     },
     "metadata": {},
     "output_type": "display_data"
    },
    {
     "name": "stderr",
     "output_type": "stream",
     "text": [
      "Metric val_loss improved by 0.000 >= min_delta = 0.0. New best score: 0.002\n",
      "Epoch 28, global step 522: 'val_loss' reached 0.00214 (best 0.00214), saving model to '/mnt/e/Work/chi_phuong_co_su/log/epoch=28-val_loss=0.00.ckpt' as top 3\n"
     ]
    },
    {
     "data": {
      "text/plain": [
       "Validation: |          | 0/? [00:00<?, ?it/s]"
      ],
      "application/vnd.jupyter.widget-view+json": {
       "version_major": 2,
       "version_minor": 0,
       "model_id": "ad2617227f68445c87ee4b09a381c77c"
      }
     },
     "metadata": {},
     "output_type": "display_data"
    },
    {
     "name": "stderr",
     "output_type": "stream",
     "text": [
      "Metric val_loss improved by 0.000 >= min_delta = 0.0. New best score: 0.002\n",
      "Epoch 29, global step 540: 'val_loss' reached 0.00214 (best 0.00214), saving model to '/mnt/e/Work/chi_phuong_co_su/log/epoch=29-val_loss=0.00.ckpt' as top 3\n"
     ]
    },
    {
     "data": {
      "text/plain": [
       "Validation: |          | 0/? [00:00<?, ?it/s]"
      ],
      "application/vnd.jupyter.widget-view+json": {
       "version_major": 2,
       "version_minor": 0,
       "model_id": "650c0ef70e704c7bae94f055a520bb97"
      }
     },
     "metadata": {},
     "output_type": "display_data"
    },
    {
     "name": "stderr",
     "output_type": "stream",
     "text": [
      "Metric val_loss improved by 0.000 >= min_delta = 0.0. New best score: 0.002\n",
      "Epoch 30, global step 558: 'val_loss' reached 0.00214 (best 0.00214), saving model to '/mnt/e/Work/chi_phuong_co_su/log/epoch=30-val_loss=0.00.ckpt' as top 3\n"
     ]
    },
    {
     "data": {
      "text/plain": [
       "Validation: |          | 0/? [00:00<?, ?it/s]"
      ],
      "application/vnd.jupyter.widget-view+json": {
       "version_major": 2,
       "version_minor": 0,
       "model_id": "2a0612a945e8423cacee02f00b43a463"
      }
     },
     "metadata": {},
     "output_type": "display_data"
    },
    {
     "name": "stderr",
     "output_type": "stream",
     "text": [
      "Metric val_loss improved by 0.000 >= min_delta = 0.0. New best score: 0.002\n",
      "Epoch 31, global step 576: 'val_loss' reached 0.00214 (best 0.00214), saving model to '/mnt/e/Work/chi_phuong_co_su/log/epoch=31-val_loss=0.00.ckpt' as top 3\n"
     ]
    },
    {
     "data": {
      "text/plain": [
       "Validation: |          | 0/? [00:00<?, ?it/s]"
      ],
      "application/vnd.jupyter.widget-view+json": {
       "version_major": 2,
       "version_minor": 0,
       "model_id": "add6f333f58e4476a9a7e403bb4916d4"
      }
     },
     "metadata": {},
     "output_type": "display_data"
    },
    {
     "name": "stderr",
     "output_type": "stream",
     "text": [
      "Metric val_loss improved by 0.000 >= min_delta = 0.0. New best score: 0.002\n",
      "Epoch 32, global step 594: 'val_loss' reached 0.00214 (best 0.00214), saving model to '/mnt/e/Work/chi_phuong_co_su/log/epoch=32-val_loss=0.00.ckpt' as top 3\n"
     ]
    },
    {
     "data": {
      "text/plain": [
       "Validation: |          | 0/? [00:00<?, ?it/s]"
      ],
      "application/vnd.jupyter.widget-view+json": {
       "version_major": 2,
       "version_minor": 0,
       "model_id": "762c78bee65e4e9285fc62eea73fdf8b"
      }
     },
     "metadata": {},
     "output_type": "display_data"
    },
    {
     "name": "stderr",
     "output_type": "stream",
     "text": [
      "Metric val_loss improved by 0.000 >= min_delta = 0.0. New best score: 0.002\n",
      "Epoch 33, global step 612: 'val_loss' reached 0.00214 (best 0.00214), saving model to '/mnt/e/Work/chi_phuong_co_su/log/epoch=33-val_loss=0.00.ckpt' as top 3\n"
     ]
    },
    {
     "data": {
      "text/plain": [
       "Validation: |          | 0/? [00:00<?, ?it/s]"
      ],
      "application/vnd.jupyter.widget-view+json": {
       "version_major": 2,
       "version_minor": 0,
       "model_id": "0a540a5ed80b4131b8ada340027698b8"
      }
     },
     "metadata": {},
     "output_type": "display_data"
    },
    {
     "name": "stderr",
     "output_type": "stream",
     "text": [
      "Metric val_loss improved by 0.000 >= min_delta = 0.0. New best score: 0.002\n",
      "Epoch 34, global step 630: 'val_loss' reached 0.00214 (best 0.00214), saving model to '/mnt/e/Work/chi_phuong_co_su/log/epoch=34-val_loss=0.00.ckpt' as top 3\n"
     ]
    },
    {
     "data": {
      "text/plain": [
       "Validation: |          | 0/? [00:00<?, ?it/s]"
      ],
      "application/vnd.jupyter.widget-view+json": {
       "version_major": 2,
       "version_minor": 0,
       "model_id": "9752cc70b8324c729a3da91a733de1eb"
      }
     },
     "metadata": {},
     "output_type": "display_data"
    },
    {
     "name": "stderr",
     "output_type": "stream",
     "text": [
      "Metric val_loss improved by 0.000 >= min_delta = 0.0. New best score: 0.002\n",
      "Epoch 35, global step 648: 'val_loss' reached 0.00214 (best 0.00214), saving model to '/mnt/e/Work/chi_phuong_co_su/log/epoch=35-val_loss=0.00.ckpt' as top 3\n"
     ]
    },
    {
     "data": {
      "text/plain": [
       "Validation: |          | 0/? [00:00<?, ?it/s]"
      ],
      "application/vnd.jupyter.widget-view+json": {
       "version_major": 2,
       "version_minor": 0,
       "model_id": "0a56b3f12f7b41dba88dd55453f8b5be"
      }
     },
     "metadata": {},
     "output_type": "display_data"
    },
    {
     "name": "stderr",
     "output_type": "stream",
     "text": [
      "Metric val_loss improved by 0.000 >= min_delta = 0.0. New best score: 0.002\n",
      "Epoch 36, global step 666: 'val_loss' reached 0.00214 (best 0.00214), saving model to '/mnt/e/Work/chi_phuong_co_su/log/epoch=36-val_loss=0.00.ckpt' as top 3\n"
     ]
    },
    {
     "data": {
      "text/plain": [
       "Validation: |          | 0/? [00:00<?, ?it/s]"
      ],
      "application/vnd.jupyter.widget-view+json": {
       "version_major": 2,
       "version_minor": 0,
       "model_id": "6bee06af5dc74f1fbc38e55fe343c073"
      }
     },
     "metadata": {},
     "output_type": "display_data"
    },
    {
     "name": "stderr",
     "output_type": "stream",
     "text": [
      "Metric val_loss improved by 0.000 >= min_delta = 0.0. New best score: 0.002\n",
      "Epoch 37, global step 684: 'val_loss' reached 0.00214 (best 0.00214), saving model to '/mnt/e/Work/chi_phuong_co_su/log/epoch=37-val_loss=0.00.ckpt' as top 3\n"
     ]
    },
    {
     "data": {
      "text/plain": [
       "Validation: |          | 0/? [00:00<?, ?it/s]"
      ],
      "application/vnd.jupyter.widget-view+json": {
       "version_major": 2,
       "version_minor": 0,
       "model_id": "0e3e993fbad04e029802f0e78b9150fc"
      }
     },
     "metadata": {},
     "output_type": "display_data"
    },
    {
     "name": "stderr",
     "output_type": "stream",
     "text": [
      "Metric val_loss improved by 0.000 >= min_delta = 0.0. New best score: 0.002\n",
      "Epoch 38, global step 702: 'val_loss' reached 0.00214 (best 0.00214), saving model to '/mnt/e/Work/chi_phuong_co_su/log/epoch=38-val_loss=0.00.ckpt' as top 3\n"
     ]
    },
    {
     "data": {
      "text/plain": [
       "Validation: |          | 0/? [00:00<?, ?it/s]"
      ],
      "application/vnd.jupyter.widget-view+json": {
       "version_major": 2,
       "version_minor": 0,
       "model_id": "f889a545895946ffaadf9d987a3270e8"
      }
     },
     "metadata": {},
     "output_type": "display_data"
    },
    {
     "name": "stderr",
     "output_type": "stream",
     "text": [
      "Metric val_loss improved by 0.000 >= min_delta = 0.0. New best score: 0.002\n",
      "Epoch 39, global step 720: 'val_loss' reached 0.00214 (best 0.00214), saving model to '/mnt/e/Work/chi_phuong_co_su/log/epoch=39-val_loss=0.00.ckpt' as top 3\n"
     ]
    },
    {
     "data": {
      "text/plain": [
       "Validation: |          | 0/? [00:00<?, ?it/s]"
      ],
      "application/vnd.jupyter.widget-view+json": {
       "version_major": 2,
       "version_minor": 0,
       "model_id": "ab89d34e5a2042a4be5677f4fc5c941d"
      }
     },
     "metadata": {},
     "output_type": "display_data"
    },
    {
     "name": "stderr",
     "output_type": "stream",
     "text": [
      "Epoch 40, global step 738: 'val_loss' reached 0.00214 (best 0.00214), saving model to '/mnt/e/Work/chi_phuong_co_su/log/epoch=40-val_loss=0.00.ckpt' as top 3\n"
     ]
    },
    {
     "data": {
      "text/plain": [
       "Validation: |          | 0/? [00:00<?, ?it/s]"
      ],
      "application/vnd.jupyter.widget-view+json": {
       "version_major": 2,
       "version_minor": 0,
       "model_id": "98648e9e0886469cab30142ea72b280a"
      }
     },
     "metadata": {},
     "output_type": "display_data"
    },
    {
     "name": "stderr",
     "output_type": "stream",
     "text": [
      "Metric val_loss improved by 0.000 >= min_delta = 0.0. New best score: 0.002\n",
      "Epoch 41, global step 756: 'val_loss' reached 0.00214 (best 0.00214), saving model to '/mnt/e/Work/chi_phuong_co_su/log/epoch=41-val_loss=0.00.ckpt' as top 3\n"
     ]
    },
    {
     "data": {
      "text/plain": [
       "Validation: |          | 0/? [00:00<?, ?it/s]"
      ],
      "application/vnd.jupyter.widget-view+json": {
       "version_major": 2,
       "version_minor": 0,
       "model_id": "2e6f17b98956467db8658bc808de1bea"
      }
     },
     "metadata": {},
     "output_type": "display_data"
    },
    {
     "name": "stderr",
     "output_type": "stream",
     "text": [
      "Metric val_loss improved by 0.000 >= min_delta = 0.0. New best score: 0.002\n",
      "Epoch 42, global step 774: 'val_loss' reached 0.00214 (best 0.00214), saving model to '/mnt/e/Work/chi_phuong_co_su/log/epoch=42-val_loss=0.00.ckpt' as top 3\n"
     ]
    },
    {
     "data": {
      "text/plain": [
       "Validation: |          | 0/? [00:00<?, ?it/s]"
      ],
      "application/vnd.jupyter.widget-view+json": {
       "version_major": 2,
       "version_minor": 0,
       "model_id": "daa8f91ce9a343aca0db6581c382b798"
      }
     },
     "metadata": {},
     "output_type": "display_data"
    },
    {
     "name": "stderr",
     "output_type": "stream",
     "text": [
      "Epoch 43, global step 792: 'val_loss' reached 0.00214 (best 0.00214), saving model to '/mnt/e/Work/chi_phuong_co_su/log/epoch=43-val_loss=0.00.ckpt' as top 3\n"
     ]
    },
    {
     "data": {
      "text/plain": [
       "Validation: |          | 0/? [00:00<?, ?it/s]"
      ],
      "application/vnd.jupyter.widget-view+json": {
       "version_major": 2,
       "version_minor": 0,
       "model_id": "5f08ed8787314a0db3d36e69cb6002be"
      }
     },
     "metadata": {},
     "output_type": "display_data"
    },
    {
     "name": "stderr",
     "output_type": "stream",
     "text": [
      "Epoch 44, global step 810: 'val_loss' was not in top 3\n"
     ]
    },
    {
     "data": {
      "text/plain": [
       "Validation: |          | 0/? [00:00<?, ?it/s]"
      ],
      "application/vnd.jupyter.widget-view+json": {
       "version_major": 2,
       "version_minor": 0,
       "model_id": "9782b364abfe4490be186b9273971a9d"
      }
     },
     "metadata": {},
     "output_type": "display_data"
    },
    {
     "name": "stderr",
     "output_type": "stream",
     "text": [
      "Epoch 45, global step 828: 'val_loss' was not in top 3\n"
     ]
    },
    {
     "data": {
      "text/plain": [
       "Validation: |          | 0/? [00:00<?, ?it/s]"
      ],
      "application/vnd.jupyter.widget-view+json": {
       "version_major": 2,
       "version_minor": 0,
       "model_id": "54ba5f0c26544cfc9ad89c245fd6b6d9"
      }
     },
     "metadata": {},
     "output_type": "display_data"
    },
    {
     "name": "stderr",
     "output_type": "stream",
     "text": [
      "Metric val_loss improved by 0.000 >= min_delta = 0.0. New best score: 0.002\n",
      "Epoch 46, global step 846: 'val_loss' reached 0.00214 (best 0.00214), saving model to '/mnt/e/Work/chi_phuong_co_su/log/epoch=46-val_loss=0.00.ckpt' as top 3\n"
     ]
    },
    {
     "data": {
      "text/plain": [
       "Validation: |          | 0/? [00:00<?, ?it/s]"
      ],
      "application/vnd.jupyter.widget-view+json": {
       "version_major": 2,
       "version_minor": 0,
       "model_id": "09731c6adee74695a77f4dc0938e62df"
      }
     },
     "metadata": {},
     "output_type": "display_data"
    },
    {
     "name": "stderr",
     "output_type": "stream",
     "text": [
      "Epoch 47, global step 864: 'val_loss' was not in top 3\n"
     ]
    },
    {
     "data": {
      "text/plain": [
       "Validation: |          | 0/? [00:00<?, ?it/s]"
      ],
      "application/vnd.jupyter.widget-view+json": {
       "version_major": 2,
       "version_minor": 0,
       "model_id": "c27b7724fe9e4eb68346e47580fe497a"
      }
     },
     "metadata": {},
     "output_type": "display_data"
    },
    {
     "name": "stderr",
     "output_type": "stream",
     "text": [
      "Epoch 48, global step 882: 'val_loss' reached 0.00214 (best 0.00214), saving model to '/mnt/e/Work/chi_phuong_co_su/log/epoch=48-val_loss=0.00.ckpt' as top 3\n"
     ]
    },
    {
     "data": {
      "text/plain": [
       "Validation: |          | 0/? [00:00<?, ?it/s]"
      ],
      "application/vnd.jupyter.widget-view+json": {
       "version_major": 2,
       "version_minor": 0,
       "model_id": "776159dffb9743a187e8f8c96e830fe2"
      }
     },
     "metadata": {},
     "output_type": "display_data"
    },
    {
     "name": "stderr",
     "output_type": "stream",
     "text": [
      "Metric val_loss improved by 0.000 >= min_delta = 0.0. New best score: 0.002\n",
      "Epoch 49, global step 900: 'val_loss' reached 0.00214 (best 0.00214), saving model to '/mnt/e/Work/chi_phuong_co_su/log/epoch=49-val_loss=0.00.ckpt' as top 3\n"
     ]
    },
    {
     "data": {
      "text/plain": [
       "Validation: |          | 0/? [00:00<?, ?it/s]"
      ],
      "application/vnd.jupyter.widget-view+json": {
       "version_major": 2,
       "version_minor": 0,
       "model_id": "894ff260b6da4a899740c26d5f9a89a5"
      }
     },
     "metadata": {},
     "output_type": "display_data"
    },
    {
     "name": "stderr",
     "output_type": "stream",
     "text": [
      "Epoch 50, global step 918: 'val_loss' reached 0.00214 (best 0.00214), saving model to '/mnt/e/Work/chi_phuong_co_su/log/epoch=50-val_loss=0.00.ckpt' as top 3\n"
     ]
    },
    {
     "data": {
      "text/plain": [
       "Validation: |          | 0/? [00:00<?, ?it/s]"
      ],
      "application/vnd.jupyter.widget-view+json": {
       "version_major": 2,
       "version_minor": 0,
       "model_id": "6cc86dcd020d479f807eb6307727930c"
      }
     },
     "metadata": {},
     "output_type": "display_data"
    },
    {
     "name": "stderr",
     "output_type": "stream",
     "text": [
      "Metric val_loss improved by 0.000 >= min_delta = 0.0. New best score: 0.002\n",
      "Epoch 51, global step 936: 'val_loss' reached 0.00214 (best 0.00214), saving model to '/mnt/e/Work/chi_phuong_co_su/log/epoch=51-val_loss=0.00.ckpt' as top 3\n"
     ]
    },
    {
     "data": {
      "text/plain": [
       "Validation: |          | 0/? [00:00<?, ?it/s]"
      ],
      "application/vnd.jupyter.widget-view+json": {
       "version_major": 2,
       "version_minor": 0,
       "model_id": "d2a12b465cc1413fa878c36a065e4e1e"
      }
     },
     "metadata": {},
     "output_type": "display_data"
    },
    {
     "name": "stderr",
     "output_type": "stream",
     "text": [
      "Epoch 52, global step 954: 'val_loss' reached 0.00214 (best 0.00214), saving model to '/mnt/e/Work/chi_phuong_co_su/log/epoch=52-val_loss=0.00.ckpt' as top 3\n"
     ]
    },
    {
     "data": {
      "text/plain": [
       "Validation: |          | 0/? [00:00<?, ?it/s]"
      ],
      "application/vnd.jupyter.widget-view+json": {
       "version_major": 2,
       "version_minor": 0,
       "model_id": "ec3bc5fbe2064b4e92cb95e3edf03428"
      }
     },
     "metadata": {},
     "output_type": "display_data"
    },
    {
     "name": "stderr",
     "output_type": "stream",
     "text": [
      "Epoch 53, global step 972: 'val_loss' was not in top 3\n"
     ]
    },
    {
     "data": {
      "text/plain": [
       "Validation: |          | 0/? [00:00<?, ?it/s]"
      ],
      "application/vnd.jupyter.widget-view+json": {
       "version_major": 2,
       "version_minor": 0,
       "model_id": "fd7503921e114d65917bb93c45510a1d"
      }
     },
     "metadata": {},
     "output_type": "display_data"
    },
    {
     "name": "stderr",
     "output_type": "stream",
     "text": [
      "Epoch 54, global step 990: 'val_loss' was not in top 3\n"
     ]
    },
    {
     "data": {
      "text/plain": [
       "Validation: |          | 0/? [00:00<?, ?it/s]"
      ],
      "application/vnd.jupyter.widget-view+json": {
       "version_major": 2,
       "version_minor": 0,
       "model_id": "477f5e92b7d04d9a96a7207af67b1188"
      }
     },
     "metadata": {},
     "output_type": "display_data"
    },
    {
     "name": "stderr",
     "output_type": "stream",
     "text": [
      "Epoch 55, global step 1008: 'val_loss' reached 0.00214 (best 0.00214), saving model to '/mnt/e/Work/chi_phuong_co_su/log/epoch=55-val_loss=0.00.ckpt' as top 3\n"
     ]
    },
    {
     "data": {
      "text/plain": [
       "Validation: |          | 0/? [00:00<?, ?it/s]"
      ],
      "application/vnd.jupyter.widget-view+json": {
       "version_major": 2,
       "version_minor": 0,
       "model_id": "e25d4b10d1af488eb298cbe2df4184c6"
      }
     },
     "metadata": {},
     "output_type": "display_data"
    },
    {
     "name": "stderr",
     "output_type": "stream",
     "text": [
      "Epoch 56, global step 1026: 'val_loss' was not in top 3\n"
     ]
    },
    {
     "data": {
      "text/plain": [
       "Validation: |          | 0/? [00:00<?, ?it/s]"
      ],
      "application/vnd.jupyter.widget-view+json": {
       "version_major": 2,
       "version_minor": 0,
       "model_id": "8dd42ce5464345f19294b97f92cddbed"
      }
     },
     "metadata": {},
     "output_type": "display_data"
    },
    {
     "name": "stderr",
     "output_type": "stream",
     "text": [
      "Epoch 57, global step 1044: 'val_loss' was not in top 3\n"
     ]
    },
    {
     "data": {
      "text/plain": [
       "Validation: |          | 0/? [00:00<?, ?it/s]"
      ],
      "application/vnd.jupyter.widget-view+json": {
       "version_major": 2,
       "version_minor": 0,
       "model_id": "07c69a50a8e14906a0c954aa4eba229d"
      }
     },
     "metadata": {},
     "output_type": "display_data"
    },
    {
     "name": "stderr",
     "output_type": "stream",
     "text": [
      "Epoch 58, global step 1062: 'val_loss' was not in top 3\n"
     ]
    },
    {
     "data": {
      "text/plain": [
       "Validation: |          | 0/? [00:00<?, ?it/s]"
      ],
      "application/vnd.jupyter.widget-view+json": {
       "version_major": 2,
       "version_minor": 0,
       "model_id": "3b65bdf135464008aba7556e107cb72c"
      }
     },
     "metadata": {},
     "output_type": "display_data"
    },
    {
     "name": "stderr",
     "output_type": "stream",
     "text": [
      "Epoch 59, global step 1080: 'val_loss' was not in top 3\n"
     ]
    },
    {
     "data": {
      "text/plain": [
       "Validation: |          | 0/? [00:00<?, ?it/s]"
      ],
      "application/vnd.jupyter.widget-view+json": {
       "version_major": 2,
       "version_minor": 0,
       "model_id": "cc5586cd1925431590993b64fba43a2b"
      }
     },
     "metadata": {},
     "output_type": "display_data"
    },
    {
     "name": "stderr",
     "output_type": "stream",
     "text": [
      "Epoch 60, global step 1098: 'val_loss' was not in top 3\n"
     ]
    },
    {
     "data": {
      "text/plain": [
       "Validation: |          | 0/? [00:00<?, ?it/s]"
      ],
      "application/vnd.jupyter.widget-view+json": {
       "version_major": 2,
       "version_minor": 0,
       "model_id": "4abfcd1baf1c403ea48564ad79fdb334"
      }
     },
     "metadata": {},
     "output_type": "display_data"
    },
    {
     "name": "stderr",
     "output_type": "stream",
     "text": [
      "Epoch 61, global step 1116: 'val_loss' was not in top 3\n"
     ]
    },
    {
     "data": {
      "text/plain": [
       "Validation: |          | 0/? [00:00<?, ?it/s]"
      ],
      "application/vnd.jupyter.widget-view+json": {
       "version_major": 2,
       "version_minor": 0,
       "model_id": "ba391f93405e4ef389aa1f6a9405b827"
      }
     },
     "metadata": {},
     "output_type": "display_data"
    },
    {
     "name": "stderr",
     "output_type": "stream",
     "text": [
      "Epoch 62, global step 1134: 'val_loss' was not in top 3\n"
     ]
    },
    {
     "data": {
      "text/plain": [
       "Validation: |          | 0/? [00:00<?, ?it/s]"
      ],
      "application/vnd.jupyter.widget-view+json": {
       "version_major": 2,
       "version_minor": 0,
       "model_id": "246b257aa97849cfa2bc741382e7dd35"
      }
     },
     "metadata": {},
     "output_type": "display_data"
    },
    {
     "name": "stderr",
     "output_type": "stream",
     "text": [
      "Epoch 63, global step 1152: 'val_loss' was not in top 3\n"
     ]
    },
    {
     "data": {
      "text/plain": [
       "Validation: |          | 0/? [00:00<?, ?it/s]"
      ],
      "application/vnd.jupyter.widget-view+json": {
       "version_major": 2,
       "version_minor": 0,
       "model_id": "766ef24cf8784f4a8c301bee71cff4c2"
      }
     },
     "metadata": {},
     "output_type": "display_data"
    },
    {
     "name": "stderr",
     "output_type": "stream",
     "text": [
      "Epoch 64, global step 1170: 'val_loss' was not in top 3\n"
     ]
    },
    {
     "data": {
      "text/plain": [
       "Validation: |          | 0/? [00:00<?, ?it/s]"
      ],
      "application/vnd.jupyter.widget-view+json": {
       "version_major": 2,
       "version_minor": 0,
       "model_id": "4f01023328fe46e4b7cb76611e0b35b5"
      }
     },
     "metadata": {},
     "output_type": "display_data"
    },
    {
     "name": "stderr",
     "output_type": "stream",
     "text": [
      "Epoch 65, global step 1188: 'val_loss' was not in top 3\n"
     ]
    },
    {
     "data": {
      "text/plain": [
       "Validation: |          | 0/? [00:00<?, ?it/s]"
      ],
      "application/vnd.jupyter.widget-view+json": {
       "version_major": 2,
       "version_minor": 0,
       "model_id": "926fd936f18d4132a88d40c36f1356ea"
      }
     },
     "metadata": {},
     "output_type": "display_data"
    },
    {
     "name": "stderr",
     "output_type": "stream",
     "text": [
      "Epoch 66, global step 1206: 'val_loss' was not in top 3\n"
     ]
    },
    {
     "data": {
      "text/plain": [
       "Validation: |          | 0/? [00:00<?, ?it/s]"
      ],
      "application/vnd.jupyter.widget-view+json": {
       "version_major": 2,
       "version_minor": 0,
       "model_id": "001d3e04a5f5488e9a5bfcf7308c3b07"
      }
     },
     "metadata": {},
     "output_type": "display_data"
    },
    {
     "name": "stderr",
     "output_type": "stream",
     "text": [
      "Epoch 67, global step 1224: 'val_loss' was not in top 3\n"
     ]
    },
    {
     "data": {
      "text/plain": [
       "Validation: |          | 0/? [00:00<?, ?it/s]"
      ],
      "application/vnd.jupyter.widget-view+json": {
       "version_major": 2,
       "version_minor": 0,
       "model_id": "52158537350d470ca5e2baa4b6f81da6"
      }
     },
     "metadata": {},
     "output_type": "display_data"
    },
    {
     "name": "stderr",
     "output_type": "stream",
     "text": [
      "Epoch 68, global step 1242: 'val_loss' was not in top 3\n"
     ]
    },
    {
     "data": {
      "text/plain": [
       "Validation: |          | 0/? [00:00<?, ?it/s]"
      ],
      "application/vnd.jupyter.widget-view+json": {
       "version_major": 2,
       "version_minor": 0,
       "model_id": "fd323b8e63ec4ef6b23bd93d242449ce"
      }
     },
     "metadata": {},
     "output_type": "display_data"
    },
    {
     "name": "stderr",
     "output_type": "stream",
     "text": [
      "Epoch 69, global step 1260: 'val_loss' was not in top 3\n"
     ]
    },
    {
     "data": {
      "text/plain": [
       "Validation: |          | 0/? [00:00<?, ?it/s]"
      ],
      "application/vnd.jupyter.widget-view+json": {
       "version_major": 2,
       "version_minor": 0,
       "model_id": "353fa6e17af54425bfbc8f88d68e0c4d"
      }
     },
     "metadata": {},
     "output_type": "display_data"
    },
    {
     "name": "stderr",
     "output_type": "stream",
     "text": [
      "Epoch 70, global step 1278: 'val_loss' was not in top 3\n"
     ]
    },
    {
     "data": {
      "text/plain": [
       "Validation: |          | 0/? [00:00<?, ?it/s]"
      ],
      "application/vnd.jupyter.widget-view+json": {
       "version_major": 2,
       "version_minor": 0,
       "model_id": "cc78039b0b24407bb7213feca72324b7"
      }
     },
     "metadata": {},
     "output_type": "display_data"
    },
    {
     "name": "stderr",
     "output_type": "stream",
     "text": [
      "Epoch 71, global step 1296: 'val_loss' was not in top 3\n"
     ]
    },
    {
     "data": {
      "text/plain": [
       "Validation: |          | 0/? [00:00<?, ?it/s]"
      ],
      "application/vnd.jupyter.widget-view+json": {
       "version_major": 2,
       "version_minor": 0,
       "model_id": "3f2d311cf97944edb13af30a5c850551"
      }
     },
     "metadata": {},
     "output_type": "display_data"
    },
    {
     "name": "stderr",
     "output_type": "stream",
     "text": [
      "Epoch 72, global step 1314: 'val_loss' was not in top 3\n"
     ]
    },
    {
     "data": {
      "text/plain": [
       "Validation: |          | 0/? [00:00<?, ?it/s]"
      ],
      "application/vnd.jupyter.widget-view+json": {
       "version_major": 2,
       "version_minor": 0,
       "model_id": "7484cf5b33f744e49b0b523e888987de"
      }
     },
     "metadata": {},
     "output_type": "display_data"
    },
    {
     "name": "stderr",
     "output_type": "stream",
     "text": [
      "Epoch 73, global step 1332: 'val_loss' was not in top 3\n"
     ]
    },
    {
     "data": {
      "text/plain": [
       "Validation: |          | 0/? [00:00<?, ?it/s]"
      ],
      "application/vnd.jupyter.widget-view+json": {
       "version_major": 2,
       "version_minor": 0,
       "model_id": "6509a7d09f5c4297973698478277942f"
      }
     },
     "metadata": {},
     "output_type": "display_data"
    },
    {
     "name": "stderr",
     "output_type": "stream",
     "text": [
      "Epoch 74, global step 1350: 'val_loss' was not in top 3\n"
     ]
    },
    {
     "data": {
      "text/plain": [
       "Validation: |          | 0/? [00:00<?, ?it/s]"
      ],
      "application/vnd.jupyter.widget-view+json": {
       "version_major": 2,
       "version_minor": 0,
       "model_id": "b906fe5dc01e4ec0ac3b80ad7072c5dd"
      }
     },
     "metadata": {},
     "output_type": "display_data"
    },
    {
     "name": "stderr",
     "output_type": "stream",
     "text": [
      "Epoch 75, global step 1368: 'val_loss' was not in top 3\n"
     ]
    },
    {
     "data": {
      "text/plain": [
       "Validation: |          | 0/? [00:00<?, ?it/s]"
      ],
      "application/vnd.jupyter.widget-view+json": {
       "version_major": 2,
       "version_minor": 0,
       "model_id": "660533b9762f426aa9ef6390d1463f15"
      }
     },
     "metadata": {},
     "output_type": "display_data"
    },
    {
     "name": "stderr",
     "output_type": "stream",
     "text": [
      "Epoch 76, global step 1386: 'val_loss' was not in top 3\n"
     ]
    },
    {
     "data": {
      "text/plain": [
       "Validation: |          | 0/? [00:00<?, ?it/s]"
      ],
      "application/vnd.jupyter.widget-view+json": {
       "version_major": 2,
       "version_minor": 0,
       "model_id": "d6bbacb4404a469882fb6a8a8e5e9d1c"
      }
     },
     "metadata": {},
     "output_type": "display_data"
    },
    {
     "name": "stderr",
     "output_type": "stream",
     "text": [
      "Epoch 77, global step 1404: 'val_loss' was not in top 3\n"
     ]
    },
    {
     "data": {
      "text/plain": [
       "Validation: |          | 0/? [00:00<?, ?it/s]"
      ],
      "application/vnd.jupyter.widget-view+json": {
       "version_major": 2,
       "version_minor": 0,
       "model_id": "1d58b0cbbbff49d783846636bc3b5a9e"
      }
     },
     "metadata": {},
     "output_type": "display_data"
    },
    {
     "name": "stderr",
     "output_type": "stream",
     "text": [
      "Epoch 78, global step 1422: 'val_loss' was not in top 3\n"
     ]
    },
    {
     "data": {
      "text/plain": [
       "Validation: |          | 0/? [00:00<?, ?it/s]"
      ],
      "application/vnd.jupyter.widget-view+json": {
       "version_major": 2,
       "version_minor": 0,
       "model_id": "68ca68c621a6479395fb426f9ef8d319"
      }
     },
     "metadata": {},
     "output_type": "display_data"
    },
    {
     "name": "stderr",
     "output_type": "stream",
     "text": [
      "Epoch 79, global step 1440: 'val_loss' was not in top 3\n"
     ]
    },
    {
     "data": {
      "text/plain": [
       "Validation: |          | 0/? [00:00<?, ?it/s]"
      ],
      "application/vnd.jupyter.widget-view+json": {
       "version_major": 2,
       "version_minor": 0,
       "model_id": "1ffd0569ee90441084f5fd91fc556dc2"
      }
     },
     "metadata": {},
     "output_type": "display_data"
    },
    {
     "name": "stderr",
     "output_type": "stream",
     "text": [
      "Epoch 80, global step 1458: 'val_loss' was not in top 3\n"
     ]
    },
    {
     "data": {
      "text/plain": [
       "Validation: |          | 0/? [00:00<?, ?it/s]"
      ],
      "application/vnd.jupyter.widget-view+json": {
       "version_major": 2,
       "version_minor": 0,
       "model_id": "7f9fd8b169b64dbd99aff352fcf20910"
      }
     },
     "metadata": {},
     "output_type": "display_data"
    },
    {
     "name": "stderr",
     "output_type": "stream",
     "text": [
      "Monitored metric val_loss did not improve in the last 30 records. Best score: 0.002. Signaling Trainer to stop.\n",
      "Epoch 81, global step 1476: 'val_loss' was not in top 3\n"
     ]
    }
   ],
   "execution_count": 15
  },
  {
   "metadata": {
    "ExecuteTime": {
     "end_time": "2024-07-03T20:00:35.397248Z",
     "start_time": "2024-07-03T20:00:26.682535Z"
    }
   },
   "cell_type": "code",
   "source": "training_module.validate_and_testing_lstm(data_module=flight_dm)",
   "id": "5c63ceb0241662ec",
   "outputs": [
    {
     "name": "stderr",
     "output_type": "stream",
     "text": [
      "LOCAL_RANK: 0 - CUDA_VISIBLE_DEVICES: [0]\n"
     ]
    },
    {
     "data": {
      "text/plain": [
       "Validation: |          | 0/? [00:00<?, ?it/s]"
      ],
      "application/vnd.jupyter.widget-view+json": {
       "version_major": 2,
       "version_minor": 0,
       "model_id": "ea3f7a125e734d7f80f043821332e7df"
      }
     },
     "metadata": {},
     "output_type": "display_data"
    },
    {
     "data": {
      "text/plain": [
       "┏━━━━━━━━━━━━━━━━━━━━━━━━━━━┳━━━━━━━━━━━━━━━━━━━━━━━━━━━┓\n",
       "┃\u001B[1m \u001B[0m\u001B[1m     Validate metric     \u001B[0m\u001B[1m \u001B[0m┃\u001B[1m \u001B[0m\u001B[1m      DataLoader 0       \u001B[0m\u001B[1m \u001B[0m┃\n",
       "┡━━━━━━━━━━━━━━━━━━━━━━━━━━━╇━━━━━━━━━━━━━━━━━━━━━━━━━━━┩\n",
       "│\u001B[36m \u001B[0m\u001B[36m     val_loss_epoch      \u001B[0m\u001B[36m \u001B[0m│\u001B[35m \u001B[0m\u001B[35m  0.002143095014616847   \u001B[0m\u001B[35m \u001B[0m│\n",
       "│\u001B[36m \u001B[0m\u001B[36m      val_mse_epoch      \u001B[0m\u001B[36m \u001B[0m│\u001B[35m \u001B[0m\u001B[35m  0.002143095014616847   \u001B[0m\u001B[35m \u001B[0m│\n",
       "└───────────────────────────┴───────────────────────────┘\n"
      ],
      "text/html": [
       "<pre style=\"white-space:pre;overflow-x:auto;line-height:normal;font-family:Menlo,'DejaVu Sans Mono',consolas,'Courier New',monospace\">┏━━━━━━━━━━━━━━━━━━━━━━━━━━━┳━━━━━━━━━━━━━━━━━━━━━━━━━━━┓\n",
       "┃<span style=\"font-weight: bold\">      Validate metric      </span>┃<span style=\"font-weight: bold\">       DataLoader 0        </span>┃\n",
       "┡━━━━━━━━━━━━━━━━━━━━━━━━━━━╇━━━━━━━━━━━━━━━━━━━━━━━━━━━┩\n",
       "│<span style=\"color: #008080; text-decoration-color: #008080\">      val_loss_epoch       </span>│<span style=\"color: #800080; text-decoration-color: #800080\">   0.002143095014616847    </span>│\n",
       "│<span style=\"color: #008080; text-decoration-color: #008080\">       val_mse_epoch       </span>│<span style=\"color: #800080; text-decoration-color: #800080\">   0.002143095014616847    </span>│\n",
       "└───────────────────────────┴───────────────────────────┘\n",
       "</pre>\n"
      ]
     },
     "metadata": {},
     "output_type": "display_data"
    },
    {
     "name": "stderr",
     "output_type": "stream",
     "text": [
      "LOCAL_RANK: 0 - CUDA_VISIBLE_DEVICES: [0]\n"
     ]
    },
    {
     "data": {
      "text/plain": [
       "Testing: |          | 0/? [00:00<?, ?it/s]"
      ],
      "application/vnd.jupyter.widget-view+json": {
       "version_major": 2,
       "version_minor": 0,
       "model_id": "0e2981967a4e48519d604f8832a86183"
      }
     },
     "metadata": {},
     "output_type": "display_data"
    },
    {
     "data": {
      "text/plain": [
       "┏━━━━━━━━━━━━━━━━━━━━━━━━━━━┳━━━━━━━━━━━━━━━━━━━━━━━━━━━┓\n",
       "┃\u001B[1m \u001B[0m\u001B[1m       Test metric       \u001B[0m\u001B[1m \u001B[0m┃\u001B[1m \u001B[0m\u001B[1m      DataLoader 0       \u001B[0m\u001B[1m \u001B[0m┃\n",
       "┡━━━━━━━━━━━━━━━━━━━━━━━━━━━╇━━━━━━━━━━━━━━━━━━━━━━━━━━━┩\n",
       "│\u001B[36m \u001B[0m\u001B[36m     test_loss_epoch     \u001B[0m\u001B[36m \u001B[0m│\u001B[35m \u001B[0m\u001B[35m  0.002164205303415656   \u001B[0m\u001B[35m \u001B[0m│\n",
       "│\u001B[36m \u001B[0m\u001B[36m     test_mse_epoch      \u001B[0m\u001B[36m \u001B[0m│\u001B[35m \u001B[0m\u001B[35m  0.002164205303415656   \u001B[0m\u001B[35m \u001B[0m│\n",
       "└───────────────────────────┴───────────────────────────┘\n"
      ],
      "text/html": [
       "<pre style=\"white-space:pre;overflow-x:auto;line-height:normal;font-family:Menlo,'DejaVu Sans Mono',consolas,'Courier New',monospace\">┏━━━━━━━━━━━━━━━━━━━━━━━━━━━┳━━━━━━━━━━━━━━━━━━━━━━━━━━━┓\n",
       "┃<span style=\"font-weight: bold\">        Test metric        </span>┃<span style=\"font-weight: bold\">       DataLoader 0        </span>┃\n",
       "┡━━━━━━━━━━━━━━━━━━━━━━━━━━━╇━━━━━━━━━━━━━━━━━━━━━━━━━━━┩\n",
       "│<span style=\"color: #008080; text-decoration-color: #008080\">      test_loss_epoch      </span>│<span style=\"color: #800080; text-decoration-color: #800080\">   0.002164205303415656    </span>│\n",
       "│<span style=\"color: #008080; text-decoration-color: #008080\">      test_mse_epoch       </span>│<span style=\"color: #800080; text-decoration-color: #800080\">   0.002164205303415656    </span>│\n",
       "└───────────────────────────┴───────────────────────────┘\n",
       "</pre>\n"
      ]
     },
     "metadata": {},
     "output_type": "display_data"
    }
   ],
   "execution_count": 16
  },
  {
   "metadata": {
    "ExecuteTime": {
     "end_time": "2024-07-04T00:22:57.146560Z",
     "start_time": "2024-07-04T00:22:57.133216Z"
    }
   },
   "cell_type": "code",
   "source": [
    "# Tensorboard\n",
    "%tensorboard --logdir /mnt/e/Work/chi_phuong_co_su/log"
   ],
   "id": "f45e407dda14f986",
   "outputs": [
    {
     "data": {
      "text/plain": [
       "Reusing TensorBoard on port 6007 (pid 236788), started 4:22:22 ago. (Use '!kill 236788' to kill it.)"
      ]
     },
     "metadata": {},
     "output_type": "display_data"
    },
    {
     "data": {
      "text/plain": [
       "<IPython.core.display.HTML object>"
      ],
      "text/html": [
       "\n",
       "      <iframe id=\"tensorboard-frame-5fe4d59c4971c930\" width=\"100%\" height=\"800\" frameborder=\"0\">\n",
       "      </iframe>\n",
       "      <script>\n",
       "        (function() {\n",
       "          const frame = document.getElementById(\"tensorboard-frame-5fe4d59c4971c930\");\n",
       "          const url = new URL(\"/\", window.location);\n",
       "          const port = 6007;\n",
       "          if (port) {\n",
       "            url.port = port;\n",
       "          }\n",
       "          frame.src = url;\n",
       "        })();\n",
       "      </script>\n",
       "    "
      ]
     },
     "metadata": {},
     "output_type": "display_data"
    }
   ],
   "execution_count": 18
  },
  {
   "metadata": {
    "ExecuteTime": {
     "end_time": "2024-07-03T20:00:36.411784Z",
     "start_time": "2024-07-03T20:00:36.408777Z"
    }
   },
   "cell_type": "code",
   "source": "",
   "id": "b538b57884d124fa",
   "outputs": [],
   "execution_count": 17
  }
 ],
 "metadata": {
  "kernelspec": {
   "display_name": "Python 3",
   "language": "python",
   "name": "python3"
  },
  "language_info": {
   "codemirror_mode": {
    "name": "ipython",
    "version": 2
   },
   "file_extension": ".py",
   "mimetype": "text/x-python",
   "name": "python",
   "nbconvert_exporter": "python",
   "pygments_lexer": "ipython2",
   "version": "2.7.6"
  }
 },
 "nbformat": 4,
 "nbformat_minor": 5
}
