{
 "cells": [
  {
   "cell_type": "code",
   "id": "initial_id",
   "metadata": {
    "collapsed": true,
    "ExecuteTime": {
     "end_time": "2024-07-24T12:40:25.455093Z",
     "start_time": "2024-07-24T12:40:23.201224Z"
    }
   },
   "source": [
    "import os\n",
    "import torch\n",
    "import pandas as pd\n",
    "from modules.feature_engineering import FeatureEngineeringV1\n",
    "from modules.data_module import FlightDataModule\n",
    "from modules.training import TrainingFlightModel\n",
    "from lightning.pytorch.callbacks import ModelCheckpoint, EarlyStopping\n",
    "from lightning.pytorch.loggers import TensorBoardLogger\n",
    "\n",
    "print(torch.__version__)\n",
    "fe = FeatureEngineeringV1()"
   ],
   "outputs": [
    {
     "name": "stdout",
     "output_type": "stream",
     "text": [
      "2.1.2+cu121\n"
     ]
    }
   ],
   "execution_count": 1
  },
  {
   "metadata": {
    "ExecuteTime": {
     "end_time": "2024-07-24T12:40:25.462467Z",
     "start_time": "2024-07-24T12:40:25.456430Z"
    }
   },
   "cell_type": "code",
   "source": "%load_ext tensorboard",
   "id": "5bd68f5b1dcc846b",
   "outputs": [],
   "execution_count": 2
  },
  {
   "metadata": {
    "ExecuteTime": {
     "end_time": "2024-07-24T12:40:25.516761Z",
     "start_time": "2024-07-24T12:40:25.463417Z"
    }
   },
   "cell_type": "code",
   "source": [
    "def get_default_device():\n",
    "\t\"\"\"Pick GPU if available, else CPU\"\"\"\n",
    "\tif torch.cuda.is_available():\n",
    "\t\tprint(f'Using device: {torch.cuda.get_device_name(0)}')\n",
    "\t\treturn torch.device('cuda')\n",
    "\telif torch.backends.mps.is_available():\n",
    "\t\tprint('Using device: Apple ARM GPU')\n",
    "\t\treturn torch.device('mps')\n",
    "\telse:\n",
    "\t\tprint('Using device: CPU')\n",
    "\t\treturn torch.device('cpu')\n",
    "\n",
    "# Set the device\n",
    "device = get_default_device()\n",
    "print(f'Using device: {device}')"
   ],
   "id": "13e6aaae1d419117",
   "outputs": [
    {
     "name": "stdout",
     "output_type": "stream",
     "text": [
      "Using device: NVIDIA GeForce RTX 3060\n",
      "Using device: cuda\n"
     ]
    }
   ],
   "execution_count": 3
  },
  {
   "metadata": {
    "ExecuteTime": {
     "end_time": "2024-07-24T12:40:25.520278Z",
     "start_time": "2024-07-24T12:40:25.518257Z"
    }
   },
   "cell_type": "code",
   "source": [
    "# Used with GPUs having Tensor cores\n",
    "torch.set_float32_matmul_precision('medium')"
   ],
   "id": "2d87d642479be5b8",
   "outputs": [],
   "execution_count": 4
  },
  {
   "metadata": {
    "ExecuteTime": {
     "end_time": "2024-07-24T12:40:25.915493Z",
     "start_time": "2024-07-24T12:40:25.521214Z"
    }
   },
   "cell_type": "code",
   "source": [
    "processed_df = pd.read_csv('../data/csv/processed.csv')\n",
    "processed_df"
   ],
   "id": "316f6d8253132f0d",
   "outputs": [
    {
     "data": {
      "text/plain": [
       "       wind_speed_TSN  wind_dir_TSN  wind_speed_KADUM  wind_dir_KADUM  \\\n",
       "0            0.928702      0.495425         -0.634564        0.022136   \n",
       "1            0.928702      0.495425         -0.634564        0.023238   \n",
       "2            0.928702      0.495425         -0.634564        0.023238   \n",
       "3            0.928702      0.495425         -0.634564        0.024339   \n",
       "4            0.928702      0.495425         -0.634564        0.024339   \n",
       "...               ...           ...               ...             ...   \n",
       "60523       -0.413190      0.599672          0.090406       -0.943672   \n",
       "60524       -0.413190      0.599672          0.090406       -0.943672   \n",
       "60525       -0.413190      0.599672          0.090406       -0.948077   \n",
       "60526       -0.413190      0.599672          0.090406       -0.948077   \n",
       "60527       -0.413190      0.601327          0.090406       -0.951381   \n",
       "\n",
       "       wind_speed_PATNA  wind_dir_PATNA  wind_speed_SADAS  wind_dir_SADAS  \\\n",
       "0             -1.145864        2.972182         -2.250708        5.614973   \n",
       "1             -1.145864        2.980370         -2.250708        5.623375   \n",
       "2             -1.145864        2.980370         -2.250708        5.623375   \n",
       "3             -1.145864        2.988558         -2.315868        5.640178   \n",
       "4             -1.145864        2.988558         -2.315868        5.640178   \n",
       "...                 ...             ...               ...             ...   \n",
       "60523         -0.007508       -0.399230         -0.556559        1.624079   \n",
       "60524         -0.007508       -0.399230         -0.556559        1.624079   \n",
       "60525         -0.007508       -0.399230         -0.556559        1.624079   \n",
       "60526         -0.007508       -0.399230         -0.556559        1.624079   \n",
       "60527         -0.007508       -0.401277         -0.556559        1.624079   \n",
       "\n",
       "       wind_speed_DADEN  wind_dir_DADEN  ...    Ac_kts  Time_step    Ac_Lat  \\\n",
       "0             -1.593272        2.974218  ... -2.268434  -1.526071 -1.407072   \n",
       "1             -1.593272        2.963249  ... -2.183981  -1.515271 -1.408670   \n",
       "2             -1.593272        2.963249  ... -1.940006  -1.504471 -1.409917   \n",
       "3             -1.593272        2.957764  ... -1.696031  -1.495831 -1.408996   \n",
       "4             -1.593272        2.957764  ... -1.470824  -1.487191 -1.405175   \n",
       "...                 ...             ...  ...       ...        ...       ...   \n",
       "60523          0.149889        0.544497  ... -2.390422   1.358068  1.422109   \n",
       "60524          0.149889        0.544497  ... -2.437340   1.367788  1.421052   \n",
       "60525          0.149889        0.544497  ... -2.493642   1.376428  1.420185   \n",
       "60526          0.149889        0.544497  ... -2.634397   1.394788  1.418559   \n",
       "60527          0.149889        0.544497  ... -2.568711   1.431508  1.415171   \n",
       "\n",
       "         Ac_Lon   Ac_feet  Ac_type_1  Ac_type_2  Phase_1  Phase_2  Phase_3  \n",
       "0     -0.227452 -1.853900        1.0        0.0      1.0      0.0      0.0  \n",
       "1     -0.245917 -1.791555        1.0        0.0      1.0      0.0      0.0  \n",
       "2     -0.266631 -1.762331        1.0        0.0      1.0      0.0      0.0  \n",
       "3     -0.284978 -1.744796        1.0        0.0      1.0      0.0      0.0  \n",
       "4     -0.300484 -1.709727        1.0        0.0      1.0      0.0      0.0  \n",
       "...         ...       ...        ...        ...      ...      ...      ...  \n",
       "60523 -1.357957 -1.764279        0.0        1.0      1.0      0.0      0.0  \n",
       "60524 -1.342096 -1.783762        0.0        1.0      1.0      0.0      0.0  \n",
       "60525 -1.328957 -1.799348        0.0        1.0      1.0      0.0      0.0  \n",
       "60526 -1.304101 -1.828572        0.0        1.0      1.0      0.0      0.0  \n",
       "60527 -1.252849 -1.890917        0.0        1.0      1.0      0.0      0.0  \n",
       "\n",
       "[60528 rows x 49 columns]"
      ],
      "text/html": [
       "<div>\n",
       "<style scoped>\n",
       "    .dataframe tbody tr th:only-of-type {\n",
       "        vertical-align: middle;\n",
       "    }\n",
       "\n",
       "    .dataframe tbody tr th {\n",
       "        vertical-align: top;\n",
       "    }\n",
       "\n",
       "    .dataframe thead th {\n",
       "        text-align: right;\n",
       "    }\n",
       "</style>\n",
       "<table border=\"1\" class=\"dataframe\">\n",
       "  <thead>\n",
       "    <tr style=\"text-align: right;\">\n",
       "      <th></th>\n",
       "      <th>wind_speed_TSN</th>\n",
       "      <th>wind_dir_TSN</th>\n",
       "      <th>wind_speed_KADUM</th>\n",
       "      <th>wind_dir_KADUM</th>\n",
       "      <th>wind_speed_PATNA</th>\n",
       "      <th>wind_dir_PATNA</th>\n",
       "      <th>wind_speed_SADAS</th>\n",
       "      <th>wind_dir_SADAS</th>\n",
       "      <th>wind_speed_DADEN</th>\n",
       "      <th>wind_dir_DADEN</th>\n",
       "      <th>...</th>\n",
       "      <th>Ac_kts</th>\n",
       "      <th>Time_step</th>\n",
       "      <th>Ac_Lat</th>\n",
       "      <th>Ac_Lon</th>\n",
       "      <th>Ac_feet</th>\n",
       "      <th>Ac_type_1</th>\n",
       "      <th>Ac_type_2</th>\n",
       "      <th>Phase_1</th>\n",
       "      <th>Phase_2</th>\n",
       "      <th>Phase_3</th>\n",
       "    </tr>\n",
       "  </thead>\n",
       "  <tbody>\n",
       "    <tr>\n",
       "      <th>0</th>\n",
       "      <td>0.928702</td>\n",
       "      <td>0.495425</td>\n",
       "      <td>-0.634564</td>\n",
       "      <td>0.022136</td>\n",
       "      <td>-1.145864</td>\n",
       "      <td>2.972182</td>\n",
       "      <td>-2.250708</td>\n",
       "      <td>5.614973</td>\n",
       "      <td>-1.593272</td>\n",
       "      <td>2.974218</td>\n",
       "      <td>...</td>\n",
       "      <td>-2.268434</td>\n",
       "      <td>-1.526071</td>\n",
       "      <td>-1.407072</td>\n",
       "      <td>-0.227452</td>\n",
       "      <td>-1.853900</td>\n",
       "      <td>1.0</td>\n",
       "      <td>0.0</td>\n",
       "      <td>1.0</td>\n",
       "      <td>0.0</td>\n",
       "      <td>0.0</td>\n",
       "    </tr>\n",
       "    <tr>\n",
       "      <th>1</th>\n",
       "      <td>0.928702</td>\n",
       "      <td>0.495425</td>\n",
       "      <td>-0.634564</td>\n",
       "      <td>0.023238</td>\n",
       "      <td>-1.145864</td>\n",
       "      <td>2.980370</td>\n",
       "      <td>-2.250708</td>\n",
       "      <td>5.623375</td>\n",
       "      <td>-1.593272</td>\n",
       "      <td>2.963249</td>\n",
       "      <td>...</td>\n",
       "      <td>-2.183981</td>\n",
       "      <td>-1.515271</td>\n",
       "      <td>-1.408670</td>\n",
       "      <td>-0.245917</td>\n",
       "      <td>-1.791555</td>\n",
       "      <td>1.0</td>\n",
       "      <td>0.0</td>\n",
       "      <td>1.0</td>\n",
       "      <td>0.0</td>\n",
       "      <td>0.0</td>\n",
       "    </tr>\n",
       "    <tr>\n",
       "      <th>2</th>\n",
       "      <td>0.928702</td>\n",
       "      <td>0.495425</td>\n",
       "      <td>-0.634564</td>\n",
       "      <td>0.023238</td>\n",
       "      <td>-1.145864</td>\n",
       "      <td>2.980370</td>\n",
       "      <td>-2.250708</td>\n",
       "      <td>5.623375</td>\n",
       "      <td>-1.593272</td>\n",
       "      <td>2.963249</td>\n",
       "      <td>...</td>\n",
       "      <td>-1.940006</td>\n",
       "      <td>-1.504471</td>\n",
       "      <td>-1.409917</td>\n",
       "      <td>-0.266631</td>\n",
       "      <td>-1.762331</td>\n",
       "      <td>1.0</td>\n",
       "      <td>0.0</td>\n",
       "      <td>1.0</td>\n",
       "      <td>0.0</td>\n",
       "      <td>0.0</td>\n",
       "    </tr>\n",
       "    <tr>\n",
       "      <th>3</th>\n",
       "      <td>0.928702</td>\n",
       "      <td>0.495425</td>\n",
       "      <td>-0.634564</td>\n",
       "      <td>0.024339</td>\n",
       "      <td>-1.145864</td>\n",
       "      <td>2.988558</td>\n",
       "      <td>-2.315868</td>\n",
       "      <td>5.640178</td>\n",
       "      <td>-1.593272</td>\n",
       "      <td>2.957764</td>\n",
       "      <td>...</td>\n",
       "      <td>-1.696031</td>\n",
       "      <td>-1.495831</td>\n",
       "      <td>-1.408996</td>\n",
       "      <td>-0.284978</td>\n",
       "      <td>-1.744796</td>\n",
       "      <td>1.0</td>\n",
       "      <td>0.0</td>\n",
       "      <td>1.0</td>\n",
       "      <td>0.0</td>\n",
       "      <td>0.0</td>\n",
       "    </tr>\n",
       "    <tr>\n",
       "      <th>4</th>\n",
       "      <td>0.928702</td>\n",
       "      <td>0.495425</td>\n",
       "      <td>-0.634564</td>\n",
       "      <td>0.024339</td>\n",
       "      <td>-1.145864</td>\n",
       "      <td>2.988558</td>\n",
       "      <td>-2.315868</td>\n",
       "      <td>5.640178</td>\n",
       "      <td>-1.593272</td>\n",
       "      <td>2.957764</td>\n",
       "      <td>...</td>\n",
       "      <td>-1.470824</td>\n",
       "      <td>-1.487191</td>\n",
       "      <td>-1.405175</td>\n",
       "      <td>-0.300484</td>\n",
       "      <td>-1.709727</td>\n",
       "      <td>1.0</td>\n",
       "      <td>0.0</td>\n",
       "      <td>1.0</td>\n",
       "      <td>0.0</td>\n",
       "      <td>0.0</td>\n",
       "    </tr>\n",
       "    <tr>\n",
       "      <th>...</th>\n",
       "      <td>...</td>\n",
       "      <td>...</td>\n",
       "      <td>...</td>\n",
       "      <td>...</td>\n",
       "      <td>...</td>\n",
       "      <td>...</td>\n",
       "      <td>...</td>\n",
       "      <td>...</td>\n",
       "      <td>...</td>\n",
       "      <td>...</td>\n",
       "      <td>...</td>\n",
       "      <td>...</td>\n",
       "      <td>...</td>\n",
       "      <td>...</td>\n",
       "      <td>...</td>\n",
       "      <td>...</td>\n",
       "      <td>...</td>\n",
       "      <td>...</td>\n",
       "      <td>...</td>\n",
       "      <td>...</td>\n",
       "      <td>...</td>\n",
       "    </tr>\n",
       "    <tr>\n",
       "      <th>60523</th>\n",
       "      <td>-0.413190</td>\n",
       "      <td>0.599672</td>\n",
       "      <td>0.090406</td>\n",
       "      <td>-0.943672</td>\n",
       "      <td>-0.007508</td>\n",
       "      <td>-0.399230</td>\n",
       "      <td>-0.556559</td>\n",
       "      <td>1.624079</td>\n",
       "      <td>0.149889</td>\n",
       "      <td>0.544497</td>\n",
       "      <td>...</td>\n",
       "      <td>-2.390422</td>\n",
       "      <td>1.358068</td>\n",
       "      <td>1.422109</td>\n",
       "      <td>-1.357957</td>\n",
       "      <td>-1.764279</td>\n",
       "      <td>0.0</td>\n",
       "      <td>1.0</td>\n",
       "      <td>1.0</td>\n",
       "      <td>0.0</td>\n",
       "      <td>0.0</td>\n",
       "    </tr>\n",
       "    <tr>\n",
       "      <th>60524</th>\n",
       "      <td>-0.413190</td>\n",
       "      <td>0.599672</td>\n",
       "      <td>0.090406</td>\n",
       "      <td>-0.943672</td>\n",
       "      <td>-0.007508</td>\n",
       "      <td>-0.399230</td>\n",
       "      <td>-0.556559</td>\n",
       "      <td>1.624079</td>\n",
       "      <td>0.149889</td>\n",
       "      <td>0.544497</td>\n",
       "      <td>...</td>\n",
       "      <td>-2.437340</td>\n",
       "      <td>1.367788</td>\n",
       "      <td>1.421052</td>\n",
       "      <td>-1.342096</td>\n",
       "      <td>-1.783762</td>\n",
       "      <td>0.0</td>\n",
       "      <td>1.0</td>\n",
       "      <td>1.0</td>\n",
       "      <td>0.0</td>\n",
       "      <td>0.0</td>\n",
       "    </tr>\n",
       "    <tr>\n",
       "      <th>60525</th>\n",
       "      <td>-0.413190</td>\n",
       "      <td>0.599672</td>\n",
       "      <td>0.090406</td>\n",
       "      <td>-0.948077</td>\n",
       "      <td>-0.007508</td>\n",
       "      <td>-0.399230</td>\n",
       "      <td>-0.556559</td>\n",
       "      <td>1.624079</td>\n",
       "      <td>0.149889</td>\n",
       "      <td>0.544497</td>\n",
       "      <td>...</td>\n",
       "      <td>-2.493642</td>\n",
       "      <td>1.376428</td>\n",
       "      <td>1.420185</td>\n",
       "      <td>-1.328957</td>\n",
       "      <td>-1.799348</td>\n",
       "      <td>0.0</td>\n",
       "      <td>1.0</td>\n",
       "      <td>1.0</td>\n",
       "      <td>0.0</td>\n",
       "      <td>0.0</td>\n",
       "    </tr>\n",
       "    <tr>\n",
       "      <th>60526</th>\n",
       "      <td>-0.413190</td>\n",
       "      <td>0.599672</td>\n",
       "      <td>0.090406</td>\n",
       "      <td>-0.948077</td>\n",
       "      <td>-0.007508</td>\n",
       "      <td>-0.399230</td>\n",
       "      <td>-0.556559</td>\n",
       "      <td>1.624079</td>\n",
       "      <td>0.149889</td>\n",
       "      <td>0.544497</td>\n",
       "      <td>...</td>\n",
       "      <td>-2.634397</td>\n",
       "      <td>1.394788</td>\n",
       "      <td>1.418559</td>\n",
       "      <td>-1.304101</td>\n",
       "      <td>-1.828572</td>\n",
       "      <td>0.0</td>\n",
       "      <td>1.0</td>\n",
       "      <td>1.0</td>\n",
       "      <td>0.0</td>\n",
       "      <td>0.0</td>\n",
       "    </tr>\n",
       "    <tr>\n",
       "      <th>60527</th>\n",
       "      <td>-0.413190</td>\n",
       "      <td>0.601327</td>\n",
       "      <td>0.090406</td>\n",
       "      <td>-0.951381</td>\n",
       "      <td>-0.007508</td>\n",
       "      <td>-0.401277</td>\n",
       "      <td>-0.556559</td>\n",
       "      <td>1.624079</td>\n",
       "      <td>0.149889</td>\n",
       "      <td>0.544497</td>\n",
       "      <td>...</td>\n",
       "      <td>-2.568711</td>\n",
       "      <td>1.431508</td>\n",
       "      <td>1.415171</td>\n",
       "      <td>-1.252849</td>\n",
       "      <td>-1.890917</td>\n",
       "      <td>0.0</td>\n",
       "      <td>1.0</td>\n",
       "      <td>1.0</td>\n",
       "      <td>0.0</td>\n",
       "      <td>0.0</td>\n",
       "    </tr>\n",
       "  </tbody>\n",
       "</table>\n",
       "<p>60528 rows × 49 columns</p>\n",
       "</div>"
      ]
     },
     "execution_count": 5,
     "metadata": {},
     "output_type": "execute_result"
    }
   ],
   "execution_count": 5
  },
  {
   "metadata": {
    "ExecuteTime": {
     "end_time": "2024-07-24T12:40:26.802217Z",
     "start_time": "2024-07-24T12:40:25.916973Z"
    }
   },
   "cell_type": "code",
   "source": [
    "X, y = fe.padding_features(processed_df)\n",
    "print(f'X.shape: {X.shape}')\n",
    "print(f'y.shape: {y.shape}')\n",
    "print(f'X.dtype: {X.dtype}')\n",
    "print(f'y.dtype: {y.dtype}')\n",
    "print(f'X:\\n{X}')\n",
    "print(f'y:\\n{y}')"
   ],
   "id": "af39ca400acef24",
   "outputs": [
    {
     "name": "stdout",
     "output_type": "stream",
     "text": [
      "X.shape: (352, 348, 42)\n",
      "y.shape: (352, 348, 4)\n",
      "X.dtype: float64\n",
      "y.dtype: float64\n",
      "X:\n",
      "[[[ 9.28701650e-01  4.95424832e-01 -6.34563623e-01 ...  0.00000000e+00\n",
      "    0.00000000e+00 -1.52607089e+00]\n",
      "  [ 9.28701650e-01  4.95424832e-01 -6.34563623e-01 ...  0.00000000e+00\n",
      "    0.00000000e+00 -1.51527089e+00]\n",
      "  [ 9.28701650e-01  4.95424832e-01 -6.34563623e-01 ...  0.00000000e+00\n",
      "    0.00000000e+00 -1.50447089e+00]\n",
      "  ...\n",
      "  [ 0.00000000e+00  0.00000000e+00  0.00000000e+00 ...  0.00000000e+00\n",
      "    0.00000000e+00  0.00000000e+00]\n",
      "  [ 0.00000000e+00  0.00000000e+00  0.00000000e+00 ...  0.00000000e+00\n",
      "    0.00000000e+00  0.00000000e+00]\n",
      "  [ 0.00000000e+00  0.00000000e+00  0.00000000e+00 ...  0.00000000e+00\n",
      "    0.00000000e+00  0.00000000e+00]]\n",
      "\n",
      " [[ 1.34159134e+00  4.82187043e-01 -2.20295522e-01 ...  0.00000000e+00\n",
      "    0.00000000e+00 -1.52283089e+00]\n",
      "  [ 1.34159134e+00  4.82187043e-01 -2.20295522e-01 ...  0.00000000e+00\n",
      "    0.00000000e+00 -1.51419089e+00]\n",
      "  [ 1.34159134e+00  4.82187043e-01 -2.20295522e-01 ...  0.00000000e+00\n",
      "    0.00000000e+00 -1.50447089e+00]\n",
      "  ...\n",
      "  [ 0.00000000e+00  0.00000000e+00  0.00000000e+00 ...  0.00000000e+00\n",
      "    0.00000000e+00  0.00000000e+00]\n",
      "  [ 0.00000000e+00  0.00000000e+00  0.00000000e+00 ...  0.00000000e+00\n",
      "    0.00000000e+00  0.00000000e+00]\n",
      "  [ 0.00000000e+00  0.00000000e+00  0.00000000e+00 ...  0.00000000e+00\n",
      "    0.00000000e+00  0.00000000e+00]]\n",
      "\n",
      " [[ 9.28701650e-01  4.35854780e-01 -4.27429572e-01 ...  0.00000000e+00\n",
      "    0.00000000e+00 -1.52769089e+00]\n",
      "  [ 1.03192407e+00  4.34200057e-01 -4.27429572e-01 ...  0.00000000e+00\n",
      "    0.00000000e+00 -1.51743089e+00]\n",
      "  [ 1.03192407e+00  4.34200057e-01 -4.27429572e-01 ...  0.00000000e+00\n",
      "    0.00000000e+00 -1.50879089e+00]\n",
      "  ...\n",
      "  [ 0.00000000e+00  0.00000000e+00  0.00000000e+00 ...  0.00000000e+00\n",
      "    0.00000000e+00  0.00000000e+00]\n",
      "  [ 0.00000000e+00  0.00000000e+00  0.00000000e+00 ...  0.00000000e+00\n",
      "    0.00000000e+00  0.00000000e+00]\n",
      "  [ 0.00000000e+00  0.00000000e+00  0.00000000e+00 ...  0.00000000e+00\n",
      "    0.00000000e+00  0.00000000e+00]]\n",
      "\n",
      " ...\n",
      "\n",
      " [[-1.03522566e-01  5.48375989e-01 -1.31614717e-02 ...  0.00000000e+00\n",
      "    0.00000000e+00 -1.51959089e+00]\n",
      "  [-1.03522566e-01  5.50030713e-01 -1.16728497e-01 ...  0.00000000e+00\n",
      "    0.00000000e+00 -1.51095089e+00]\n",
      "  [-1.03522566e-01  5.50030713e-01 -1.16728497e-01 ...  0.00000000e+00\n",
      "    0.00000000e+00 -1.50069089e+00]\n",
      "  ...\n",
      "  [ 0.00000000e+00  0.00000000e+00  0.00000000e+00 ...  0.00000000e+00\n",
      "    0.00000000e+00  0.00000000e+00]\n",
      "  [ 0.00000000e+00  0.00000000e+00  0.00000000e+00 ...  0.00000000e+00\n",
      "    0.00000000e+00  0.00000000e+00]\n",
      "  [ 0.00000000e+00  0.00000000e+00  0.00000000e+00 ...  0.00000000e+00\n",
      "    0.00000000e+00  0.00000000e+00]]\n",
      "\n",
      " [[ 1.02922277e-01  5.28519305e-01 -1.31614717e-02 ...  0.00000000e+00\n",
      "    0.00000000e+00 -1.51959089e+00]\n",
      "  [-3.00144498e-04  5.33483476e-01 -1.31614717e-02 ...  0.00000000e+00\n",
      "    0.00000000e+00 -1.51095089e+00]\n",
      "  [-3.00144498e-04  5.33483476e-01 -1.31614717e-02 ...  0.00000000e+00\n",
      "    0.00000000e+00 -1.50231089e+00]\n",
      "  ...\n",
      "  [ 0.00000000e+00  0.00000000e+00  0.00000000e+00 ...  0.00000000e+00\n",
      "    0.00000000e+00  0.00000000e+00]\n",
      "  [ 0.00000000e+00  0.00000000e+00  0.00000000e+00 ...  0.00000000e+00\n",
      "    0.00000000e+00  0.00000000e+00]\n",
      "  [ 0.00000000e+00  0.00000000e+00  0.00000000e+00 ...  0.00000000e+00\n",
      "    0.00000000e+00  0.00000000e+00]]\n",
      "\n",
      " [[-3.00144498e-04  5.45066542e-01 -1.31614717e-02 ...  0.00000000e+00\n",
      "    0.00000000e+00 -1.52553089e+00]\n",
      "  [-3.00144498e-04  5.45066542e-01 -1.31614717e-02 ...  0.00000000e+00\n",
      "    0.00000000e+00 -1.51689089e+00]\n",
      "  [-3.00144498e-04  5.45066542e-01 -1.31614717e-02 ...  0.00000000e+00\n",
      "    0.00000000e+00 -1.50825089e+00]\n",
      "  ...\n",
      "  [ 0.00000000e+00  0.00000000e+00  0.00000000e+00 ...  0.00000000e+00\n",
      "    0.00000000e+00  0.00000000e+00]\n",
      "  [ 0.00000000e+00  0.00000000e+00  0.00000000e+00 ...  0.00000000e+00\n",
      "    0.00000000e+00  0.00000000e+00]\n",
      "  [ 0.00000000e+00  0.00000000e+00  0.00000000e+00 ...  0.00000000e+00\n",
      "    0.00000000e+00  0.00000000e+00]]]\n",
      "y:\n",
      "[[[-2.26843405 -1.40707156 -0.22745233 -1.85389954]\n",
      "  [-2.18398118 -1.40867046 -0.24591727 -1.79155473]\n",
      "  [-1.9400062  -1.40991706 -0.26663116 -1.76233061]\n",
      "  ...\n",
      "  [ 0.          0.          0.          0.        ]\n",
      "  [ 0.          0.          0.          0.        ]\n",
      "  [ 0.          0.          0.          0.        ]]\n",
      "\n",
      " [[-2.30596866 -1.40742386 -0.23124001 -1.83441679]\n",
      "  [-2.19336483 -1.40869756 -0.24485199 -1.79350301]\n",
      "  [-1.97754081 -1.41040486 -0.26414549 -1.76817543]\n",
      "  ...\n",
      "  [ 0.          0.          0.          0.        ]\n",
      "  [ 0.          0.          0.          0.        ]\n",
      "  [ 0.          0.          0.          0.        ]]\n",
      "\n",
      " [[-2.30596866 -1.40642117 -0.22082389 -1.88117539]\n",
      "  [-2.33411962 -1.40793876 -0.23739499 -1.81883059]\n",
      "  [-2.18398118 -1.40915826 -0.2515988  -1.78960646]\n",
      "  ...\n",
      "  [ 0.          0.          0.          0.        ]\n",
      "  [ 0.          0.          0.          0.        ]\n",
      "  [ 0.          0.          0.          0.        ]]\n",
      "\n",
      " ...\n",
      "\n",
      " [[-2.27781771 -1.40804716 -0.23739499 -1.82272714]\n",
      "  [-2.10891195 -1.40934796 -0.25254572 -1.79155473]\n",
      "  [-1.93062255 -1.41089266 -0.2708923  -1.76038233]\n",
      "  ...\n",
      "  [ 0.          0.          0.          0.        ]\n",
      "  [ 0.          0.          0.          0.        ]\n",
      "  [ 0.          0.          0.          0.        ]]\n",
      "\n",
      " [[-2.27781771 -1.40799296 -0.23869701 -1.82077886]\n",
      "  [-2.20274848 -1.40921246 -0.25349264 -1.78181336]\n",
      "  [-2.09014465 -1.41062166 -0.26911682 -1.75064096]\n",
      "  ...\n",
      "  [ 0.          0.          0.          0.        ]\n",
      "  [ 0.          0.          0.          0.        ]\n",
      "  [ 0.          0.          0.          0.        ]]\n",
      "\n",
      " [[-2.12767926 -1.40823686 -0.24118267 -1.85000299]\n",
      "  [-2.09014465 -1.40953766 -0.25585994 -1.80519266]\n",
      "  [-1.89308794 -1.41091976 -0.27183922 -1.77986508]\n",
      "  ...\n",
      "  [ 0.          0.          0.          0.        ]\n",
      "  [ 0.          0.          0.          0.        ]\n",
      "  [ 0.          0.          0.          0.        ]]]\n"
     ]
    }
   ],
   "execution_count": 6
  },
  {
   "metadata": {
    "ExecuteTime": {
     "end_time": "2024-07-24T12:40:26.818587Z",
     "start_time": "2024-07-24T12:40:26.803136Z"
    }
   },
   "cell_type": "code",
   "source": [
    "X_train, X_val, X_test, y_train, y_val, y_test = fe.split_train_test(X, y, test_size=0.2, val_size=0.25)\n",
    "print(f'Shape of training set is {X_train.shape}, {y_train.shape}')\n",
    "print(f'Shape of validation set is {X_val.shape}, {y_val.shape}')\n",
    "print(f'Shape of test set is {X_test.shape}, {y_test.shape}')"
   ],
   "id": "73459bc64e412df7",
   "outputs": [
    {
     "name": "stdout",
     "output_type": "stream",
     "text": [
      "Shape of training set is (281, 348, 42), (281, 348, 4)\n",
      "Shape of validation set is (53, 348, 42), (53, 348, 4)\n",
      "Shape of test set is (18, 348, 42), (18, 348, 4)\n"
     ]
    }
   ],
   "execution_count": 7
  },
  {
   "metadata": {
    "ExecuteTime": {
     "end_time": "2024-07-24T12:40:26.834478Z",
     "start_time": "2024-07-24T12:40:26.819614Z"
    }
   },
   "cell_type": "code",
   "source": [
    "train_dataset, val_dataset, test_dataset = fe.make_tensor_dataset(X_train, X_val, X_test, y_train, y_val, y_test)\n",
    "print(f'training set is {train_dataset}')\n",
    "print(f'validation set is {val_dataset}')\n",
    "print(f'test set is {test_dataset}')"
   ],
   "id": "cc9f58442c45829",
   "outputs": [
    {
     "name": "stdout",
     "output_type": "stream",
     "text": [
      "training set is <torch.utils.data.dataset.TensorDataset object at 0x7f743e0a3550>\n",
      "validation set is <torch.utils.data.dataset.TensorDataset object at 0x7f743e61ec90>\n",
      "test set is <torch.utils.data.dataset.TensorDataset object at 0x7f743e0a4c10>\n"
     ]
    }
   ],
   "execution_count": 8
  },
  {
   "metadata": {},
   "cell_type": "markdown",
   "source": [
    "# TRAINING\n",
    "\n",
    "---"
   ],
   "id": "5b43b4f4bf85801e"
  },
  {
   "metadata": {
    "ExecuteTime": {
     "end_time": "2024-07-24T12:40:26.837443Z",
     "start_time": "2024-07-24T12:40:26.835422Z"
    }
   },
   "cell_type": "code",
   "source": [
    "# Global variables\n",
    "batch_size_variable = 16\n",
    "max_epochs = 200"
   ],
   "id": "60c4edaa8a6eaa58",
   "outputs": [],
   "execution_count": 9
  },
  {
   "metadata": {
    "ExecuteTime": {
     "end_time": "2024-07-24T12:40:26.844001Z",
     "start_time": "2024-07-24T12:40:26.839044Z"
    }
   },
   "cell_type": "code",
   "source": "flight_dm = FlightDataModule(train_dataset, val_dataset, test_dataset, batch_size=batch_size_variable)",
   "id": "eb5fb1d7ee147bf2",
   "outputs": [],
   "execution_count": 10
  },
  {
   "metadata": {
    "ExecuteTime": {
     "end_time": "2024-07-24T12:40:26.848524Z",
     "start_time": "2024-07-24T12:40:26.845009Z"
    }
   },
   "cell_type": "code",
   "source": [
    "model_name = 'flight_model_LSTM_V2'\n",
    "base_dir = os.getcwd().replace('notebook', '')\n",
    "log_dir = os.path.join(base_dir, 'log')\n",
    "ckpt_dir = os.path.join(base_dir, model_name)\n",
    "os.makedirs(log_dir, exist_ok=True)"
   ],
   "id": "65012f1ba55c16cc",
   "outputs": [],
   "execution_count": 11
  },
  {
   "metadata": {
    "ExecuteTime": {
     "end_time": "2024-07-24T12:40:26.852236Z",
     "start_time": "2024-07-24T12:40:26.849416Z"
    }
   },
   "cell_type": "code",
   "source": "log_dir",
   "id": "69ec9a2c82527150",
   "outputs": [
    {
     "data": {
      "text/plain": [
       "'/mnt/e/Work/chi_phuong_co_su/log'"
      ]
     },
     "execution_count": 12,
     "metadata": {},
     "output_type": "execute_result"
    }
   ],
   "execution_count": 12
  },
  {
   "metadata": {
    "ExecuteTime": {
     "end_time": "2024-07-24T12:40:26.859527Z",
     "start_time": "2024-07-24T12:40:26.853105Z"
    }
   },
   "cell_type": "code",
   "source": [
    "# Some necessary callbacks\n",
    "early_stopping = EarlyStopping(monitor='val_loss', patience=10, verbose=True, mode='min')\n",
    "model_checkpoint = ModelCheckpoint(\n",
    "\tdirpath=log_dir,\n",
    "\tfilename='LSTM-V2-{epoch}-{val_loss:.5f}',\n",
    "\tmonitor='val_loss',\n",
    "\tsave_top_k=3,\n",
    "\tverbose=True,\n",
    "\tmode='min'\n",
    ")\n",
    "logger = TensorBoardLogger(log_dir, name=model_name, log_graph=True)"
   ],
   "id": "8a26b0d36d837eb0",
   "outputs": [],
   "execution_count": 13
  },
  {
   "metadata": {
    "ExecuteTime": {
     "end_time": "2024-07-24T12:40:26.961974Z",
     "start_time": "2024-07-24T12:40:26.860489Z"
    }
   },
   "cell_type": "code",
   "source": [
    "training_module = TrainingFlightModel(\n",
    "\tearly_stopping_lstm = early_stopping,\n",
    "\tmodel_checkpoint_lstm = model_checkpoint,\n",
    "\tlogger_lstm = logger,\n",
    "\tdata_module = flight_dm,\n",
    "\tmax_epoch=max_epochs,\n",
    ")"
   ],
   "id": "9cd16e81da4b2a21",
   "outputs": [
    {
     "name": "stderr",
     "output_type": "stream",
     "text": [
      "GPU available: True (cuda), used: True\n",
      "TPU available: False, using: 0 TPU cores\n",
      "IPU available: False, using: 0 IPUs\n",
      "HPU available: False, using: 0 HPUs\n"
     ]
    }
   ],
   "execution_count": 14
  },
  {
   "metadata": {
    "ExecuteTime": {
     "end_time": "2024-07-24T12:50:05.163290Z",
     "start_time": "2024-07-24T12:40:26.962951Z"
    }
   },
   "cell_type": "code",
   "source": [
    "training_module.training(\n",
    "\tinput_size=42,\n",
    "\thidden_size=500,\n",
    "\tnum_layers=10,\n",
    "\toutput_size=4,\n",
    "\tlearning_rate=1e-4,\n",
    "\tdropout=0.2,\n",
    ")"
   ],
   "id": "a7d78f64fda6300",
   "outputs": [
    {
     "name": "stderr",
     "output_type": "stream",
     "text": [
      "Missing logger folder: /mnt/e/Work/chi_phuong_co_su/log/flight_model_LSTM_V2\n",
      "/home/anvutrong/miniconda3/envs/wsl_env/lib/python3.11/site-packages/lightning/pytorch/callbacks/model_checkpoint.py:653: Checkpoint directory /mnt/e/Work/chi_phuong_co_su/log exists and is not empty.\n",
      "LOCAL_RANK: 0 - CUDA_VISIBLE_DEVICES: [0]\n",
      "\n",
      "  | Name | Type              | Params | In sizes                                      | Out sizes                                     \n",
      "--------------------------------------------------------------------------------------------------------------------------------------------\n",
      "0 | lstm | LSTM              | 19.1 M | [[1, 6616, 42], [[10, 1, 500], [10, 1, 500]]] | [[1, 6616, 500], [[10, 1, 500], [10, 1, 500]]]\n",
      "1 | fc   | Linear            | 2.0 K  | [1, 6616, 500]                                | [1, 6616, 4]                                  \n",
      "2 | relu | ReLU              | 0      | [1, 6616, 500]                                | [1, 6616, 500]                                \n",
      "3 | loss | MSELoss           | 0      | ?                                             | ?                                             \n",
      "4 | mse  | MeanSquaredError  | 0      | ?                                             | ?                                             \n",
      "5 | mae  | MeanAbsoluteError | 0      | ?                                             | ?                                             \n",
      "6 | r2   | R2Score           | 0      | ?                                             | ?                                             \n",
      "--------------------------------------------------------------------------------------------------------------------------------------------\n",
      "19.1 M    Trainable params\n",
      "0         Non-trainable params\n",
      "19.1 M    Total params\n",
      "76.504    Total estimated model params size (MB)\n"
     ]
    },
    {
     "data": {
      "text/plain": [
       "Sanity Checking: |          | 0/? [00:00<?, ?it/s]"
      ],
      "application/vnd.jupyter.widget-view+json": {
       "version_major": 2,
       "version_minor": 0,
       "model_id": "acc232176d914d828003e902aa7d1322"
      }
     },
     "metadata": {},
     "output_type": "display_data"
    },
    {
     "data": {
      "text/plain": [
       "Training: |          | 0/? [00:00<?, ?it/s]"
      ],
      "application/vnd.jupyter.widget-view+json": {
       "version_major": 2,
       "version_minor": 0,
       "model_id": "00dd3b54d069448dbea1938f8a096f4e"
      }
     },
     "metadata": {},
     "output_type": "display_data"
    },
    {
     "data": {
      "text/plain": [
       "Validation: |          | 0/? [00:00<?, ?it/s]"
      ],
      "application/vnd.jupyter.widget-view+json": {
       "version_major": 2,
       "version_minor": 0,
       "model_id": "ac600c7683764bb88d9c47d28a6b291c"
      }
     },
     "metadata": {},
     "output_type": "display_data"
    },
    {
     "name": "stderr",
     "output_type": "stream",
     "text": [
      "Metric val_loss improved. New best score: 0.477\n",
      "Epoch 0, global step 18: 'val_loss' reached 0.47740 (best 0.47740), saving model to '/mnt/e/Work/chi_phuong_co_su/log/LSTM-V2-epoch=0-val_loss=0.47740.ckpt' as top 3\n"
     ]
    },
    {
     "data": {
      "text/plain": [
       "Validation: |          | 0/? [00:00<?, ?it/s]"
      ],
      "application/vnd.jupyter.widget-view+json": {
       "version_major": 2,
       "version_minor": 0,
       "model_id": "1393d76bc6af4756b6f328f80cf9923b"
      }
     },
     "metadata": {},
     "output_type": "display_data"
    },
    {
     "name": "stderr",
     "output_type": "stream",
     "text": [
      "Metric val_loss improved by 0.045 >= min_delta = 0.0. New best score: 0.432\n",
      "Epoch 1, global step 36: 'val_loss' reached 0.43197 (best 0.43197), saving model to '/mnt/e/Work/chi_phuong_co_su/log/LSTM-V2-epoch=1-val_loss=0.43197.ckpt' as top 3\n"
     ]
    },
    {
     "data": {
      "text/plain": [
       "Validation: |          | 0/? [00:00<?, ?it/s]"
      ],
      "application/vnd.jupyter.widget-view+json": {
       "version_major": 2,
       "version_minor": 0,
       "model_id": "69215ef9a73848ab9432794f06cd37bc"
      }
     },
     "metadata": {},
     "output_type": "display_data"
    },
    {
     "name": "stderr",
     "output_type": "stream",
     "text": [
      "Metric val_loss improved by 0.103 >= min_delta = 0.0. New best score: 0.329\n",
      "Epoch 2, global step 54: 'val_loss' reached 0.32891 (best 0.32891), saving model to '/mnt/e/Work/chi_phuong_co_su/log/LSTM-V2-epoch=2-val_loss=0.32891.ckpt' as top 3\n"
     ]
    },
    {
     "data": {
      "text/plain": [
       "Validation: |          | 0/? [00:00<?, ?it/s]"
      ],
      "application/vnd.jupyter.widget-view+json": {
       "version_major": 2,
       "version_minor": 0,
       "model_id": "3cca207be5fe4a3a837cefd55cdee795"
      }
     },
     "metadata": {},
     "output_type": "display_data"
    },
    {
     "name": "stderr",
     "output_type": "stream",
     "text": [
      "Metric val_loss improved by 0.083 >= min_delta = 0.0. New best score: 0.246\n",
      "Epoch 3, global step 72: 'val_loss' reached 0.24573 (best 0.24573), saving model to '/mnt/e/Work/chi_phuong_co_su/log/LSTM-V2-epoch=3-val_loss=0.24573.ckpt' as top 3\n"
     ]
    },
    {
     "data": {
      "text/plain": [
       "Validation: |          | 0/? [00:00<?, ?it/s]"
      ],
      "application/vnd.jupyter.widget-view+json": {
       "version_major": 2,
       "version_minor": 0,
       "model_id": "f405853880c641cda437fe87507e050a"
      }
     },
     "metadata": {},
     "output_type": "display_data"
    },
    {
     "name": "stderr",
     "output_type": "stream",
     "text": [
      "Metric val_loss improved by 0.064 >= min_delta = 0.0. New best score: 0.181\n",
      "Epoch 4, global step 90: 'val_loss' reached 0.18139 (best 0.18139), saving model to '/mnt/e/Work/chi_phuong_co_su/log/LSTM-V2-epoch=4-val_loss=0.18139.ckpt' as top 3\n"
     ]
    },
    {
     "data": {
      "text/plain": [
       "Validation: |          | 0/? [00:00<?, ?it/s]"
      ],
      "application/vnd.jupyter.widget-view+json": {
       "version_major": 2,
       "version_minor": 0,
       "model_id": "1229c69c335e4a28bef589a14f20654b"
      }
     },
     "metadata": {},
     "output_type": "display_data"
    },
    {
     "name": "stderr",
     "output_type": "stream",
     "text": [
      "Metric val_loss improved by 0.044 >= min_delta = 0.0. New best score: 0.137\n",
      "Epoch 5, global step 108: 'val_loss' reached 0.13736 (best 0.13736), saving model to '/mnt/e/Work/chi_phuong_co_su/log/LSTM-V2-epoch=5-val_loss=0.13736.ckpt' as top 3\n"
     ]
    },
    {
     "data": {
      "text/plain": [
       "Validation: |          | 0/? [00:00<?, ?it/s]"
      ],
      "application/vnd.jupyter.widget-view+json": {
       "version_major": 2,
       "version_minor": 0,
       "model_id": "93490b9a44eb4f16bb3fae92d72ce6d1"
      }
     },
     "metadata": {},
     "output_type": "display_data"
    },
    {
     "name": "stderr",
     "output_type": "stream",
     "text": [
      "Metric val_loss improved by 0.040 >= min_delta = 0.0. New best score: 0.097\n",
      "Epoch 6, global step 126: 'val_loss' reached 0.09726 (best 0.09726), saving model to '/mnt/e/Work/chi_phuong_co_su/log/LSTM-V2-epoch=6-val_loss=0.09726.ckpt' as top 3\n"
     ]
    },
    {
     "data": {
      "text/plain": [
       "Validation: |          | 0/? [00:00<?, ?it/s]"
      ],
      "application/vnd.jupyter.widget-view+json": {
       "version_major": 2,
       "version_minor": 0,
       "model_id": "f3a5f3b304464a12a6c9b743bfead263"
      }
     },
     "metadata": {},
     "output_type": "display_data"
    },
    {
     "name": "stderr",
     "output_type": "stream",
     "text": [
      "Metric val_loss improved by 0.002 >= min_delta = 0.0. New best score: 0.095\n",
      "Epoch 7, global step 144: 'val_loss' reached 0.09486 (best 0.09486), saving model to '/mnt/e/Work/chi_phuong_co_su/log/LSTM-V2-epoch=7-val_loss=0.09486.ckpt' as top 3\n"
     ]
    },
    {
     "data": {
      "text/plain": [
       "Validation: |          | 0/? [00:00<?, ?it/s]"
      ],
      "application/vnd.jupyter.widget-view+json": {
       "version_major": 2,
       "version_minor": 0,
       "model_id": "1809741b7d2c42199124209f2cca73eb"
      }
     },
     "metadata": {},
     "output_type": "display_data"
    },
    {
     "name": "stderr",
     "output_type": "stream",
     "text": [
      "Metric val_loss improved by 0.023 >= min_delta = 0.0. New best score: 0.072\n",
      "Epoch 8, global step 162: 'val_loss' reached 0.07167 (best 0.07167), saving model to '/mnt/e/Work/chi_phuong_co_su/log/LSTM-V2-epoch=8-val_loss=0.07167.ckpt' as top 3\n"
     ]
    },
    {
     "data": {
      "text/plain": [
       "Validation: |          | 0/? [00:00<?, ?it/s]"
      ],
      "application/vnd.jupyter.widget-view+json": {
       "version_major": 2,
       "version_minor": 0,
       "model_id": "5e13395ad6f441ac857cb5ed3565ee7a"
      }
     },
     "metadata": {},
     "output_type": "display_data"
    },
    {
     "name": "stderr",
     "output_type": "stream",
     "text": [
      "Metric val_loss improved by 0.004 >= min_delta = 0.0. New best score: 0.068\n",
      "Epoch 9, global step 180: 'val_loss' reached 0.06791 (best 0.06791), saving model to '/mnt/e/Work/chi_phuong_co_su/log/LSTM-V2-epoch=9-val_loss=0.06791.ckpt' as top 3\n"
     ]
    },
    {
     "data": {
      "text/plain": [
       "Validation: |          | 0/? [00:00<?, ?it/s]"
      ],
      "application/vnd.jupyter.widget-view+json": {
       "version_major": 2,
       "version_minor": 0,
       "model_id": "ac2010797ee441e88cde033a5c83a9a1"
      }
     },
     "metadata": {},
     "output_type": "display_data"
    },
    {
     "name": "stderr",
     "output_type": "stream",
     "text": [
      "Metric val_loss improved by 0.002 >= min_delta = 0.0. New best score: 0.066\n",
      "Epoch 10, global step 198: 'val_loss' reached 0.06573 (best 0.06573), saving model to '/mnt/e/Work/chi_phuong_co_su/log/LSTM-V2-epoch=10-val_loss=0.06573.ckpt' as top 3\n"
     ]
    },
    {
     "data": {
      "text/plain": [
       "Validation: |          | 0/? [00:00<?, ?it/s]"
      ],
      "application/vnd.jupyter.widget-view+json": {
       "version_major": 2,
       "version_minor": 0,
       "model_id": "a53c7a3228304a44ab97d3ddac15d543"
      }
     },
     "metadata": {},
     "output_type": "display_data"
    },
    {
     "name": "stderr",
     "output_type": "stream",
     "text": [
      "Metric val_loss improved by 0.003 >= min_delta = 0.0. New best score: 0.063\n",
      "Epoch 11, global step 216: 'val_loss' reached 0.06286 (best 0.06286), saving model to '/mnt/e/Work/chi_phuong_co_su/log/LSTM-V2-epoch=11-val_loss=0.06286.ckpt' as top 3\n"
     ]
    },
    {
     "data": {
      "text/plain": [
       "Validation: |          | 0/? [00:00<?, ?it/s]"
      ],
      "application/vnd.jupyter.widget-view+json": {
       "version_major": 2,
       "version_minor": 0,
       "model_id": "5ac788a3111f4054b2598aacdde94263"
      }
     },
     "metadata": {},
     "output_type": "display_data"
    },
    {
     "name": "stderr",
     "output_type": "stream",
     "text": [
      "Epoch 12, global step 234: 'val_loss' reached 0.06435 (best 0.06286), saving model to '/mnt/e/Work/chi_phuong_co_su/log/LSTM-V2-epoch=12-val_loss=0.06435.ckpt' as top 3\n"
     ]
    },
    {
     "data": {
      "text/plain": [
       "Validation: |          | 0/? [00:00<?, ?it/s]"
      ],
      "application/vnd.jupyter.widget-view+json": {
       "version_major": 2,
       "version_minor": 0,
       "model_id": "111d25cf9d224cb0b7d17bcb42c29465"
      }
     },
     "metadata": {},
     "output_type": "display_data"
    },
    {
     "name": "stderr",
     "output_type": "stream",
     "text": [
      "Epoch 13, global step 252: 'val_loss' reached 0.06322 (best 0.06286), saving model to '/mnt/e/Work/chi_phuong_co_su/log/LSTM-V2-epoch=13-val_loss=0.06322.ckpt' as top 3\n"
     ]
    },
    {
     "data": {
      "text/plain": [
       "Validation: |          | 0/? [00:00<?, ?it/s]"
      ],
      "application/vnd.jupyter.widget-view+json": {
       "version_major": 2,
       "version_minor": 0,
       "model_id": "35bafef2a42444a2a4c832052938796e"
      }
     },
     "metadata": {},
     "output_type": "display_data"
    },
    {
     "name": "stderr",
     "output_type": "stream",
     "text": [
      "Metric val_loss improved by 0.001 >= min_delta = 0.0. New best score: 0.062\n",
      "Epoch 14, global step 270: 'val_loss' reached 0.06180 (best 0.06180), saving model to '/mnt/e/Work/chi_phuong_co_su/log/LSTM-V2-epoch=14-val_loss=0.06180.ckpt' as top 3\n"
     ]
    },
    {
     "data": {
      "text/plain": [
       "Validation: |          | 0/? [00:00<?, ?it/s]"
      ],
      "application/vnd.jupyter.widget-view+json": {
       "version_major": 2,
       "version_minor": 0,
       "model_id": "382812c0024d41bcbd20878e85d72451"
      }
     },
     "metadata": {},
     "output_type": "display_data"
    },
    {
     "name": "stderr",
     "output_type": "stream",
     "text": [
      "Epoch 15, global step 288: 'val_loss' was not in top 3\n"
     ]
    },
    {
     "data": {
      "text/plain": [
       "Validation: |          | 0/? [00:00<?, ?it/s]"
      ],
      "application/vnd.jupyter.widget-view+json": {
       "version_major": 2,
       "version_minor": 0,
       "model_id": "0fb3e57ab17d4878a0f3bbf503179b5d"
      }
     },
     "metadata": {},
     "output_type": "display_data"
    },
    {
     "name": "stderr",
     "output_type": "stream",
     "text": [
      "Epoch 16, global step 306: 'val_loss' reached 0.06202 (best 0.06180), saving model to '/mnt/e/Work/chi_phuong_co_su/log/LSTM-V2-epoch=16-val_loss=0.06202.ckpt' as top 3\n"
     ]
    },
    {
     "data": {
      "text/plain": [
       "Validation: |          | 0/? [00:00<?, ?it/s]"
      ],
      "application/vnd.jupyter.widget-view+json": {
       "version_major": 2,
       "version_minor": 0,
       "model_id": "74f142c7552a4a81bafd20aa6f105afd"
      }
     },
     "metadata": {},
     "output_type": "display_data"
    },
    {
     "name": "stderr",
     "output_type": "stream",
     "text": [
      "Metric val_loss improved by 0.000 >= min_delta = 0.0. New best score: 0.061\n",
      "Epoch 17, global step 324: 'val_loss' reached 0.06141 (best 0.06141), saving model to '/mnt/e/Work/chi_phuong_co_su/log/LSTM-V2-epoch=17-val_loss=0.06141.ckpt' as top 3\n"
     ]
    },
    {
     "data": {
      "text/plain": [
       "Validation: |          | 0/? [00:00<?, ?it/s]"
      ],
      "application/vnd.jupyter.widget-view+json": {
       "version_major": 2,
       "version_minor": 0,
       "model_id": "cb4a7715554f453c9658d5fa0a9cbda9"
      }
     },
     "metadata": {},
     "output_type": "display_data"
    },
    {
     "name": "stderr",
     "output_type": "stream",
     "text": [
      "Metric val_loss improved by 0.000 >= min_delta = 0.0. New best score: 0.061\n",
      "Epoch 18, global step 342: 'val_loss' reached 0.06141 (best 0.06141), saving model to '/mnt/e/Work/chi_phuong_co_su/log/LSTM-V2-epoch=18-val_loss=0.06141.ckpt' as top 3\n"
     ]
    },
    {
     "data": {
      "text/plain": [
       "Validation: |          | 0/? [00:00<?, ?it/s]"
      ],
      "application/vnd.jupyter.widget-view+json": {
       "version_major": 2,
       "version_minor": 0,
       "model_id": "a65e4233e1834d0db3c5d2ee52cbcffd"
      }
     },
     "metadata": {},
     "output_type": "display_data"
    },
    {
     "name": "stderr",
     "output_type": "stream",
     "text": [
      "Epoch 19, global step 360: 'val_loss' was not in top 3\n"
     ]
    },
    {
     "data": {
      "text/plain": [
       "Validation: |          | 0/? [00:00<?, ?it/s]"
      ],
      "application/vnd.jupyter.widget-view+json": {
       "version_major": 2,
       "version_minor": 0,
       "model_id": "75231f7313a44767b5fea3939e5c6604"
      }
     },
     "metadata": {},
     "output_type": "display_data"
    },
    {
     "name": "stderr",
     "output_type": "stream",
     "text": [
      "Metric val_loss improved by 0.001 >= min_delta = 0.0. New best score: 0.061\n",
      "Epoch 20, global step 378: 'val_loss' reached 0.06064 (best 0.06064), saving model to '/mnt/e/Work/chi_phuong_co_su/log/LSTM-V2-epoch=20-val_loss=0.06064.ckpt' as top 3\n"
     ]
    },
    {
     "data": {
      "text/plain": [
       "Validation: |          | 0/? [00:00<?, ?it/s]"
      ],
      "application/vnd.jupyter.widget-view+json": {
       "version_major": 2,
       "version_minor": 0,
       "model_id": "01e9a8202c6c4fa984581e0d2380def3"
      }
     },
     "metadata": {},
     "output_type": "display_data"
    },
    {
     "name": "stderr",
     "output_type": "stream",
     "text": [
      "Epoch 21, global step 396: 'val_loss' reached 0.06114 (best 0.06064), saving model to '/mnt/e/Work/chi_phuong_co_su/log/LSTM-V2-epoch=21-val_loss=0.06114.ckpt' as top 3\n"
     ]
    },
    {
     "data": {
      "text/plain": [
       "Validation: |          | 0/? [00:00<?, ?it/s]"
      ],
      "application/vnd.jupyter.widget-view+json": {
       "version_major": 2,
       "version_minor": 0,
       "model_id": "8adad8aff93f4c209f88c72f5c7b964c"
      }
     },
     "metadata": {},
     "output_type": "display_data"
    },
    {
     "name": "stderr",
     "output_type": "stream",
     "text": [
      "Epoch 22, global step 414: 'val_loss' reached 0.06071 (best 0.06064), saving model to '/mnt/e/Work/chi_phuong_co_su/log/LSTM-V2-epoch=22-val_loss=0.06071.ckpt' as top 3\n"
     ]
    },
    {
     "data": {
      "text/plain": [
       "Validation: |          | 0/? [00:00<?, ?it/s]"
      ],
      "application/vnd.jupyter.widget-view+json": {
       "version_major": 2,
       "version_minor": 0,
       "model_id": "538e2e30c39f408aba170709c4b1ad1d"
      }
     },
     "metadata": {},
     "output_type": "display_data"
    },
    {
     "name": "stderr",
     "output_type": "stream",
     "text": [
      "Epoch 23, global step 432: 'val_loss' reached 0.06091 (best 0.06064), saving model to '/mnt/e/Work/chi_phuong_co_su/log/LSTM-V2-epoch=23-val_loss=0.06091.ckpt' as top 3\n"
     ]
    },
    {
     "data": {
      "text/plain": [
       "Validation: |          | 0/? [00:00<?, ?it/s]"
      ],
      "application/vnd.jupyter.widget-view+json": {
       "version_major": 2,
       "version_minor": 0,
       "model_id": "dfa965b5ecda44c799e66dba62e0534e"
      }
     },
     "metadata": {},
     "output_type": "display_data"
    },
    {
     "name": "stderr",
     "output_type": "stream",
     "text": [
      "Epoch 24, global step 450: 'val_loss' reached 0.06078 (best 0.06064), saving model to '/mnt/e/Work/chi_phuong_co_su/log/LSTM-V2-epoch=24-val_loss=0.06078.ckpt' as top 3\n"
     ]
    },
    {
     "data": {
      "text/plain": [
       "Validation: |          | 0/? [00:00<?, ?it/s]"
      ],
      "application/vnd.jupyter.widget-view+json": {
       "version_major": 2,
       "version_minor": 0,
       "model_id": "4b619d9048dc4214a70998d9dd5c4343"
      }
     },
     "metadata": {},
     "output_type": "display_data"
    },
    {
     "name": "stderr",
     "output_type": "stream",
     "text": [
      "Epoch 25, global step 468: 'val_loss' was not in top 3\n"
     ]
    },
    {
     "data": {
      "text/plain": [
       "Validation: |          | 0/? [00:00<?, ?it/s]"
      ],
      "application/vnd.jupyter.widget-view+json": {
       "version_major": 2,
       "version_minor": 0,
       "model_id": "b6f91173b7a74500a65dd0d888e41a74"
      }
     },
     "metadata": {},
     "output_type": "display_data"
    },
    {
     "name": "stderr",
     "output_type": "stream",
     "text": [
      "Epoch 26, global step 486: 'val_loss' was not in top 3\n"
     ]
    },
    {
     "data": {
      "text/plain": [
       "Validation: |          | 0/? [00:00<?, ?it/s]"
      ],
      "application/vnd.jupyter.widget-view+json": {
       "version_major": 2,
       "version_minor": 0,
       "model_id": "a8473600860c497b8be71cb0bcd4be91"
      }
     },
     "metadata": {},
     "output_type": "display_data"
    },
    {
     "name": "stderr",
     "output_type": "stream",
     "text": [
      "Epoch 27, global step 504: 'val_loss' was not in top 3\n"
     ]
    },
    {
     "data": {
      "text/plain": [
       "Validation: |          | 0/? [00:00<?, ?it/s]"
      ],
      "application/vnd.jupyter.widget-view+json": {
       "version_major": 2,
       "version_minor": 0,
       "model_id": "77a91aa526da49a0bfc6d8d0a6345fb6"
      }
     },
     "metadata": {},
     "output_type": "display_data"
    },
    {
     "name": "stderr",
     "output_type": "stream",
     "text": [
      "Metric val_loss improved by 0.000 >= min_delta = 0.0. New best score: 0.061\n",
      "Epoch 28, global step 522: 'val_loss' reached 0.06052 (best 0.06052), saving model to '/mnt/e/Work/chi_phuong_co_su/log/LSTM-V2-epoch=28-val_loss=0.06052.ckpt' as top 3\n"
     ]
    },
    {
     "data": {
      "text/plain": [
       "Validation: |          | 0/? [00:00<?, ?it/s]"
      ],
      "application/vnd.jupyter.widget-view+json": {
       "version_major": 2,
       "version_minor": 0,
       "model_id": "2607c346839a4d2db94f7c7b5d11e486"
      }
     },
     "metadata": {},
     "output_type": "display_data"
    },
    {
     "name": "stderr",
     "output_type": "stream",
     "text": [
      "Epoch 29, global step 540: 'val_loss' was not in top 3\n"
     ]
    },
    {
     "data": {
      "text/plain": [
       "Validation: |          | 0/? [00:00<?, ?it/s]"
      ],
      "application/vnd.jupyter.widget-view+json": {
       "version_major": 2,
       "version_minor": 0,
       "model_id": "9219b36e7844450b8dd38f6a77b57a7e"
      }
     },
     "metadata": {},
     "output_type": "display_data"
    },
    {
     "name": "stderr",
     "output_type": "stream",
     "text": [
      "Epoch 30, global step 558: 'val_loss' was not in top 3\n"
     ]
    },
    {
     "data": {
      "text/plain": [
       "Validation: |          | 0/? [00:00<?, ?it/s]"
      ],
      "application/vnd.jupyter.widget-view+json": {
       "version_major": 2,
       "version_minor": 0,
       "model_id": "61f596fb74b2499db70a5ba9b7ceabc9"
      }
     },
     "metadata": {},
     "output_type": "display_data"
    },
    {
     "name": "stderr",
     "output_type": "stream",
     "text": [
      "Epoch 31, global step 576: 'val_loss' was not in top 3\n"
     ]
    },
    {
     "data": {
      "text/plain": [
       "Validation: |          | 0/? [00:00<?, ?it/s]"
      ],
      "application/vnd.jupyter.widget-view+json": {
       "version_major": 2,
       "version_minor": 0,
       "model_id": "a536434f79584802883e716bab7f87bc"
      }
     },
     "metadata": {},
     "output_type": "display_data"
    },
    {
     "name": "stderr",
     "output_type": "stream",
     "text": [
      "Epoch 32, global step 594: 'val_loss' was not in top 3\n"
     ]
    },
    {
     "data": {
      "text/plain": [
       "Validation: |          | 0/? [00:00<?, ?it/s]"
      ],
      "application/vnd.jupyter.widget-view+json": {
       "version_major": 2,
       "version_minor": 0,
       "model_id": "612685c353dc44a39582068d094f0529"
      }
     },
     "metadata": {},
     "output_type": "display_data"
    },
    {
     "name": "stderr",
     "output_type": "stream",
     "text": [
      "Epoch 33, global step 612: 'val_loss' was not in top 3\n"
     ]
    },
    {
     "data": {
      "text/plain": [
       "Validation: |          | 0/? [00:00<?, ?it/s]"
      ],
      "application/vnd.jupyter.widget-view+json": {
       "version_major": 2,
       "version_minor": 0,
       "model_id": "a05947f7239a4f989a9bfd1d10bc86ee"
      }
     },
     "metadata": {},
     "output_type": "display_data"
    },
    {
     "name": "stderr",
     "output_type": "stream",
     "text": [
      "Epoch 34, global step 630: 'val_loss' was not in top 3\n"
     ]
    },
    {
     "data": {
      "text/plain": [
       "Validation: |          | 0/? [00:00<?, ?it/s]"
      ],
      "application/vnd.jupyter.widget-view+json": {
       "version_major": 2,
       "version_minor": 0,
       "model_id": "5531201eb8654370b6f576fce957d8e9"
      }
     },
     "metadata": {},
     "output_type": "display_data"
    },
    {
     "name": "stderr",
     "output_type": "stream",
     "text": [
      "Epoch 35, global step 648: 'val_loss' was not in top 3\n"
     ]
    },
    {
     "data": {
      "text/plain": [
       "Validation: |          | 0/? [00:00<?, ?it/s]"
      ],
      "application/vnd.jupyter.widget-view+json": {
       "version_major": 2,
       "version_minor": 0,
       "model_id": "7552fb74c03042cf89701b7684df5c1d"
      }
     },
     "metadata": {},
     "output_type": "display_data"
    },
    {
     "name": "stderr",
     "output_type": "stream",
     "text": [
      "Epoch 36, global step 666: 'val_loss' was not in top 3\n"
     ]
    },
    {
     "data": {
      "text/plain": [
       "Validation: |          | 0/? [00:00<?, ?it/s]"
      ],
      "application/vnd.jupyter.widget-view+json": {
       "version_major": 2,
       "version_minor": 0,
       "model_id": "e9070d2cfbfa40639ac9e41a9f1f54ca"
      }
     },
     "metadata": {},
     "output_type": "display_data"
    },
    {
     "name": "stderr",
     "output_type": "stream",
     "text": [
      "Epoch 37, global step 684: 'val_loss' was not in top 3\n"
     ]
    },
    {
     "data": {
      "text/plain": [
       "Validation: |          | 0/? [00:00<?, ?it/s]"
      ],
      "application/vnd.jupyter.widget-view+json": {
       "version_major": 2,
       "version_minor": 0,
       "model_id": "522de7c485b04607a451ee36d4cd0f17"
      }
     },
     "metadata": {},
     "output_type": "display_data"
    },
    {
     "name": "stderr",
     "output_type": "stream",
     "text": [
      "Monitored metric val_loss did not improve in the last 10 records. Best score: 0.061. Signaling Trainer to stop.\n",
      "Epoch 38, global step 702: 'val_loss' was not in top 3\n"
     ]
    }
   ],
   "execution_count": 15
  },
  {
   "metadata": {
    "ExecuteTime": {
     "end_time": "2024-07-24T12:50:31.615641Z",
     "start_time": "2024-07-24T12:50:05.164335Z"
    }
   },
   "cell_type": "code",
   "source": "training_module.validate_and_testing_lstm(data_module=flight_dm)",
   "id": "5c63ceb0241662ec",
   "outputs": [
    {
     "name": "stderr",
     "output_type": "stream",
     "text": [
      "LOCAL_RANK: 0 - CUDA_VISIBLE_DEVICES: [0]\n"
     ]
    },
    {
     "data": {
      "text/plain": [
       "Validation: |          | 0/? [00:00<?, ?it/s]"
      ],
      "application/vnd.jupyter.widget-view+json": {
       "version_major": 2,
       "version_minor": 0,
       "model_id": "773ec71f781b456ab94f25bb9c2181d7"
      }
     },
     "metadata": {},
     "output_type": "display_data"
    },
    {
     "data": {
      "text/plain": [
       "┏━━━━━━━━━━━━━━━━━━━━━━━━━━━┳━━━━━━━━━━━━━━━━━━━━━━━━━━━┓\n",
       "┃\u001B[1m \u001B[0m\u001B[1m     Validate metric     \u001B[0m\u001B[1m \u001B[0m┃\u001B[1m \u001B[0m\u001B[1m      DataLoader 0       \u001B[0m\u001B[1m \u001B[0m┃\n",
       "┡━━━━━━━━━━━━━━━━━━━━━━━━━━━╇━━━━━━━━━━━━━━━━━━━━━━━━━━━┩\n",
       "│\u001B[36m \u001B[0m\u001B[36m     val_loss_epoch      \u001B[0m\u001B[36m \u001B[0m│\u001B[35m \u001B[0m\u001B[35m   0.06052081659436226   \u001B[0m\u001B[35m \u001B[0m│\n",
       "│\u001B[36m \u001B[0m\u001B[36m      val_mae_epoch      \u001B[0m\u001B[36m \u001B[0m│\u001B[35m \u001B[0m\u001B[35m   0.10333718359470367   \u001B[0m\u001B[35m \u001B[0m│\n",
       "│\u001B[36m \u001B[0m\u001B[36m      val_mse_epoch      \u001B[0m\u001B[36m \u001B[0m│\u001B[35m \u001B[0m\u001B[35m   0.06052081659436226   \u001B[0m\u001B[35m \u001B[0m│\n",
       "│\u001B[36m \u001B[0m\u001B[36m      val_r2_epoch       \u001B[0m\u001B[36m \u001B[0m│\u001B[35m \u001B[0m\u001B[35m   0.8730583786964417    \u001B[0m\u001B[35m \u001B[0m│\n",
       "└───────────────────────────┴───────────────────────────┘\n"
      ],
      "text/html": [
       "<pre style=\"white-space:pre;overflow-x:auto;line-height:normal;font-family:Menlo,'DejaVu Sans Mono',consolas,'Courier New',monospace\">┏━━━━━━━━━━━━━━━━━━━━━━━━━━━┳━━━━━━━━━━━━━━━━━━━━━━━━━━━┓\n",
       "┃<span style=\"font-weight: bold\">      Validate metric      </span>┃<span style=\"font-weight: bold\">       DataLoader 0        </span>┃\n",
       "┡━━━━━━━━━━━━━━━━━━━━━━━━━━━╇━━━━━━━━━━━━━━━━━━━━━━━━━━━┩\n",
       "│<span style=\"color: #008080; text-decoration-color: #008080\">      val_loss_epoch       </span>│<span style=\"color: #800080; text-decoration-color: #800080\">    0.06052081659436226    </span>│\n",
       "│<span style=\"color: #008080; text-decoration-color: #008080\">       val_mae_epoch       </span>│<span style=\"color: #800080; text-decoration-color: #800080\">    0.10333718359470367    </span>│\n",
       "│<span style=\"color: #008080; text-decoration-color: #008080\">       val_mse_epoch       </span>│<span style=\"color: #800080; text-decoration-color: #800080\">    0.06052081659436226    </span>│\n",
       "│<span style=\"color: #008080; text-decoration-color: #008080\">       val_r2_epoch        </span>│<span style=\"color: #800080; text-decoration-color: #800080\">    0.8730583786964417     </span>│\n",
       "└───────────────────────────┴───────────────────────────┘\n",
       "</pre>\n"
      ]
     },
     "metadata": {},
     "output_type": "display_data"
    },
    {
     "name": "stderr",
     "output_type": "stream",
     "text": [
      "LOCAL_RANK: 0 - CUDA_VISIBLE_DEVICES: [0]\n"
     ]
    },
    {
     "data": {
      "text/plain": [
       "Testing: |          | 0/? [00:00<?, ?it/s]"
      ],
      "application/vnd.jupyter.widget-view+json": {
       "version_major": 2,
       "version_minor": 0,
       "model_id": "09ca01878d3d4c0897b5daf8afc6f40d"
      }
     },
     "metadata": {},
     "output_type": "display_data"
    },
    {
     "data": {
      "text/plain": [
       "┏━━━━━━━━━━━━━━━━━━━━━━━━━━━┳━━━━━━━━━━━━━━━━━━━━━━━━━━━┓\n",
       "┃\u001B[1m \u001B[0m\u001B[1m       Test metric       \u001B[0m\u001B[1m \u001B[0m┃\u001B[1m \u001B[0m\u001B[1m      DataLoader 0       \u001B[0m\u001B[1m \u001B[0m┃\n",
       "┡━━━━━━━━━━━━━━━━━━━━━━━━━━━╇━━━━━━━━━━━━━━━━━━━━━━━━━━━┩\n",
       "│\u001B[36m \u001B[0m\u001B[36m     test_loss_epoch     \u001B[0m\u001B[36m \u001B[0m│\u001B[35m \u001B[0m\u001B[35m   0.05803916975855827   \u001B[0m\u001B[35m \u001B[0m│\n",
       "│\u001B[36m \u001B[0m\u001B[36m     test_mae_epoch      \u001B[0m\u001B[36m \u001B[0m│\u001B[35m \u001B[0m\u001B[35m   0.10593562573194504   \u001B[0m\u001B[35m \u001B[0m│\n",
       "│\u001B[36m \u001B[0m\u001B[36m     test_mse_epoch      \u001B[0m\u001B[36m \u001B[0m│\u001B[35m \u001B[0m\u001B[35m   0.05803916975855827   \u001B[0m\u001B[35m \u001B[0m│\n",
       "│\u001B[36m \u001B[0m\u001B[36m      test_r2_epoch      \u001B[0m\u001B[36m \u001B[0m│\u001B[35m \u001B[0m\u001B[35m   0.8804341554641724    \u001B[0m\u001B[35m \u001B[0m│\n",
       "└───────────────────────────┴───────────────────────────┘\n"
      ],
      "text/html": [
       "<pre style=\"white-space:pre;overflow-x:auto;line-height:normal;font-family:Menlo,'DejaVu Sans Mono',consolas,'Courier New',monospace\">┏━━━━━━━━━━━━━━━━━━━━━━━━━━━┳━━━━━━━━━━━━━━━━━━━━━━━━━━━┓\n",
       "┃<span style=\"font-weight: bold\">        Test metric        </span>┃<span style=\"font-weight: bold\">       DataLoader 0        </span>┃\n",
       "┡━━━━━━━━━━━━━━━━━━━━━━━━━━━╇━━━━━━━━━━━━━━━━━━━━━━━━━━━┩\n",
       "│<span style=\"color: #008080; text-decoration-color: #008080\">      test_loss_epoch      </span>│<span style=\"color: #800080; text-decoration-color: #800080\">    0.05803916975855827    </span>│\n",
       "│<span style=\"color: #008080; text-decoration-color: #008080\">      test_mae_epoch       </span>│<span style=\"color: #800080; text-decoration-color: #800080\">    0.10593562573194504    </span>│\n",
       "│<span style=\"color: #008080; text-decoration-color: #008080\">      test_mse_epoch       </span>│<span style=\"color: #800080; text-decoration-color: #800080\">    0.05803916975855827    </span>│\n",
       "│<span style=\"color: #008080; text-decoration-color: #008080\">       test_r2_epoch       </span>│<span style=\"color: #800080; text-decoration-color: #800080\">    0.8804341554641724     </span>│\n",
       "└───────────────────────────┴───────────────────────────┘\n",
       "</pre>\n"
      ]
     },
     "metadata": {},
     "output_type": "display_data"
    }
   ],
   "execution_count": 16
  },
  {
   "metadata": {
    "ExecuteTime": {
     "end_time": "2024-07-24T12:50:32.624070Z",
     "start_time": "2024-07-24T12:50:31.617259Z"
    }
   },
   "cell_type": "code",
   "source": [
    "# Tensorboard\n",
    "%tensorboard --logdir /mnt/e/Work/chi_phuong_co_su/log"
   ],
   "id": "f45e407dda14f986",
   "outputs": [
    {
     "data": {
      "text/plain": [
       "<IPython.core.display.HTML object>"
      ],
      "text/html": [
       "\n",
       "      <iframe id=\"tensorboard-frame-8b7e01f3d681ab63\" width=\"100%\" height=\"800\" frameborder=\"0\">\n",
       "      </iframe>\n",
       "      <script>\n",
       "        (function() {\n",
       "          const frame = document.getElementById(\"tensorboard-frame-8b7e01f3d681ab63\");\n",
       "          const url = new URL(\"/\", window.location);\n",
       "          const port = 6006;\n",
       "          if (port) {\n",
       "            url.port = port;\n",
       "          }\n",
       "          frame.src = url;\n",
       "        })();\n",
       "      </script>\n",
       "    "
      ]
     },
     "metadata": {},
     "output_type": "display_data"
    }
   ],
   "execution_count": 17
  }
 ],
 "metadata": {
  "kernelspec": {
   "display_name": "Python 3",
   "language": "python",
   "name": "python3"
  },
  "language_info": {
   "codemirror_mode": {
    "name": "ipython",
    "version": 2
   },
   "file_extension": ".py",
   "mimetype": "text/x-python",
   "name": "python",
   "nbconvert_exporter": "python",
   "pygments_lexer": "ipython2",
   "version": "2.7.6"
  }
 },
 "nbformat": 4,
 "nbformat_minor": 5
}
