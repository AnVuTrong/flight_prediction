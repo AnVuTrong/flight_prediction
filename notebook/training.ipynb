{
 "cells": [
  {
   "cell_type": "code",
   "id": "initial_id",
   "metadata": {
    "collapsed": true,
    "ExecuteTime": {
     "end_time": "2024-07-03T19:11:44.427295Z",
     "start_time": "2024-07-03T19:11:42.030490Z"
    }
   },
   "source": [
    "import os\n",
    "import torch\n",
    "import pandas as pd\n",
    "from modules.feature_engineering import FeatureEngineeringV1 \n",
    "from modules.data_module import FlightDataModule\n",
    "from modules.training import TrainingFlightModel\n",
    "from lightning.pytorch.callbacks import ModelCheckpoint, EarlyStopping\n",
    "from lightning.pytorch.loggers import TensorBoardLogger\n",
    "\n",
    "print(torch.__version__)\n",
    "fe = FeatureEngineeringV1()"
   ],
   "outputs": [
    {
     "name": "stdout",
     "output_type": "stream",
     "text": [
      "2.1.2+cu121\n"
     ]
    }
   ],
   "execution_count": 1
  },
  {
   "metadata": {
    "ExecuteTime": {
     "end_time": "2024-07-03T19:11:44.436168Z",
     "start_time": "2024-07-03T19:11:44.429175Z"
    }
   },
   "cell_type": "code",
   "source": "%load_ext tensorboard",
   "id": "5bd68f5b1dcc846b",
   "outputs": [],
   "execution_count": 2
  },
  {
   "metadata": {
    "ExecuteTime": {
     "end_time": "2024-07-03T19:11:44.571532Z",
     "start_time": "2024-07-03T19:11:44.437344Z"
    }
   },
   "cell_type": "code",
   "source": [
    "def get_default_device():\n",
    "    \"\"\"Pick GPU if available, else CPU\"\"\"\n",
    "    if torch.cuda.is_available():\n",
    "        print(f'Using device: {torch.cuda.get_device_name(0)}')\n",
    "        return torch.device('cuda')\n",
    "    elif torch.backends.mps.is_available():\n",
    "        print('Using device: Apple ARM GPU')\n",
    "        return torch.device('mps')\n",
    "    else:\n",
    "        print('Using device: CPU')\n",
    "        return torch.device('cpu')\n",
    "    \n",
    "# Set the device\n",
    "device = get_default_device()\n",
    "print(f'Using device: {device}')"
   ],
   "id": "13e6aaae1d419117",
   "outputs": [
    {
     "name": "stdout",
     "output_type": "stream",
     "text": [
      "Using device: NVIDIA GeForce RTX 3060\n",
      "Using device: cuda\n"
     ]
    }
   ],
   "execution_count": 3
  },
  {
   "metadata": {
    "ExecuteTime": {
     "end_time": "2024-07-03T19:11:44.577279Z",
     "start_time": "2024-07-03T19:11:44.573717Z"
    }
   },
   "cell_type": "code",
   "source": [
    "# Used with GPUs having Tensor cores\n",
    "torch.set_float32_matmul_precision('medium')"
   ],
   "id": "2d87d642479be5b8",
   "outputs": [],
   "execution_count": 4
  },
  {
   "metadata": {
    "ExecuteTime": {
     "end_time": "2024-07-03T19:11:44.933408Z",
     "start_time": "2024-07-03T19:11:44.579318Z"
    }
   },
   "cell_type": "code",
   "source": [
    "processed_df = pd.read_csv('../data/csv/processed.csv')\n",
    "processed_df"
   ],
   "id": "316f6d8253132f0d",
   "outputs": [
    {
     "data": {
      "text/plain": [
       "       wind_speed_TSN  wind_dir_TSN  wind_speed_KADUM  wind_dir_KADUM  \\\n",
       "0            0.630435      0.363611          0.200000        0.361868   \n",
       "1            0.630435      0.363611          0.200000        0.362146   \n",
       "2            0.630435      0.363611          0.200000        0.362146   \n",
       "3            0.630435      0.363611          0.200000        0.362424   \n",
       "4            0.630435      0.363611          0.200000        0.362424   \n",
       "...               ...           ...               ...             ...   \n",
       "60523        0.347826      0.381111          0.327273        0.118121   \n",
       "60524        0.347826      0.381111          0.327273        0.118121   \n",
       "60525        0.347826      0.381111          0.327273        0.117009   \n",
       "60526        0.347826      0.381111          0.327273        0.117009   \n",
       "60527        0.347826      0.381389          0.327273        0.116176   \n",
       "\n",
       "       wind_speed_PATNA  wind_dir_PATNA  wind_speed_SADAS  wind_dir_SADAS  \\\n",
       "0              0.229167        0.561418          0.014493        0.993860   \n",
       "1              0.229167        0.562535          0.014493        0.994628   \n",
       "2              0.229167        0.562535          0.014493        0.994628   \n",
       "3              0.229167        0.563652          0.000000        0.996163   \n",
       "4              0.229167        0.563652          0.000000        0.996163   \n",
       "...                 ...             ...               ...             ...   \n",
       "60523          0.531250        0.101619          0.391304        0.629317   \n",
       "60524          0.531250        0.101619          0.391304        0.629317   \n",
       "60525          0.531250        0.101619          0.391304        0.629317   \n",
       "60526          0.531250        0.101619          0.391304        0.629317   \n",
       "60527          0.531250        0.101340          0.391304        0.629317   \n",
       "\n",
       "       wind_speed_DADEN  wind_dir_DADEN  ...  Route        Ac_id  Ac_code  \\\n",
       "0              0.150000        0.884247  ...      6  R6-VJ150-21    VJ150   \n",
       "1              0.150000        0.882877  ...      6  R6-VJ150-21    VJ150   \n",
       "2              0.150000        0.882877  ...      6  R6-VJ150-21    VJ150   \n",
       "3              0.150000        0.882192  ...      6  R6-VJ150-21    VJ150   \n",
       "4              0.150000        0.882192  ...      6  R6-VJ150-21    VJ150   \n",
       "...                 ...             ...  ...    ...          ...      ...   \n",
       "60523          0.533333        0.580822  ...      6  R6-VN258-04    VN258   \n",
       "60524          0.533333        0.580822  ...      6  R6-VN258-04    VN258   \n",
       "60525          0.533333        0.580822  ...      6  R6-VN258-04    VN258   \n",
       "60526          0.533333        0.580822  ...      6  R6-VN258-04    VN258   \n",
       "60527          0.533333        0.580822  ...      6  R6-VN258-04    VN258   \n",
       "\n",
       "       Ac_type    Ac_kts  Time_step  Phase    Ac_Lat    Ac_Lon   Ac_feet  \n",
       "0            1  0.060280          3      1  0.034167  0.454558  0.012828  \n",
       "1            1  0.069968         23      1  0.033625  0.449206  0.032376  \n",
       "2            1  0.097955         43      1  0.033203  0.443202  0.041539  \n",
       "3            1  0.125942         59      1  0.033515  0.437884  0.047037  \n",
       "4            1  0.151776         75      1  0.034810  0.433389  0.058033  \n",
       "...        ...       ...        ...    ...       ...       ...       ...  \n",
       "60523        2  0.046286       5344      1  0.993293  0.126874  0.040929  \n",
       "60524        2  0.040904       5362      1  0.992935  0.131472  0.034820  \n",
       "60525        2  0.034446       5378      1  0.992641  0.135280  0.029933  \n",
       "60526        2  0.018299       5412      1  0.992090  0.142485  0.020770  \n",
       "60527        2  0.025834       5480      1  0.990941  0.157340  0.001222  \n",
       "\n",
       "[60528 rows x 46 columns]"
      ],
      "text/html": [
       "<div>\n",
       "<style scoped>\n",
       "    .dataframe tbody tr th:only-of-type {\n",
       "        vertical-align: middle;\n",
       "    }\n",
       "\n",
       "    .dataframe tbody tr th {\n",
       "        vertical-align: top;\n",
       "    }\n",
       "\n",
       "    .dataframe thead th {\n",
       "        text-align: right;\n",
       "    }\n",
       "</style>\n",
       "<table border=\"1\" class=\"dataframe\">\n",
       "  <thead>\n",
       "    <tr style=\"text-align: right;\">\n",
       "      <th></th>\n",
       "      <th>wind_speed_TSN</th>\n",
       "      <th>wind_dir_TSN</th>\n",
       "      <th>wind_speed_KADUM</th>\n",
       "      <th>wind_dir_KADUM</th>\n",
       "      <th>wind_speed_PATNA</th>\n",
       "      <th>wind_dir_PATNA</th>\n",
       "      <th>wind_speed_SADAS</th>\n",
       "      <th>wind_dir_SADAS</th>\n",
       "      <th>wind_speed_DADEN</th>\n",
       "      <th>wind_dir_DADEN</th>\n",
       "      <th>...</th>\n",
       "      <th>Route</th>\n",
       "      <th>Ac_id</th>\n",
       "      <th>Ac_code</th>\n",
       "      <th>Ac_type</th>\n",
       "      <th>Ac_kts</th>\n",
       "      <th>Time_step</th>\n",
       "      <th>Phase</th>\n",
       "      <th>Ac_Lat</th>\n",
       "      <th>Ac_Lon</th>\n",
       "      <th>Ac_feet</th>\n",
       "    </tr>\n",
       "  </thead>\n",
       "  <tbody>\n",
       "    <tr>\n",
       "      <th>0</th>\n",
       "      <td>0.630435</td>\n",
       "      <td>0.363611</td>\n",
       "      <td>0.200000</td>\n",
       "      <td>0.361868</td>\n",
       "      <td>0.229167</td>\n",
       "      <td>0.561418</td>\n",
       "      <td>0.014493</td>\n",
       "      <td>0.993860</td>\n",
       "      <td>0.150000</td>\n",
       "      <td>0.884247</td>\n",
       "      <td>...</td>\n",
       "      <td>6</td>\n",
       "      <td>R6-VJ150-21</td>\n",
       "      <td>VJ150</td>\n",
       "      <td>1</td>\n",
       "      <td>0.060280</td>\n",
       "      <td>3</td>\n",
       "      <td>1</td>\n",
       "      <td>0.034167</td>\n",
       "      <td>0.454558</td>\n",
       "      <td>0.012828</td>\n",
       "    </tr>\n",
       "    <tr>\n",
       "      <th>1</th>\n",
       "      <td>0.630435</td>\n",
       "      <td>0.363611</td>\n",
       "      <td>0.200000</td>\n",
       "      <td>0.362146</td>\n",
       "      <td>0.229167</td>\n",
       "      <td>0.562535</td>\n",
       "      <td>0.014493</td>\n",
       "      <td>0.994628</td>\n",
       "      <td>0.150000</td>\n",
       "      <td>0.882877</td>\n",
       "      <td>...</td>\n",
       "      <td>6</td>\n",
       "      <td>R6-VJ150-21</td>\n",
       "      <td>VJ150</td>\n",
       "      <td>1</td>\n",
       "      <td>0.069968</td>\n",
       "      <td>23</td>\n",
       "      <td>1</td>\n",
       "      <td>0.033625</td>\n",
       "      <td>0.449206</td>\n",
       "      <td>0.032376</td>\n",
       "    </tr>\n",
       "    <tr>\n",
       "      <th>2</th>\n",
       "      <td>0.630435</td>\n",
       "      <td>0.363611</td>\n",
       "      <td>0.200000</td>\n",
       "      <td>0.362146</td>\n",
       "      <td>0.229167</td>\n",
       "      <td>0.562535</td>\n",
       "      <td>0.014493</td>\n",
       "      <td>0.994628</td>\n",
       "      <td>0.150000</td>\n",
       "      <td>0.882877</td>\n",
       "      <td>...</td>\n",
       "      <td>6</td>\n",
       "      <td>R6-VJ150-21</td>\n",
       "      <td>VJ150</td>\n",
       "      <td>1</td>\n",
       "      <td>0.097955</td>\n",
       "      <td>43</td>\n",
       "      <td>1</td>\n",
       "      <td>0.033203</td>\n",
       "      <td>0.443202</td>\n",
       "      <td>0.041539</td>\n",
       "    </tr>\n",
       "    <tr>\n",
       "      <th>3</th>\n",
       "      <td>0.630435</td>\n",
       "      <td>0.363611</td>\n",
       "      <td>0.200000</td>\n",
       "      <td>0.362424</td>\n",
       "      <td>0.229167</td>\n",
       "      <td>0.563652</td>\n",
       "      <td>0.000000</td>\n",
       "      <td>0.996163</td>\n",
       "      <td>0.150000</td>\n",
       "      <td>0.882192</td>\n",
       "      <td>...</td>\n",
       "      <td>6</td>\n",
       "      <td>R6-VJ150-21</td>\n",
       "      <td>VJ150</td>\n",
       "      <td>1</td>\n",
       "      <td>0.125942</td>\n",
       "      <td>59</td>\n",
       "      <td>1</td>\n",
       "      <td>0.033515</td>\n",
       "      <td>0.437884</td>\n",
       "      <td>0.047037</td>\n",
       "    </tr>\n",
       "    <tr>\n",
       "      <th>4</th>\n",
       "      <td>0.630435</td>\n",
       "      <td>0.363611</td>\n",
       "      <td>0.200000</td>\n",
       "      <td>0.362424</td>\n",
       "      <td>0.229167</td>\n",
       "      <td>0.563652</td>\n",
       "      <td>0.000000</td>\n",
       "      <td>0.996163</td>\n",
       "      <td>0.150000</td>\n",
       "      <td>0.882192</td>\n",
       "      <td>...</td>\n",
       "      <td>6</td>\n",
       "      <td>R6-VJ150-21</td>\n",
       "      <td>VJ150</td>\n",
       "      <td>1</td>\n",
       "      <td>0.151776</td>\n",
       "      <td>75</td>\n",
       "      <td>1</td>\n",
       "      <td>0.034810</td>\n",
       "      <td>0.433389</td>\n",
       "      <td>0.058033</td>\n",
       "    </tr>\n",
       "    <tr>\n",
       "      <th>...</th>\n",
       "      <td>...</td>\n",
       "      <td>...</td>\n",
       "      <td>...</td>\n",
       "      <td>...</td>\n",
       "      <td>...</td>\n",
       "      <td>...</td>\n",
       "      <td>...</td>\n",
       "      <td>...</td>\n",
       "      <td>...</td>\n",
       "      <td>...</td>\n",
       "      <td>...</td>\n",
       "      <td>...</td>\n",
       "      <td>...</td>\n",
       "      <td>...</td>\n",
       "      <td>...</td>\n",
       "      <td>...</td>\n",
       "      <td>...</td>\n",
       "      <td>...</td>\n",
       "      <td>...</td>\n",
       "      <td>...</td>\n",
       "      <td>...</td>\n",
       "    </tr>\n",
       "    <tr>\n",
       "      <th>60523</th>\n",
       "      <td>0.347826</td>\n",
       "      <td>0.381111</td>\n",
       "      <td>0.327273</td>\n",
       "      <td>0.118121</td>\n",
       "      <td>0.531250</td>\n",
       "      <td>0.101619</td>\n",
       "      <td>0.391304</td>\n",
       "      <td>0.629317</td>\n",
       "      <td>0.533333</td>\n",
       "      <td>0.580822</td>\n",
       "      <td>...</td>\n",
       "      <td>6</td>\n",
       "      <td>R6-VN258-04</td>\n",
       "      <td>VN258</td>\n",
       "      <td>2</td>\n",
       "      <td>0.046286</td>\n",
       "      <td>5344</td>\n",
       "      <td>1</td>\n",
       "      <td>0.993293</td>\n",
       "      <td>0.126874</td>\n",
       "      <td>0.040929</td>\n",
       "    </tr>\n",
       "    <tr>\n",
       "      <th>60524</th>\n",
       "      <td>0.347826</td>\n",
       "      <td>0.381111</td>\n",
       "      <td>0.327273</td>\n",
       "      <td>0.118121</td>\n",
       "      <td>0.531250</td>\n",
       "      <td>0.101619</td>\n",
       "      <td>0.391304</td>\n",
       "      <td>0.629317</td>\n",
       "      <td>0.533333</td>\n",
       "      <td>0.580822</td>\n",
       "      <td>...</td>\n",
       "      <td>6</td>\n",
       "      <td>R6-VN258-04</td>\n",
       "      <td>VN258</td>\n",
       "      <td>2</td>\n",
       "      <td>0.040904</td>\n",
       "      <td>5362</td>\n",
       "      <td>1</td>\n",
       "      <td>0.992935</td>\n",
       "      <td>0.131472</td>\n",
       "      <td>0.034820</td>\n",
       "    </tr>\n",
       "    <tr>\n",
       "      <th>60525</th>\n",
       "      <td>0.347826</td>\n",
       "      <td>0.381111</td>\n",
       "      <td>0.327273</td>\n",
       "      <td>0.117009</td>\n",
       "      <td>0.531250</td>\n",
       "      <td>0.101619</td>\n",
       "      <td>0.391304</td>\n",
       "      <td>0.629317</td>\n",
       "      <td>0.533333</td>\n",
       "      <td>0.580822</td>\n",
       "      <td>...</td>\n",
       "      <td>6</td>\n",
       "      <td>R6-VN258-04</td>\n",
       "      <td>VN258</td>\n",
       "      <td>2</td>\n",
       "      <td>0.034446</td>\n",
       "      <td>5378</td>\n",
       "      <td>1</td>\n",
       "      <td>0.992641</td>\n",
       "      <td>0.135280</td>\n",
       "      <td>0.029933</td>\n",
       "    </tr>\n",
       "    <tr>\n",
       "      <th>60526</th>\n",
       "      <td>0.347826</td>\n",
       "      <td>0.381111</td>\n",
       "      <td>0.327273</td>\n",
       "      <td>0.117009</td>\n",
       "      <td>0.531250</td>\n",
       "      <td>0.101619</td>\n",
       "      <td>0.391304</td>\n",
       "      <td>0.629317</td>\n",
       "      <td>0.533333</td>\n",
       "      <td>0.580822</td>\n",
       "      <td>...</td>\n",
       "      <td>6</td>\n",
       "      <td>R6-VN258-04</td>\n",
       "      <td>VN258</td>\n",
       "      <td>2</td>\n",
       "      <td>0.018299</td>\n",
       "      <td>5412</td>\n",
       "      <td>1</td>\n",
       "      <td>0.992090</td>\n",
       "      <td>0.142485</td>\n",
       "      <td>0.020770</td>\n",
       "    </tr>\n",
       "    <tr>\n",
       "      <th>60527</th>\n",
       "      <td>0.347826</td>\n",
       "      <td>0.381389</td>\n",
       "      <td>0.327273</td>\n",
       "      <td>0.116176</td>\n",
       "      <td>0.531250</td>\n",
       "      <td>0.101340</td>\n",
       "      <td>0.391304</td>\n",
       "      <td>0.629317</td>\n",
       "      <td>0.533333</td>\n",
       "      <td>0.580822</td>\n",
       "      <td>...</td>\n",
       "      <td>6</td>\n",
       "      <td>R6-VN258-04</td>\n",
       "      <td>VN258</td>\n",
       "      <td>2</td>\n",
       "      <td>0.025834</td>\n",
       "      <td>5480</td>\n",
       "      <td>1</td>\n",
       "      <td>0.990941</td>\n",
       "      <td>0.157340</td>\n",
       "      <td>0.001222</td>\n",
       "    </tr>\n",
       "  </tbody>\n",
       "</table>\n",
       "<p>60528 rows × 46 columns</p>\n",
       "</div>"
      ]
     },
     "execution_count": 5,
     "metadata": {},
     "output_type": "execute_result"
    }
   ],
   "execution_count": 5
  },
  {
   "metadata": {
    "ExecuteTime": {
     "end_time": "2024-07-03T19:11:45.911515Z",
     "start_time": "2024-07-03T19:11:44.934988Z"
    }
   },
   "cell_type": "code",
   "source": [
    "X, y = fe.padding_features(processed_df)\n",
    "print(f'X.shape: {X.shape}')\n",
    "print(f'y.shape: {y.shape}')\n",
    "print(f'X.dtype: {X.dtype}')\n",
    "print(f'y.dtype: {y.dtype}')\n",
    "print(f'X:\\n{X}')\n",
    "print(f'y:\\n{y}')"
   ],
   "id": "af39ca400acef24",
   "outputs": [
    {
     "name": "stdout",
     "output_type": "stream",
     "text": [
      "X.shape: (352, 6616, 36)\n",
      "y.shape: (352, 6616, 4)\n",
      "X.dtype: float64\n",
      "y.dtype: float64\n",
      "X:\n",
      "[[[0.63043478 0.36361111 0.2        ... 0.00833333 0.49230769 0.93388889]\n",
      "  [0.63043478 0.36361111 0.2        ... 0.00833333 0.49230769 0.93361111]\n",
      "  [0.63043478 0.36361111 0.2        ... 0.00833333 0.49230769 0.93361111]\n",
      "  ...\n",
      "  [0.         0.         0.         ... 0.         0.         0.        ]\n",
      "  [0.         0.         0.         ... 0.         0.         0.        ]\n",
      "  [0.         0.         0.         ... 0.         0.         0.        ]]\n",
      "\n",
      " [[0.7173913  0.36138889 0.27272727 ... 0.00361111 0.49230769 0.93388889]\n",
      "  [0.7173913  0.36138889 0.27272727 ... 0.00361111 0.49230769 0.93388889]\n",
      "  [0.7173913  0.36138889 0.27272727 ... 0.00333333 0.49230769 0.93388889]\n",
      "  ...\n",
      "  [0.         0.         0.         ... 0.         0.         0.        ]\n",
      "  [0.         0.         0.         ... 0.         0.         0.        ]\n",
      "  [0.         0.         0.         ... 0.         0.         0.        ]]\n",
      "\n",
      " [[0.63043478 0.35361111 0.23636364 ... 0.36916667 0.36153846 0.01416667]\n",
      "  [0.65217391 0.35333333 0.23636364 ... 0.37       0.36153846 0.01472222]\n",
      "  [0.65217391 0.35333333 0.23636364 ... 0.37       0.36153846 0.01472222]\n",
      "  ...\n",
      "  [0.         0.         0.         ... 0.         0.         0.        ]\n",
      "  [0.         0.         0.         ... 0.         0.         0.        ]\n",
      "  [0.         0.         0.         ... 0.         0.         0.        ]]\n",
      "\n",
      " ...\n",
      "\n",
      " [[0.41304348 0.3725     0.30909091 ... 0.46       0.16153846 0.14388889]\n",
      "  [0.41304348 0.37277778 0.29090909 ... 0.46083333 0.16153846 0.14361111]\n",
      "  [0.41304348 0.37277778 0.29090909 ... 0.46083333 0.16153846 0.14361111]\n",
      "  ...\n",
      "  [0.         0.         0.         ... 0.         0.         0.        ]\n",
      "  [0.         0.         0.         ... 0.         0.         0.        ]\n",
      "  [0.         0.         0.         ... 0.         0.         0.        ]]\n",
      "\n",
      " [[0.45652174 0.36916667 0.30909091 ... 0.44694444 0.19230769 0.14972222]\n",
      "  [0.43478261 0.37       0.30909091 ... 0.44638889 0.19230769 0.14916667]\n",
      "  [0.43478261 0.37       0.30909091 ... 0.44638889 0.19230769 0.14916667]\n",
      "  ...\n",
      "  [0.         0.         0.         ... 0.         0.         0.        ]\n",
      "  [0.         0.         0.         ... 0.         0.         0.        ]\n",
      "  [0.         0.         0.         ... 0.         0.         0.        ]]\n",
      "\n",
      " [[0.43478261 0.37194444 0.30909091 ... 0.45416667 0.17692308 0.14611111]\n",
      "  [0.43478261 0.37194444 0.30909091 ... 0.45416667 0.17692308 0.14611111]\n",
      "  [0.43478261 0.37194444 0.30909091 ... 0.45472222 0.17692308 0.14583333]\n",
      "  ...\n",
      "  [0.         0.         0.         ... 0.         0.         0.        ]\n",
      "  [0.         0.         0.         ... 0.         0.         0.        ]\n",
      "  [0.         0.         0.         ... 0.         0.         0.        ]]]\n",
      "y:\n",
      "[[[0.06027987 0.03416723 0.45455793 0.01282834]\n",
      "  [0.06996771 0.03362518 0.44920575 0.0323763 ]\n",
      "  [0.09795479 0.03320257 0.4432017  0.0415394 ]\n",
      "  ...\n",
      "  [0.         0.         0.         0.        ]\n",
      "  [0.         0.         0.         0.        ]\n",
      "  [0.         0.         0.         0.        ]]\n",
      "\n",
      " [[0.05597417 0.03404779 0.45346005 0.01893708]\n",
      "  [0.06889128 0.03361599 0.44951453 0.03176542]\n",
      "  [0.09364909 0.0330372  0.44392219 0.03970678]\n",
      "  ...\n",
      "  [0.         0.         0.         0.        ]\n",
      "  [0.         0.         0.         0.        ]\n",
      "  [0.         0.         0.         0.        ]]\n",
      "\n",
      " [[0.05597417 0.03438772 0.45647923 0.00427611]\n",
      "  [0.05274489 0.03387323 0.45167599 0.02382407]\n",
      "  [0.06996771 0.03345981 0.44755893 0.03298717]\n",
      "  ...\n",
      "  [0.         0.         0.         0.        ]\n",
      "  [0.         0.         0.         0.        ]\n",
      "  [0.         0.         0.         0.        ]]\n",
      "\n",
      " ...\n",
      "\n",
      " [[0.05920344 0.03383649 0.45167599 0.02260232]\n",
      "  [0.07857912 0.0333955  0.44728445 0.0323763 ]\n",
      "  [0.09903122 0.03287183 0.44196658 0.04215027]\n",
      "  ...\n",
      "  [0.         0.         0.         0.        ]\n",
      "  [0.         0.         0.         0.        ]\n",
      "  [0.         0.         0.         0.        ]]\n",
      "\n",
      " [[0.05920344 0.03385486 0.45129859 0.02321319]\n",
      "  [0.06781485 0.03344144 0.44700998 0.03543067]\n",
      "  [0.08073197 0.0329637  0.44248122 0.04520464]\n",
      "  ...\n",
      "  [0.         0.         0.         0.        ]\n",
      "  [0.         0.         0.         0.        ]\n",
      "  [0.         0.         0.         0.        ]]\n",
      "\n",
      " [[0.07642626 0.03377218 0.4505781  0.01405009]\n",
      "  [0.08073197 0.03333119 0.44632381 0.02810018]\n",
      "  [0.10333692 0.03286264 0.44169211 0.03604154]\n",
      "  ...\n",
      "  [0.         0.         0.         0.        ]\n",
      "  [0.         0.         0.         0.        ]\n",
      "  [0.         0.         0.         0.        ]]]\n"
     ]
    }
   ],
   "execution_count": 6
  },
  {
   "metadata": {
    "ExecuteTime": {
     "end_time": "2024-07-03T19:11:46.091415Z",
     "start_time": "2024-07-03T19:11:45.913158Z"
    }
   },
   "cell_type": "code",
   "source": [
    "X_train, X_val, X_test, y_train, y_val, y_test = fe.split_train_test(X, y, test_size=0.2, val_size=0.25)\n",
    "print(f'Shape of training set is {X_train.shape}, {y_train.shape}')\n",
    "print(f'Shape of validation set is {X_val.shape}, {y_val.shape}')\n",
    "print(f'Shape of test set is {X_test.shape}, {y_test.shape}')"
   ],
   "id": "73459bc64e412df7",
   "outputs": [
    {
     "name": "stdout",
     "output_type": "stream",
     "text": [
      "Shape of training set is (281, 6616, 36), (281, 6616, 4)\n",
      "Shape of validation set is (53, 6616, 36), (53, 6616, 4)\n",
      "Shape of test set is (18, 6616, 36), (18, 6616, 4)\n"
     ]
    }
   ],
   "execution_count": 7
  },
  {
   "metadata": {
    "ExecuteTime": {
     "end_time": "2024-07-03T19:11:46.154147Z",
     "start_time": "2024-07-03T19:11:46.092526Z"
    }
   },
   "cell_type": "code",
   "source": [
    "train_dataset, val_dataset, test_dataset = fe.make_tensor_dataset(X_train, X_val, X_test, y_train, y_val, y_test)\n",
    "print(f'training set is {train_dataset}')\n",
    "print(f'validation set is {val_dataset}')\n",
    "print(f'test set is {test_dataset}')"
   ],
   "id": "cc9f58442c45829",
   "outputs": [
    {
     "name": "stdout",
     "output_type": "stream",
     "text": [
      "training set is <torch.utils.data.dataset.TensorDataset object at 0x7fce24034c50>\n",
      "validation set is <torch.utils.data.dataset.TensorDataset object at 0x7fce23f9ec90>\n",
      "test set is <torch.utils.data.dataset.TensorDataset object at 0x7fce240344d0>\n"
     ]
    }
   ],
   "execution_count": 8
  },
  {
   "metadata": {},
   "cell_type": "markdown",
   "source": [
    "# TRAINING\n",
    "\n",
    "---"
   ],
   "id": "5b43b4f4bf85801e"
  },
  {
   "metadata": {
    "ExecuteTime": {
     "end_time": "2024-07-03T19:11:46.158821Z",
     "start_time": "2024-07-03T19:11:46.155876Z"
    }
   },
   "cell_type": "code",
   "source": [
    "# Global variables\n",
    "batch_size_variable = 16\n",
    "max_epochs = 200"
   ],
   "id": "60c4edaa8a6eaa58",
   "outputs": [],
   "execution_count": 9
  },
  {
   "metadata": {
    "ExecuteTime": {
     "end_time": "2024-07-03T19:11:46.165954Z",
     "start_time": "2024-07-03T19:11:46.161899Z"
    }
   },
   "cell_type": "code",
   "source": "flight_dm = FlightDataModule(train_dataset, val_dataset, test_dataset, batch_size=batch_size_variable)",
   "id": "eb5fb1d7ee147bf2",
   "outputs": [],
   "execution_count": 10
  },
  {
   "metadata": {
    "ExecuteTime": {
     "end_time": "2024-07-03T19:11:46.172433Z",
     "start_time": "2024-07-03T19:11:46.167734Z"
    }
   },
   "cell_type": "code",
   "source": [
    "base_dir = os.getcwd().replace('notebook', '')\n",
    "log_dir = os.path.join(base_dir, 'log')\n",
    "\n",
    "os.makedirs(log_dir, exist_ok=True)"
   ],
   "id": "65012f1ba55c16cc",
   "outputs": [],
   "execution_count": 11
  },
  {
   "metadata": {
    "ExecuteTime": {
     "end_time": "2024-07-03T19:11:46.176756Z",
     "start_time": "2024-07-03T19:11:46.173481Z"
    }
   },
   "cell_type": "code",
   "source": "log_dir",
   "id": "69ec9a2c82527150",
   "outputs": [
    {
     "data": {
      "text/plain": [
       "'/mnt/e/Work/chi_phuong_co_su/log'"
      ]
     },
     "execution_count": 12,
     "metadata": {},
     "output_type": "execute_result"
    }
   ],
   "execution_count": 12
  },
  {
   "metadata": {
    "ExecuteTime": {
     "end_time": "2024-07-03T19:11:46.185144Z",
     "start_time": "2024-07-03T19:11:46.177806Z"
    }
   },
   "cell_type": "code",
   "source": [
    "# Some necessary callbacks\n",
    "early_stopping = EarlyStopping(monitor='val_loss', patience=30, verbose=True, mode='min')\n",
    "model_checkpoint = ModelCheckpoint(\n",
    "    dirpath=log_dir,\n",
    "    filename='{epoch}-{val_loss:.2f}',\n",
    "    monitor='val_loss', \n",
    "    save_top_k=3, \n",
    "    verbose=True, \n",
    "    mode='min'\n",
    ")\n",
    "logger = TensorBoardLogger(log_dir, name='flight_model_LSTM_V0', log_graph=True)"
   ],
   "id": "8a26b0d36d837eb0",
   "outputs": [],
   "execution_count": 13
  },
  {
   "metadata": {
    "ExecuteTime": {
     "end_time": "2024-07-03T19:11:46.296801Z",
     "start_time": "2024-07-03T19:11:46.186084Z"
    }
   },
   "cell_type": "code",
   "source": [
    "training_module = TrainingFlightModel(\n",
    "    early_stopping_lstm = early_stopping,\n",
    "    model_checkpoint_lstm = model_checkpoint,\n",
    "    logger_lstm = logger,\n",
    "    data_module = flight_dm,\n",
    "    max_epoch=max_epochs,\n",
    ")"
   ],
   "id": "9cd16e81da4b2a21",
   "outputs": [
    {
     "name": "stderr",
     "output_type": "stream",
     "text": [
      "GPU available: True (cuda), used: True\n",
      "TPU available: False, using: 0 TPU cores\n",
      "IPU available: False, using: 0 IPUs\n",
      "HPU available: False, using: 0 HPUs\n"
     ]
    }
   ],
   "execution_count": 14
  },
  {
   "metadata": {
    "jupyter": {
     "is_executing": true
    },
    "ExecuteTime": {
     "start_time": "2024-07-03T19:11:46.297722Z"
    }
   },
   "cell_type": "code",
   "source": [
    "training_module.training(\n",
    "    input_size=36, \n",
    "    hidden_size=300, \n",
    "    num_layers=5, \n",
    "    output_size=4, \n",
    "    learning_rate=2e-5,\n",
    ")"
   ],
   "id": "a7d78f64fda6300",
   "outputs": [
    {
     "name": "stderr",
     "output_type": "stream",
     "text": [
      "Missing logger folder: /mnt/e/Work/chi_phuong_co_su/log/flight_model_LSTM_V0\n",
      "/home/anvutrong/miniconda3/envs/wsl_env/lib/python3.11/site-packages/lightning/pytorch/callbacks/model_checkpoint.py:653: Checkpoint directory /mnt/e/Work/chi_phuong_co_su/log exists and is not empty.\n",
      "LOCAL_RANK: 0 - CUDA_VISIBLE_DEVICES: [0]\n",
      "\n",
      "  | Name | Type             | Params | In sizes                                    | Out sizes                                   \n",
      "---------------------------------------------------------------------------------------------------------------------------------------\n",
      "0 | lstm | LSTM             | 3.3 M  | [[1, 6616, 36], [[5, 1, 300], [5, 1, 300]]] | [[1, 6616, 300], [[5, 1, 300], [5, 1, 300]]]\n",
      "1 | fc   | Linear           | 1.2 K  | [1, 6616, 300]                              | [1, 6616, 4]                                \n",
      "2 | loss | MSELoss          | 0      | ?                                           | ?                                           \n",
      "3 | mse  | MeanSquaredError | 0      | ?                                           | ?                                           \n",
      "---------------------------------------------------------------------------------------------------------------------------------------\n",
      "3.3 M     Trainable params\n",
      "0         Non-trainable params\n",
      "3.3 M     Total params\n",
      "13.186    Total estimated model params size (MB)\n"
     ]
    },
    {
     "data": {
      "text/plain": [
       "Sanity Checking: |          | 0/? [00:00<?, ?it/s]"
      ],
      "application/vnd.jupyter.widget-view+json": {
       "version_major": 2,
       "version_minor": 0,
       "model_id": "766cc9c3e09c4c44b0db2fead6897ee7"
      }
     },
     "metadata": {},
     "output_type": "display_data"
    },
    {
     "data": {
      "text/plain": [
       "Training: |          | 0/? [00:00<?, ?it/s]"
      ],
      "application/vnd.jupyter.widget-view+json": {
       "version_major": 2,
       "version_minor": 0,
       "model_id": "0c3b61903762470bb29b659aed3c15a9"
      }
     },
     "metadata": {},
     "output_type": "display_data"
    }
   ],
   "execution_count": null
  },
  {
   "metadata": {
    "jupyter": {
     "is_executing": true
    }
   },
   "cell_type": "code",
   "source": "training_module.validate_and_testing_lstm(data_module=flight_dm)",
   "id": "5c63ceb0241662ec",
   "outputs": [],
   "execution_count": null
  },
  {
   "metadata": {
    "jupyter": {
     "is_executing": true
    }
   },
   "cell_type": "code",
   "source": [
    "# Tensorboard\n",
    "%tensorboard --logdir /mnt/e/Work/chi_phuong_co_su/log"
   ],
   "id": "f45e407dda14f986",
   "outputs": [],
   "execution_count": null
  },
  {
   "metadata": {
    "jupyter": {
     "is_executing": true
    }
   },
   "cell_type": "code",
   "source": "",
   "id": "b538b57884d124fa",
   "outputs": [],
   "execution_count": null
  }
 ],
 "metadata": {
  "kernelspec": {
   "display_name": "Python 3",
   "language": "python",
   "name": "python3"
  },
  "language_info": {
   "codemirror_mode": {
    "name": "ipython",
    "version": 2
   },
   "file_extension": ".py",
   "mimetype": "text/x-python",
   "name": "python",
   "nbconvert_exporter": "python",
   "pygments_lexer": "ipython2",
   "version": "2.7.6"
  }
 },
 "nbformat": 4,
 "nbformat_minor": 5
}
