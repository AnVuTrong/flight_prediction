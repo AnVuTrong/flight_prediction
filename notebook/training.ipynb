{
 "cells": [
  {
   "cell_type": "code",
   "id": "initial_id",
   "metadata": {
    "collapsed": true,
    "ExecuteTime": {
     "end_time": "2024-08-14T13:44:53.069963Z",
     "start_time": "2024-08-14T13:44:50.682232Z"
    }
   },
   "source": [
    "import os\n",
    "import torch\n",
    "import pandas as pd\n",
    "from modules.feature_engineering import FeatureEngineeringV1\n",
    "from modules.data_module import FlightDataModule\n",
    "from modules.training import TrainingFlightModel\n",
    "from lightning.pytorch.callbacks import ModelCheckpoint, EarlyStopping\n",
    "from lightning.pytorch.loggers import TensorBoardLogger\n",
    "\n",
    "print(torch.__version__)\n",
    "fe = FeatureEngineeringV1()"
   ],
   "outputs": [
    {
     "name": "stdout",
     "output_type": "stream",
     "text": [
      "2.1.2+cu121\n"
     ]
    }
   ],
   "execution_count": 1
  },
  {
   "metadata": {
    "ExecuteTime": {
     "end_time": "2024-08-14T13:44:53.078834Z",
     "start_time": "2024-08-14T13:44:53.071847Z"
    }
   },
   "cell_type": "code",
   "source": "%load_ext tensorboard",
   "id": "5bd68f5b1dcc846b",
   "outputs": [],
   "execution_count": 2
  },
  {
   "metadata": {
    "ExecuteTime": {
     "end_time": "2024-08-14T13:44:53.215282Z",
     "start_time": "2024-08-14T13:44:53.080284Z"
    }
   },
   "cell_type": "code",
   "source": [
    "def get_default_device():\n",
    "\t\"\"\"Pick GPU if available, else CPU\"\"\"\n",
    "\tif torch.cuda.is_available():\n",
    "\t\tprint(f'Using device: {torch.cuda.get_device_name(0)}')\n",
    "\t\treturn torch.device('cuda')\n",
    "\telif torch.backends.mps.is_available():\n",
    "\t\tprint('Using device: Apple ARM GPU')\n",
    "\t\treturn torch.device('mps')\n",
    "\telse:\n",
    "\t\tprint('Using device: CPU')\n",
    "\t\treturn torch.device('cpu')\n",
    "\n",
    "# Set the device\n",
    "device = get_default_device()\n",
    "print(f'Using device: {device}')"
   ],
   "id": "13e6aaae1d419117",
   "outputs": [
    {
     "name": "stdout",
     "output_type": "stream",
     "text": [
      "Using device: NVIDIA GeForce RTX 3060\n",
      "Using device: cuda\n"
     ]
    }
   ],
   "execution_count": 3
  },
  {
   "metadata": {
    "ExecuteTime": {
     "end_time": "2024-08-14T13:44:53.219296Z",
     "start_time": "2024-08-14T13:44:53.216931Z"
    }
   },
   "cell_type": "code",
   "source": [
    "# Used with GPUs having Tensor cores\n",
    "torch.set_float32_matmul_precision('medium')"
   ],
   "id": "2d87d642479be5b8",
   "outputs": [],
   "execution_count": 4
  },
  {
   "metadata": {
    "ExecuteTime": {
     "end_time": "2024-08-14T13:44:53.695146Z",
     "start_time": "2024-08-14T13:44:53.220835Z"
    }
   },
   "cell_type": "code",
   "source": [
    "processed_df = pd.read_csv('../data/csv/processed.csv')\n",
    "processed_df"
   ],
   "id": "316f6d8253132f0d",
   "outputs": [
    {
     "data": {
      "text/plain": [
       "       wind_speed_TSN  wind_dir_TSN  wind_speed_KADUM  wind_dir_KADUM  \\\n",
       "0            0.928702      0.495425         -0.634564        0.022136   \n",
       "1            0.928702      0.495425         -0.634564        0.023238   \n",
       "2            0.928702      0.495425         -0.634564        0.023238   \n",
       "3            0.928702      0.495425         -0.634564        0.024339   \n",
       "4            0.928702      0.495425         -0.634564        0.024339   \n",
       "...               ...           ...               ...             ...   \n",
       "59000       -0.413190      0.599672          0.090406       -0.943672   \n",
       "59001       -0.413190      0.599672          0.090406       -0.943672   \n",
       "59002       -0.413190      0.599672          0.090406       -0.948077   \n",
       "59003       -0.413190      0.599672          0.090406       -0.948077   \n",
       "59004       -0.413190      0.601327          0.090406       -0.951381   \n",
       "\n",
       "       wind_speed_PATNA  wind_dir_PATNA  wind_speed_SADAS  wind_dir_SADAS  \\\n",
       "0             -1.145864        2.972182         -2.250708        5.614973   \n",
       "1             -1.145864        2.980370         -2.250708        5.623375   \n",
       "2             -1.145864        2.980370         -2.250708        5.623375   \n",
       "3             -1.145864        2.988558         -2.315868        5.640178   \n",
       "4             -1.145864        2.988558         -2.315868        5.640178   \n",
       "...                 ...             ...               ...             ...   \n",
       "59000         -0.007508       -0.399230         -0.556559        1.624079   \n",
       "59001         -0.007508       -0.399230         -0.556559        1.624079   \n",
       "59002         -0.007508       -0.399230         -0.556559        1.624079   \n",
       "59003         -0.007508       -0.399230         -0.556559        1.624079   \n",
       "59004         -0.007508       -0.401277         -0.556559        1.624079   \n",
       "\n",
       "       wind_speed_DADEN  wind_dir_DADEN  ...    Ac_Lat    Ac_Lon   Ac_feet  \\\n",
       "0             -1.593272        2.974218  ... -1.407072 -0.227452 -1.853900   \n",
       "1             -1.593272        2.963249  ... -1.408670 -0.245917 -1.791555   \n",
       "2             -1.593272        2.963249  ... -1.409917 -0.266631 -1.762331   \n",
       "3             -1.593272        2.957764  ... -1.408996 -0.284978 -1.744796   \n",
       "4             -1.593272        2.957764  ... -1.405175 -0.300484 -1.709727   \n",
       "...                 ...             ...  ...       ...       ...       ...   \n",
       "59000          0.149889        0.544497  ...  1.422109 -1.357957 -1.764279   \n",
       "59001          0.149889        0.544497  ...  1.421052 -1.342096 -1.783762   \n",
       "59002          0.149889        0.544497  ...  1.420185 -1.328957 -1.799348   \n",
       "59003          0.149889        0.544497  ...  1.418559 -1.304101 -1.828572   \n",
       "59004          0.149889        0.544497  ...  1.415171 -1.252849 -1.890917   \n",
       "\n",
       "       start  end  Ac_type_1  Ac_type_2  Phase_1  Phase_2  Phase_3  \n",
       "0          1    0        1.0        0.0      1.0      0.0      0.0  \n",
       "1          0    0        1.0        0.0      1.0      0.0      0.0  \n",
       "2          0    0        1.0        0.0      1.0      0.0      0.0  \n",
       "3          0    0        1.0        0.0      1.0      0.0      0.0  \n",
       "4          0    0        1.0        0.0      1.0      0.0      0.0  \n",
       "...      ...  ...        ...        ...      ...      ...      ...  \n",
       "59000      0    0        0.0        1.0      1.0      0.0      0.0  \n",
       "59001      0    0        0.0        1.0      1.0      0.0      0.0  \n",
       "59002      0    0        0.0        1.0      1.0      0.0      0.0  \n",
       "59003      0    0        0.0        1.0      1.0      0.0      0.0  \n",
       "59004      0    1        0.0        1.0      1.0      0.0      0.0  \n",
       "\n",
       "[59005 rows x 51 columns]"
      ],
      "text/html": [
       "<div>\n",
       "<style scoped>\n",
       "    .dataframe tbody tr th:only-of-type {\n",
       "        vertical-align: middle;\n",
       "    }\n",
       "\n",
       "    .dataframe tbody tr th {\n",
       "        vertical-align: top;\n",
       "    }\n",
       "\n",
       "    .dataframe thead th {\n",
       "        text-align: right;\n",
       "    }\n",
       "</style>\n",
       "<table border=\"1\" class=\"dataframe\">\n",
       "  <thead>\n",
       "    <tr style=\"text-align: right;\">\n",
       "      <th></th>\n",
       "      <th>wind_speed_TSN</th>\n",
       "      <th>wind_dir_TSN</th>\n",
       "      <th>wind_speed_KADUM</th>\n",
       "      <th>wind_dir_KADUM</th>\n",
       "      <th>wind_speed_PATNA</th>\n",
       "      <th>wind_dir_PATNA</th>\n",
       "      <th>wind_speed_SADAS</th>\n",
       "      <th>wind_dir_SADAS</th>\n",
       "      <th>wind_speed_DADEN</th>\n",
       "      <th>wind_dir_DADEN</th>\n",
       "      <th>...</th>\n",
       "      <th>Ac_Lat</th>\n",
       "      <th>Ac_Lon</th>\n",
       "      <th>Ac_feet</th>\n",
       "      <th>start</th>\n",
       "      <th>end</th>\n",
       "      <th>Ac_type_1</th>\n",
       "      <th>Ac_type_2</th>\n",
       "      <th>Phase_1</th>\n",
       "      <th>Phase_2</th>\n",
       "      <th>Phase_3</th>\n",
       "    </tr>\n",
       "  </thead>\n",
       "  <tbody>\n",
       "    <tr>\n",
       "      <th>0</th>\n",
       "      <td>0.928702</td>\n",
       "      <td>0.495425</td>\n",
       "      <td>-0.634564</td>\n",
       "      <td>0.022136</td>\n",
       "      <td>-1.145864</td>\n",
       "      <td>2.972182</td>\n",
       "      <td>-2.250708</td>\n",
       "      <td>5.614973</td>\n",
       "      <td>-1.593272</td>\n",
       "      <td>2.974218</td>\n",
       "      <td>...</td>\n",
       "      <td>-1.407072</td>\n",
       "      <td>-0.227452</td>\n",
       "      <td>-1.853900</td>\n",
       "      <td>1</td>\n",
       "      <td>0</td>\n",
       "      <td>1.0</td>\n",
       "      <td>0.0</td>\n",
       "      <td>1.0</td>\n",
       "      <td>0.0</td>\n",
       "      <td>0.0</td>\n",
       "    </tr>\n",
       "    <tr>\n",
       "      <th>1</th>\n",
       "      <td>0.928702</td>\n",
       "      <td>0.495425</td>\n",
       "      <td>-0.634564</td>\n",
       "      <td>0.023238</td>\n",
       "      <td>-1.145864</td>\n",
       "      <td>2.980370</td>\n",
       "      <td>-2.250708</td>\n",
       "      <td>5.623375</td>\n",
       "      <td>-1.593272</td>\n",
       "      <td>2.963249</td>\n",
       "      <td>...</td>\n",
       "      <td>-1.408670</td>\n",
       "      <td>-0.245917</td>\n",
       "      <td>-1.791555</td>\n",
       "      <td>0</td>\n",
       "      <td>0</td>\n",
       "      <td>1.0</td>\n",
       "      <td>0.0</td>\n",
       "      <td>1.0</td>\n",
       "      <td>0.0</td>\n",
       "      <td>0.0</td>\n",
       "    </tr>\n",
       "    <tr>\n",
       "      <th>2</th>\n",
       "      <td>0.928702</td>\n",
       "      <td>0.495425</td>\n",
       "      <td>-0.634564</td>\n",
       "      <td>0.023238</td>\n",
       "      <td>-1.145864</td>\n",
       "      <td>2.980370</td>\n",
       "      <td>-2.250708</td>\n",
       "      <td>5.623375</td>\n",
       "      <td>-1.593272</td>\n",
       "      <td>2.963249</td>\n",
       "      <td>...</td>\n",
       "      <td>-1.409917</td>\n",
       "      <td>-0.266631</td>\n",
       "      <td>-1.762331</td>\n",
       "      <td>0</td>\n",
       "      <td>0</td>\n",
       "      <td>1.0</td>\n",
       "      <td>0.0</td>\n",
       "      <td>1.0</td>\n",
       "      <td>0.0</td>\n",
       "      <td>0.0</td>\n",
       "    </tr>\n",
       "    <tr>\n",
       "      <th>3</th>\n",
       "      <td>0.928702</td>\n",
       "      <td>0.495425</td>\n",
       "      <td>-0.634564</td>\n",
       "      <td>0.024339</td>\n",
       "      <td>-1.145864</td>\n",
       "      <td>2.988558</td>\n",
       "      <td>-2.315868</td>\n",
       "      <td>5.640178</td>\n",
       "      <td>-1.593272</td>\n",
       "      <td>2.957764</td>\n",
       "      <td>...</td>\n",
       "      <td>-1.408996</td>\n",
       "      <td>-0.284978</td>\n",
       "      <td>-1.744796</td>\n",
       "      <td>0</td>\n",
       "      <td>0</td>\n",
       "      <td>1.0</td>\n",
       "      <td>0.0</td>\n",
       "      <td>1.0</td>\n",
       "      <td>0.0</td>\n",
       "      <td>0.0</td>\n",
       "    </tr>\n",
       "    <tr>\n",
       "      <th>4</th>\n",
       "      <td>0.928702</td>\n",
       "      <td>0.495425</td>\n",
       "      <td>-0.634564</td>\n",
       "      <td>0.024339</td>\n",
       "      <td>-1.145864</td>\n",
       "      <td>2.988558</td>\n",
       "      <td>-2.315868</td>\n",
       "      <td>5.640178</td>\n",
       "      <td>-1.593272</td>\n",
       "      <td>2.957764</td>\n",
       "      <td>...</td>\n",
       "      <td>-1.405175</td>\n",
       "      <td>-0.300484</td>\n",
       "      <td>-1.709727</td>\n",
       "      <td>0</td>\n",
       "      <td>0</td>\n",
       "      <td>1.0</td>\n",
       "      <td>0.0</td>\n",
       "      <td>1.0</td>\n",
       "      <td>0.0</td>\n",
       "      <td>0.0</td>\n",
       "    </tr>\n",
       "    <tr>\n",
       "      <th>...</th>\n",
       "      <td>...</td>\n",
       "      <td>...</td>\n",
       "      <td>...</td>\n",
       "      <td>...</td>\n",
       "      <td>...</td>\n",
       "      <td>...</td>\n",
       "      <td>...</td>\n",
       "      <td>...</td>\n",
       "      <td>...</td>\n",
       "      <td>...</td>\n",
       "      <td>...</td>\n",
       "      <td>...</td>\n",
       "      <td>...</td>\n",
       "      <td>...</td>\n",
       "      <td>...</td>\n",
       "      <td>...</td>\n",
       "      <td>...</td>\n",
       "      <td>...</td>\n",
       "      <td>...</td>\n",
       "      <td>...</td>\n",
       "      <td>...</td>\n",
       "    </tr>\n",
       "    <tr>\n",
       "      <th>59000</th>\n",
       "      <td>-0.413190</td>\n",
       "      <td>0.599672</td>\n",
       "      <td>0.090406</td>\n",
       "      <td>-0.943672</td>\n",
       "      <td>-0.007508</td>\n",
       "      <td>-0.399230</td>\n",
       "      <td>-0.556559</td>\n",
       "      <td>1.624079</td>\n",
       "      <td>0.149889</td>\n",
       "      <td>0.544497</td>\n",
       "      <td>...</td>\n",
       "      <td>1.422109</td>\n",
       "      <td>-1.357957</td>\n",
       "      <td>-1.764279</td>\n",
       "      <td>0</td>\n",
       "      <td>0</td>\n",
       "      <td>0.0</td>\n",
       "      <td>1.0</td>\n",
       "      <td>1.0</td>\n",
       "      <td>0.0</td>\n",
       "      <td>0.0</td>\n",
       "    </tr>\n",
       "    <tr>\n",
       "      <th>59001</th>\n",
       "      <td>-0.413190</td>\n",
       "      <td>0.599672</td>\n",
       "      <td>0.090406</td>\n",
       "      <td>-0.943672</td>\n",
       "      <td>-0.007508</td>\n",
       "      <td>-0.399230</td>\n",
       "      <td>-0.556559</td>\n",
       "      <td>1.624079</td>\n",
       "      <td>0.149889</td>\n",
       "      <td>0.544497</td>\n",
       "      <td>...</td>\n",
       "      <td>1.421052</td>\n",
       "      <td>-1.342096</td>\n",
       "      <td>-1.783762</td>\n",
       "      <td>0</td>\n",
       "      <td>0</td>\n",
       "      <td>0.0</td>\n",
       "      <td>1.0</td>\n",
       "      <td>1.0</td>\n",
       "      <td>0.0</td>\n",
       "      <td>0.0</td>\n",
       "    </tr>\n",
       "    <tr>\n",
       "      <th>59002</th>\n",
       "      <td>-0.413190</td>\n",
       "      <td>0.599672</td>\n",
       "      <td>0.090406</td>\n",
       "      <td>-0.948077</td>\n",
       "      <td>-0.007508</td>\n",
       "      <td>-0.399230</td>\n",
       "      <td>-0.556559</td>\n",
       "      <td>1.624079</td>\n",
       "      <td>0.149889</td>\n",
       "      <td>0.544497</td>\n",
       "      <td>...</td>\n",
       "      <td>1.420185</td>\n",
       "      <td>-1.328957</td>\n",
       "      <td>-1.799348</td>\n",
       "      <td>0</td>\n",
       "      <td>0</td>\n",
       "      <td>0.0</td>\n",
       "      <td>1.0</td>\n",
       "      <td>1.0</td>\n",
       "      <td>0.0</td>\n",
       "      <td>0.0</td>\n",
       "    </tr>\n",
       "    <tr>\n",
       "      <th>59003</th>\n",
       "      <td>-0.413190</td>\n",
       "      <td>0.599672</td>\n",
       "      <td>0.090406</td>\n",
       "      <td>-0.948077</td>\n",
       "      <td>-0.007508</td>\n",
       "      <td>-0.399230</td>\n",
       "      <td>-0.556559</td>\n",
       "      <td>1.624079</td>\n",
       "      <td>0.149889</td>\n",
       "      <td>0.544497</td>\n",
       "      <td>...</td>\n",
       "      <td>1.418559</td>\n",
       "      <td>-1.304101</td>\n",
       "      <td>-1.828572</td>\n",
       "      <td>0</td>\n",
       "      <td>0</td>\n",
       "      <td>0.0</td>\n",
       "      <td>1.0</td>\n",
       "      <td>1.0</td>\n",
       "      <td>0.0</td>\n",
       "      <td>0.0</td>\n",
       "    </tr>\n",
       "    <tr>\n",
       "      <th>59004</th>\n",
       "      <td>-0.413190</td>\n",
       "      <td>0.601327</td>\n",
       "      <td>0.090406</td>\n",
       "      <td>-0.951381</td>\n",
       "      <td>-0.007508</td>\n",
       "      <td>-0.401277</td>\n",
       "      <td>-0.556559</td>\n",
       "      <td>1.624079</td>\n",
       "      <td>0.149889</td>\n",
       "      <td>0.544497</td>\n",
       "      <td>...</td>\n",
       "      <td>1.415171</td>\n",
       "      <td>-1.252849</td>\n",
       "      <td>-1.890917</td>\n",
       "      <td>0</td>\n",
       "      <td>1</td>\n",
       "      <td>0.0</td>\n",
       "      <td>1.0</td>\n",
       "      <td>1.0</td>\n",
       "      <td>0.0</td>\n",
       "      <td>0.0</td>\n",
       "    </tr>\n",
       "  </tbody>\n",
       "</table>\n",
       "<p>59005 rows × 51 columns</p>\n",
       "</div>"
      ]
     },
     "execution_count": 5,
     "metadata": {},
     "output_type": "execute_result"
    }
   ],
   "execution_count": 5
  },
  {
   "metadata": {
    "ExecuteTime": {
     "end_time": "2024-08-14T13:44:54.555869Z",
     "start_time": "2024-08-14T13:44:53.696935Z"
    }
   },
   "cell_type": "code",
   "source": [
    "X, y = fe.padding_features(processed_df)\n",
    "print(f'X.shape: {X.shape}')\n",
    "print(f'y.shape: {y.shape}')\n",
    "print(f'X.dtype: {X.dtype}')\n",
    "print(f'y.dtype: {y.dtype}')\n",
    "print(f'X:\\n{X}')\n",
    "print(f'y:\\n{y}')"
   ],
   "id": "af39ca400acef24",
   "outputs": [
    {
     "name": "stdout",
     "output_type": "stream",
     "text": [
      "X.shape: (347, 202, 44)\n",
      "y.shape: (347, 202, 4)\n",
      "X.dtype: float64\n",
      "y.dtype: float64\n",
      "X:\n",
      "[[[ 9.28701650e-01  4.95424832e-01 -6.34563623e-01 ... -1.52607089e+00\n",
      "    1.00000000e+00  0.00000000e+00]\n",
      "  [ 9.28701650e-01  4.95424832e-01 -6.34563623e-01 ... -1.51527089e+00\n",
      "    0.00000000e+00  0.00000000e+00]\n",
      "  [ 9.28701650e-01  4.95424832e-01 -6.34563623e-01 ... -1.50447089e+00\n",
      "    0.00000000e+00  0.00000000e+00]\n",
      "  ...\n",
      "  [ 0.00000000e+00  0.00000000e+00  0.00000000e+00 ...  0.00000000e+00\n",
      "    0.00000000e+00  0.00000000e+00]\n",
      "  [ 0.00000000e+00  0.00000000e+00  0.00000000e+00 ...  0.00000000e+00\n",
      "    0.00000000e+00  0.00000000e+00]\n",
      "  [ 0.00000000e+00  0.00000000e+00  0.00000000e+00 ...  0.00000000e+00\n",
      "    0.00000000e+00  0.00000000e+00]]\n",
      "\n",
      " [[ 1.34159134e+00  4.82187043e-01 -2.20295522e-01 ... -1.52283089e+00\n",
      "    1.00000000e+00  0.00000000e+00]\n",
      "  [ 1.34159134e+00  4.82187043e-01 -2.20295522e-01 ... -1.51419089e+00\n",
      "    0.00000000e+00  0.00000000e+00]\n",
      "  [ 1.34159134e+00  4.82187043e-01 -2.20295522e-01 ... -1.50447089e+00\n",
      "    0.00000000e+00  0.00000000e+00]\n",
      "  ...\n",
      "  [ 0.00000000e+00  0.00000000e+00  0.00000000e+00 ...  0.00000000e+00\n",
      "    0.00000000e+00  0.00000000e+00]\n",
      "  [ 0.00000000e+00  0.00000000e+00  0.00000000e+00 ...  0.00000000e+00\n",
      "    0.00000000e+00  0.00000000e+00]\n",
      "  [ 0.00000000e+00  0.00000000e+00  0.00000000e+00 ...  0.00000000e+00\n",
      "    0.00000000e+00  0.00000000e+00]]\n",
      "\n",
      " [[ 9.28701650e-01  4.35854780e-01 -4.27429572e-01 ... -1.52769089e+00\n",
      "    1.00000000e+00  0.00000000e+00]\n",
      "  [ 1.03192407e+00  4.34200057e-01 -4.27429572e-01 ... -1.51743089e+00\n",
      "    0.00000000e+00  0.00000000e+00]\n",
      "  [ 1.03192407e+00  4.34200057e-01 -4.27429572e-01 ... -1.50879089e+00\n",
      "    0.00000000e+00  0.00000000e+00]\n",
      "  ...\n",
      "  [ 0.00000000e+00  0.00000000e+00  0.00000000e+00 ...  0.00000000e+00\n",
      "    0.00000000e+00  0.00000000e+00]\n",
      "  [ 0.00000000e+00  0.00000000e+00  0.00000000e+00 ...  0.00000000e+00\n",
      "    0.00000000e+00  0.00000000e+00]\n",
      "  [ 0.00000000e+00  0.00000000e+00  0.00000000e+00 ...  0.00000000e+00\n",
      "    0.00000000e+00  0.00000000e+00]]\n",
      "\n",
      " ...\n",
      "\n",
      " [[-1.03522566e-01  5.48375989e-01 -1.31614717e-02 ... -1.51959089e+00\n",
      "    1.00000000e+00  0.00000000e+00]\n",
      "  [-1.03522566e-01  5.50030713e-01 -1.16728497e-01 ... -1.51095089e+00\n",
      "    0.00000000e+00  0.00000000e+00]\n",
      "  [-1.03522566e-01  5.50030713e-01 -1.16728497e-01 ... -1.50069089e+00\n",
      "    0.00000000e+00  0.00000000e+00]\n",
      "  ...\n",
      "  [ 0.00000000e+00  0.00000000e+00  0.00000000e+00 ...  0.00000000e+00\n",
      "    0.00000000e+00  0.00000000e+00]\n",
      "  [ 0.00000000e+00  0.00000000e+00  0.00000000e+00 ...  0.00000000e+00\n",
      "    0.00000000e+00  0.00000000e+00]\n",
      "  [ 0.00000000e+00  0.00000000e+00  0.00000000e+00 ...  0.00000000e+00\n",
      "    0.00000000e+00  0.00000000e+00]]\n",
      "\n",
      " [[ 1.02922277e-01  5.28519305e-01 -1.31614717e-02 ... -1.51959089e+00\n",
      "    1.00000000e+00  0.00000000e+00]\n",
      "  [-3.00144498e-04  5.33483476e-01 -1.31614717e-02 ... -1.51095089e+00\n",
      "    0.00000000e+00  0.00000000e+00]\n",
      "  [-3.00144498e-04  5.33483476e-01 -1.31614717e-02 ... -1.50231089e+00\n",
      "    0.00000000e+00  0.00000000e+00]\n",
      "  ...\n",
      "  [ 0.00000000e+00  0.00000000e+00  0.00000000e+00 ...  0.00000000e+00\n",
      "    0.00000000e+00  0.00000000e+00]\n",
      "  [ 0.00000000e+00  0.00000000e+00  0.00000000e+00 ...  0.00000000e+00\n",
      "    0.00000000e+00  0.00000000e+00]\n",
      "  [ 0.00000000e+00  0.00000000e+00  0.00000000e+00 ...  0.00000000e+00\n",
      "    0.00000000e+00  0.00000000e+00]]\n",
      "\n",
      " [[-3.00144498e-04  5.45066542e-01 -1.31614717e-02 ... -1.52553089e+00\n",
      "    1.00000000e+00  0.00000000e+00]\n",
      "  [-3.00144498e-04  5.45066542e-01 -1.31614717e-02 ... -1.51689089e+00\n",
      "    0.00000000e+00  0.00000000e+00]\n",
      "  [-3.00144498e-04  5.45066542e-01 -1.31614717e-02 ... -1.50825089e+00\n",
      "    0.00000000e+00  0.00000000e+00]\n",
      "  ...\n",
      "  [ 0.00000000e+00  0.00000000e+00  0.00000000e+00 ...  0.00000000e+00\n",
      "    0.00000000e+00  0.00000000e+00]\n",
      "  [ 0.00000000e+00  0.00000000e+00  0.00000000e+00 ...  0.00000000e+00\n",
      "    0.00000000e+00  0.00000000e+00]\n",
      "  [ 0.00000000e+00  0.00000000e+00  0.00000000e+00 ...  0.00000000e+00\n",
      "    0.00000000e+00  0.00000000e+00]]]\n",
      "y:\n",
      "[[[-2.26843405 -1.40707156 -0.22745233 -1.85389954]\n",
      "  [-2.18398118 -1.40867046 -0.24591727 -1.79155473]\n",
      "  [-1.9400062  -1.40991706 -0.26663116 -1.76233061]\n",
      "  ...\n",
      "  [ 0.          0.          0.          0.        ]\n",
      "  [ 0.          0.          0.          0.        ]\n",
      "  [ 0.          0.          0.          0.        ]]\n",
      "\n",
      " [[-2.30596866 -1.40742386 -0.23124001 -1.83441679]\n",
      "  [-2.19336483 -1.40869756 -0.24485199 -1.79350301]\n",
      "  [-1.97754081 -1.41040486 -0.26414549 -1.76817543]\n",
      "  ...\n",
      "  [ 0.          0.          0.          0.        ]\n",
      "  [ 0.          0.          0.          0.        ]\n",
      "  [ 0.          0.          0.          0.        ]]\n",
      "\n",
      " [[-2.30596866 -1.40642117 -0.22082389 -1.88117539]\n",
      "  [-2.33411962 -1.40793876 -0.23739499 -1.81883059]\n",
      "  [-2.18398118 -1.40915826 -0.2515988  -1.78960646]\n",
      "  ...\n",
      "  [ 0.          0.          0.          0.        ]\n",
      "  [ 0.          0.          0.          0.        ]\n",
      "  [ 0.          0.          0.          0.        ]]\n",
      "\n",
      " ...\n",
      "\n",
      " [[-2.27781771 -1.40804716 -0.23739499 -1.82272714]\n",
      "  [-2.10891195 -1.40934796 -0.25254572 -1.79155473]\n",
      "  [-1.93062255 -1.41089266 -0.2708923  -1.76038233]\n",
      "  ...\n",
      "  [ 0.          0.          0.          0.        ]\n",
      "  [ 0.          0.          0.          0.        ]\n",
      "  [ 0.          0.          0.          0.        ]]\n",
      "\n",
      " [[-2.27781771 -1.40799296 -0.23869701 -1.82077886]\n",
      "  [-2.20274848 -1.40921246 -0.25349264 -1.78181336]\n",
      "  [-2.09014465 -1.41062166 -0.26911682 -1.75064096]\n",
      "  ...\n",
      "  [ 0.          0.          0.          0.        ]\n",
      "  [ 0.          0.          0.          0.        ]\n",
      "  [ 0.          0.          0.          0.        ]]\n",
      "\n",
      " [[-2.12767926 -1.40823686 -0.24118267 -1.85000299]\n",
      "  [-2.09014465 -1.40953766 -0.25585994 -1.80519266]\n",
      "  [-1.89308794 -1.41091976 -0.27183922 -1.77986508]\n",
      "  ...\n",
      "  [ 0.          0.          0.          0.        ]\n",
      "  [ 0.          0.          0.          0.        ]\n",
      "  [ 0.          0.          0.          0.        ]]]\n"
     ]
    }
   ],
   "execution_count": 6
  },
  {
   "metadata": {
    "ExecuteTime": {
     "end_time": "2024-08-14T13:44:54.569132Z",
     "start_time": "2024-08-14T13:44:54.557324Z"
    }
   },
   "cell_type": "code",
   "source": [
    "X_train, X_val, X_test, y_train, y_val, y_test = fe.split_train_test(X, y, test_size=0.2, val_size=0.25)\n",
    "print(f'Shape of training set is {X_train.shape}, {y_train.shape}')\n",
    "print(f'Shape of validation set is {X_val.shape}, {y_val.shape}')\n",
    "print(f'Shape of test set is {X_test.shape}, {y_test.shape}')"
   ],
   "id": "73459bc64e412df7",
   "outputs": [
    {
     "name": "stdout",
     "output_type": "stream",
     "text": [
      "Shape of training set is (277, 202, 44), (277, 202, 4)\n",
      "Shape of validation set is (52, 202, 44), (52, 202, 4)\n",
      "Shape of test set is (18, 202, 44), (18, 202, 4)\n"
     ]
    }
   ],
   "execution_count": 7
  },
  {
   "metadata": {
    "ExecuteTime": {
     "end_time": "2024-08-14T13:44:54.590478Z",
     "start_time": "2024-08-14T13:44:54.570139Z"
    }
   },
   "cell_type": "code",
   "source": [
    "train_dataset, val_dataset, test_dataset = fe.make_tensor_dataset(X_train, X_val, X_test, y_train, y_val, y_test)\n",
    "print(f'training set is {train_dataset}')\n",
    "print(f'validation set is {val_dataset}')\n",
    "print(f'test set is {test_dataset}')"
   ],
   "id": "cc9f58442c45829",
   "outputs": [
    {
     "name": "stdout",
     "output_type": "stream",
     "text": [
      "training set is <torch.utils.data.dataset.TensorDataset object at 0x7fa887041650>\n",
      "validation set is <torch.utils.data.dataset.TensorDataset object at 0x7fa884f20850>\n",
      "test set is <torch.utils.data.dataset.TensorDataset object at 0x7fa884fad450>\n"
     ]
    }
   ],
   "execution_count": 8
  },
  {
   "metadata": {},
   "cell_type": "markdown",
   "source": [
    "# TRAINING\n",
    "\n",
    "---"
   ],
   "id": "5b43b4f4bf85801e"
  },
  {
   "metadata": {
    "ExecuteTime": {
     "end_time": "2024-08-14T13:44:54.593911Z",
     "start_time": "2024-08-14T13:44:54.591678Z"
    }
   },
   "cell_type": "code",
   "source": [
    "# Global variables\n",
    "batch_size_variable = 16\n",
    "max_epochs = 200"
   ],
   "id": "60c4edaa8a6eaa58",
   "outputs": [],
   "execution_count": 9
  },
  {
   "metadata": {
    "ExecuteTime": {
     "end_time": "2024-08-14T13:44:54.600844Z",
     "start_time": "2024-08-14T13:44:54.596418Z"
    }
   },
   "cell_type": "code",
   "source": "flight_dm = FlightDataModule(train_dataset, val_dataset, test_dataset, batch_size=batch_size_variable)",
   "id": "eb5fb1d7ee147bf2",
   "outputs": [],
   "execution_count": 10
  },
  {
   "metadata": {
    "ExecuteTime": {
     "end_time": "2024-08-14T13:44:54.606280Z",
     "start_time": "2024-08-14T13:44:54.601902Z"
    }
   },
   "cell_type": "code",
   "source": [
    "model_name = 'flight_model_LSTM_V3'\n",
    "base_dir = os.getcwd().replace('notebook', '')\n",
    "log_dir = os.path.join(base_dir, 'log')\n",
    "ckpt_dir = os.path.join(base_dir, model_name)\n",
    "os.makedirs(log_dir, exist_ok=True)"
   ],
   "id": "65012f1ba55c16cc",
   "outputs": [],
   "execution_count": 11
  },
  {
   "metadata": {
    "ExecuteTime": {
     "end_time": "2024-08-14T13:44:54.610408Z",
     "start_time": "2024-08-14T13:44:54.607413Z"
    }
   },
   "cell_type": "code",
   "source": "log_dir",
   "id": "69ec9a2c82527150",
   "outputs": [
    {
     "data": {
      "text/plain": [
       "'/mnt/e/Work/chi_phuong_co_su/log'"
      ]
     },
     "execution_count": 12,
     "metadata": {},
     "output_type": "execute_result"
    }
   ],
   "execution_count": 12
  },
  {
   "metadata": {
    "ExecuteTime": {
     "end_time": "2024-08-14T13:44:54.618716Z",
     "start_time": "2024-08-14T13:44:54.611475Z"
    }
   },
   "cell_type": "code",
   "source": [
    "# Some necessary callbacks\n",
    "early_stopping = EarlyStopping(monitor='val_loss', patience=10, verbose=True, mode='min')\n",
    "model_checkpoint = ModelCheckpoint(\n",
    "\tdirpath=log_dir,\n",
    "\tfilename='LSTM-V3-{epoch}-{val_loss:.5f}',\n",
    "\tmonitor='val_loss',\n",
    "\tsave_top_k=3,\n",
    "\tverbose=True,\n",
    "\tmode='min'\n",
    ")\n",
    "logger = TensorBoardLogger(log_dir, name=model_name, log_graph=True)"
   ],
   "id": "8a26b0d36d837eb0",
   "outputs": [],
   "execution_count": 13
  },
  {
   "metadata": {
    "ExecuteTime": {
     "end_time": "2024-08-14T13:44:54.730257Z",
     "start_time": "2024-08-14T13:44:54.619591Z"
    }
   },
   "cell_type": "code",
   "source": [
    "training_module = TrainingFlightModel(\n",
    "\tearly_stopping_lstm = early_stopping,\n",
    "\tmodel_checkpoint_lstm = model_checkpoint,\n",
    "\tlogger_lstm = logger,\n",
    "\tdata_module = flight_dm,\n",
    "\tmax_epoch=max_epochs,\n",
    ")"
   ],
   "id": "9cd16e81da4b2a21",
   "outputs": [
    {
     "name": "stderr",
     "output_type": "stream",
     "text": [
      "GPU available: True (cuda), used: True\n",
      "TPU available: False, using: 0 TPU cores\n",
      "IPU available: False, using: 0 IPUs\n",
      "HPU available: False, using: 0 HPUs\n"
     ]
    }
   ],
   "execution_count": 14
  },
  {
   "metadata": {
    "jupyter": {
     "is_executing": true
    },
    "ExecuteTime": {
     "start_time": "2024-08-14T13:44:54.731544Z"
    }
   },
   "cell_type": "code",
   "source": [
    "training_module.training(\n",
    "\tinput_size=44,\n",
    "\thidden_size=500,\n",
    "\tnum_layers=10,\n",
    "\toutput_size=4,\n",
    "\tlearning_rate=1e-4,\n",
    "\tdropout=0.2,\n",
    ")"
   ],
   "id": "a7d78f64fda6300",
   "outputs": [
    {
     "name": "stderr",
     "output_type": "stream",
     "text": [
      "Missing logger folder: /mnt/e/Work/chi_phuong_co_su/log/flight_model_LSTM_V3\n",
      "/home/anvutrong/miniconda3/envs/wsl_env/lib/python3.11/site-packages/lightning/pytorch/callbacks/model_checkpoint.py:653: Checkpoint directory /mnt/e/Work/chi_phuong_co_su/log exists and is not empty.\n",
      "LOCAL_RANK: 0 - CUDA_VISIBLE_DEVICES: [0]\n",
      "\n",
      "  | Name | Type              | Params | In sizes       | Out sizes                                     \n",
      "-------------------------------------------------------------------------------------------------------------\n",
      "0 | lstm | LSTM              | 19.1 M | [1, 6616, 44]  | [[1, 6616, 500], [[10, 1, 500], [10, 1, 500]]]\n",
      "1 | fc   | Linear            | 2.0 K  | [1, 6616, 500] | [1, 6616, 4]                                  \n",
      "2 | relu | ReLU              | 0      | [1, 6616, 500] | [1, 6616, 500]                                \n",
      "3 | loss | MSE4DLoss         | 0      | ?              | ?                                             \n",
      "4 | mse  | MeanSquaredError  | 0      | ?              | ?                                             \n",
      "5 | mae  | MeanAbsoluteError | 0      | ?              | ?                                             \n",
      "6 | r2   | R2Score           | 0      | ?              | ?                                             \n",
      "-------------------------------------------------------------------------------------------------------------\n",
      "19.1 M    Trainable params\n",
      "0         Non-trainable params\n",
      "19.1 M    Total params\n",
      "76.520    Total estimated model params size (MB)\n"
     ]
    },
    {
     "data": {
      "text/plain": [
       "Sanity Checking: |          | 0/? [00:00<?, ?it/s]"
      ],
      "application/vnd.jupyter.widget-view+json": {
       "version_major": 2,
       "version_minor": 0,
       "model_id": "43369f1e59634ab1bb2727b83145bfd4"
      }
     },
     "metadata": {},
     "output_type": "display_data"
    },
    {
     "data": {
      "text/plain": [
       "Training: |          | 0/? [00:00<?, ?it/s]"
      ],
      "application/vnd.jupyter.widget-view+json": {
       "version_major": 2,
       "version_minor": 0,
       "model_id": "ae252a493bd34c049d9a6735af51b9bd"
      }
     },
     "metadata": {},
     "output_type": "display_data"
    },
    {
     "data": {
      "text/plain": [
       "Validation: |          | 0/? [00:00<?, ?it/s]"
      ],
      "application/vnd.jupyter.widget-view+json": {
       "version_major": 2,
       "version_minor": 0,
       "model_id": "911090979cd94c2abf938f3b57792796"
      }
     },
     "metadata": {},
     "output_type": "display_data"
    },
    {
     "name": "stderr",
     "output_type": "stream",
     "text": [
      "Metric val_loss improved. New best score: 2515.883\n",
      "Epoch 0, global step 18: 'val_loss' reached 2515.88257 (best 2515.88257), saving model to '/mnt/e/Work/chi_phuong_co_su/log/LSTM-V3-epoch=0-val_loss=2515.88257.ckpt' as top 3\n"
     ]
    },
    {
     "data": {
      "text/plain": [
       "Validation: |          | 0/? [00:00<?, ?it/s]"
      ],
      "application/vnd.jupyter.widget-view+json": {
       "version_major": 2,
       "version_minor": 0,
       "model_id": "66047a7e006f4b968f515561047d0452"
      }
     },
     "metadata": {},
     "output_type": "display_data"
    },
    {
     "name": "stderr",
     "output_type": "stream",
     "text": [
      "Metric val_loss improved by 613.528 >= min_delta = 0.0. New best score: 1902.355\n",
      "Epoch 1, global step 36: 'val_loss' reached 1902.35498 (best 1902.35498), saving model to '/mnt/e/Work/chi_phuong_co_su/log/LSTM-V3-epoch=1-val_loss=1902.35498.ckpt' as top 3\n"
     ]
    },
    {
     "data": {
      "text/plain": [
       "Validation: |          | 0/? [00:00<?, ?it/s]"
      ],
      "application/vnd.jupyter.widget-view+json": {
       "version_major": 2,
       "version_minor": 0,
       "model_id": "17240e7427ce4875b4a5d551603863bd"
      }
     },
     "metadata": {},
     "output_type": "display_data"
    },
    {
     "name": "stderr",
     "output_type": "stream",
     "text": [
      "Metric val_loss improved by 346.584 >= min_delta = 0.0. New best score: 1555.771\n",
      "Epoch 2, global step 54: 'val_loss' reached 1555.77063 (best 1555.77063), saving model to '/mnt/e/Work/chi_phuong_co_su/log/LSTM-V3-epoch=2-val_loss=1555.77063.ckpt' as top 3\n"
     ]
    },
    {
     "data": {
      "text/plain": [
       "Validation: |          | 0/? [00:00<?, ?it/s]"
      ],
      "application/vnd.jupyter.widget-view+json": {
       "version_major": 2,
       "version_minor": 0,
       "model_id": "6658858afb7345b7a9f2790ab60d2473"
      }
     },
     "metadata": {},
     "output_type": "display_data"
    },
    {
     "name": "stderr",
     "output_type": "stream",
     "text": [
      "Metric val_loss improved by 518.635 >= min_delta = 0.0. New best score: 1037.135\n",
      "Epoch 3, global step 72: 'val_loss' reached 1037.13550 (best 1037.13550), saving model to '/mnt/e/Work/chi_phuong_co_su/log/LSTM-V3-epoch=3-val_loss=1037.13550.ckpt' as top 3\n"
     ]
    }
   ],
   "execution_count": null
  },
  {
   "metadata": {
    "jupyter": {
     "is_executing": true
    }
   },
   "cell_type": "code",
   "source": "training_module.validate_and_testing_lstm(data_module=flight_dm)",
   "id": "5c63ceb0241662ec",
   "outputs": [],
   "execution_count": null
  },
  {
   "metadata": {
    "jupyter": {
     "is_executing": true
    }
   },
   "cell_type": "code",
   "source": [
    "# Tensorboard\n",
    "%tensorboard --logdir /mnt/e/Work/chi_phuong_co_su/log"
   ],
   "id": "f45e407dda14f986",
   "outputs": [],
   "execution_count": null
  }
 ],
 "metadata": {
  "kernelspec": {
   "display_name": "Python 3",
   "language": "python",
   "name": "python3"
  },
  "language_info": {
   "codemirror_mode": {
    "name": "ipython",
    "version": 2
   },
   "file_extension": ".py",
   "mimetype": "text/x-python",
   "name": "python",
   "nbconvert_exporter": "python",
   "pygments_lexer": "ipython2",
   "version": "2.7.6"
  }
 },
 "nbformat": 4,
 "nbformat_minor": 5
}
