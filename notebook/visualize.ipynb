{
 "cells": [
  {
   "cell_type": "code",
   "id": "initial_id",
   "metadata": {
    "collapsed": true,
    "ExecuteTime": {
     "end_time": "2024-07-06T03:26:52.475689Z",
     "start_time": "2024-07-06T03:26:50.034831Z"
    }
   },
   "source": "from modules.visualize import FlightVisualizer",
   "outputs": [],
   "execution_count": 1
  },
  {
   "metadata": {
    "ExecuteTime": {
     "end_time": "2024-07-06T03:26:52.480553Z",
     "start_time": "2024-07-06T03:26:52.477230Z"
    }
   },
   "cell_type": "code",
   "source": [
    "checkpoint_path = '../log/epoch=55-val_loss=0.00.ckpt'\n",
    "data_path = '../data/csv/raw.csv'"
   ],
   "id": "f2e49f20064850a9",
   "outputs": [],
   "execution_count": 2
  },
  {
   "metadata": {
    "ExecuteTime": {
     "end_time": "2024-07-06T03:26:53.413247Z",
     "start_time": "2024-07-06T03:26:52.482577Z"
    }
   },
   "cell_type": "code",
   "source": [
    "visualizer = FlightVisualizer(checkpoint_path, data_path)\n",
    "visualizer.run_visualization()"
   ],
   "id": "db1a58713c14a6fd",
   "outputs": [
    {
     "name": "stdout",
     "output_type": "stream",
     "text": [
      "Actual Path (Target Variables):\n",
      "     Ac_kts   Ac_Lat    Ac_Lon  Ac_feet\n",
      "159   166.0  10.8121  106.6395    875.0\n",
      "160   178.0  10.8074  106.6280   1400.0\n",
      "161   201.0  10.8011  106.6117   1725.0\n",
      "162   230.0  10.7956  106.5968   2025.0\n",
      "163   246.0  10.7856  106.5696   3050.0\n",
      "..      ...      ...       ...      ...\n",
      "340   160.0  21.2554  105.6798   1975.0\n",
      "341   157.0  21.2507  105.6963   1700.0\n",
      "342   156.0  21.2458  105.7133   1375.0\n",
      "343   146.0  21.2418  105.7269   1125.0\n",
      "344   149.0  21.2398  105.7340   1141.0\n",
      "\n",
      "[186 rows x 4 columns]\n",
      "Predicted Path (Target Variables):\n",
      "         Ac_kts     Ac_Lat      Ac_Lon       Ac_feet\n",
      "0    104.142548  30.861824  212.517334   -853.459473\n",
      "1    108.469879  30.850008  212.525497   -657.883484\n",
      "2    114.788780  30.905851  212.551407   -187.217209\n",
      "3    124.631798  31.048466  212.599731    587.887207\n",
      "4    138.849991  31.288952  212.672760   1705.812622\n",
      "..          ...        ...         ...           ...\n",
      "181  456.874268  37.405773  214.244873  28919.232422\n",
      "182  456.815887  37.404766  214.244537  28914.031250\n",
      "183  456.757324  37.403492  214.244186  28908.996094\n",
      "184  456.679291  37.402328  214.243896  28902.876953\n",
      "185  456.606262  37.401115  214.243561  28896.945312\n",
      "\n",
      "[186 rows x 4 columns]\n",
      "Map saved as flight_path_map.html\n"
     ]
    }
   ],
   "execution_count": 3
  },
  {
   "metadata": {
    "ExecuteTime": {
     "end_time": "2024-07-06T03:26:53.416986Z",
     "start_time": "2024-07-06T03:26:53.414736Z"
    }
   },
   "cell_type": "code",
   "source": "",
   "id": "f7f74ff9f01588d8",
   "outputs": [],
   "execution_count": 3
  }
 ],
 "metadata": {
  "kernelspec": {
   "display_name": "Python 3",
   "language": "python",
   "name": "python3"
  },
  "language_info": {
   "codemirror_mode": {
    "name": "ipython",
    "version": 2
   },
   "file_extension": ".py",
   "mimetype": "text/x-python",
   "name": "python",
   "nbconvert_exporter": "python",
   "pygments_lexer": "ipython2",
   "version": "2.7.6"
  }
 },
 "nbformat": 4,
 "nbformat_minor": 5
}
