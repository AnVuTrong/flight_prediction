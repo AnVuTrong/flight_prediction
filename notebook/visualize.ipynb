{
 "cells": [
  {
   "cell_type": "code",
   "id": "initial_id",
   "metadata": {
    "collapsed": true,
    "ExecuteTime": {
     "end_time": "2024-07-06T04:11:25.154562Z",
     "start_time": "2024-07-06T04:11:22.595827Z"
    }
   },
   "source": "from modules.visualize import FlightVisualizer",
   "outputs": [],
   "execution_count": 1
  },
  {
   "metadata": {
    "ExecuteTime": {
     "end_time": "2024-07-06T04:11:25.160398Z",
     "start_time": "2024-07-06T04:11:25.156538Z"
    }
   },
   "cell_type": "code",
   "source": [
    "checkpoint_path = '../log/epoch=55-val_loss=0.00.ckpt'\n",
    "data_path = '../data/csv/raw.csv'"
   ],
   "id": "f2e49f20064850a9",
   "outputs": [],
   "execution_count": 2
  },
  {
   "metadata": {
    "ExecuteTime": {
     "end_time": "2024-07-06T04:11:26.054263Z",
     "start_time": "2024-07-06T04:11:25.162102Z"
    }
   },
   "cell_type": "code",
   "source": [
    "visualizer = FlightVisualizer(checkpoint_path, data_path)\n",
    "visualizer.run_visualization()"
   ],
   "id": "db1a58713c14a6fd",
   "outputs": [
    {
     "name": "stdout",
     "output_type": "stream",
     "text": [
      "Actual Path (Target Variables):\n",
      "       Ac_kts   Ac_Lat    Ac_Lon  Ac_feet\n",
      "60057   160.0  10.8154  106.6472    425.0\n",
      "60058   157.0  10.8115  106.6366   1000.0\n",
      "60059   164.0  10.8072  106.6253   1425.0\n",
      "60060   187.0  10.8012  106.6099   1700.0\n",
      "60061   205.0  10.7962  106.5970   1925.0\n",
      "...       ...      ...       ...      ...\n",
      "60230   159.0  21.2543  105.6840   1875.0\n",
      "60231   150.0  21.2503  105.6978   1650.0\n",
      "60232   150.0  21.2468  105.7100   1425.0\n",
      "60233   151.0  21.2408  105.7309   1025.0\n",
      "60234   139.0  21.2291  105.7710    300.0\n",
      "\n",
      "[178 rows x 4 columns]\n",
      "Predicted Path (Target Variables):\n",
      "         Ac_kts     Ac_Lat      Ac_Lon       Ac_feet\n",
      "0    103.896385  10.531226  105.283623   -869.568237\n",
      "1    107.316116  10.502814  105.287163   -736.146301\n",
      "2    111.594948  10.520804  105.302689   -410.180237\n",
      "3    117.824677  10.595744  105.332542    101.615593\n",
      "4    126.519348  10.732438  105.377327    808.813660\n",
      "..          ...        ...         ...           ...\n",
      "173  382.055634  15.677684  106.649529  22429.353516\n",
      "174  381.968170  15.676097  106.649109  22422.191406\n",
      "175  381.890594  15.674589  106.648705  22414.996094\n",
      "176  381.792511  15.672989  106.648285  22407.291016\n",
      "177  381.698608  15.671359  106.647865  22399.613281\n",
      "\n",
      "[178 rows x 4 columns]\n",
      "Map saved as flight_path_map.html\n"
     ]
    }
   ],
   "execution_count": 3
  },
  {
   "metadata": {
    "ExecuteTime": {
     "end_time": "2024-07-06T04:11:26.058601Z",
     "start_time": "2024-07-06T04:11:26.056362Z"
    }
   },
   "cell_type": "code",
   "source": "",
   "id": "f7f74ff9f01588d8",
   "outputs": [],
   "execution_count": 3
  }
 ],
 "metadata": {
  "kernelspec": {
   "display_name": "Python 3",
   "language": "python",
   "name": "python3"
  },
  "language_info": {
   "codemirror_mode": {
    "name": "ipython",
    "version": 2
   },
   "file_extension": ".py",
   "mimetype": "text/x-python",
   "name": "python",
   "nbconvert_exporter": "python",
   "pygments_lexer": "ipython2",
   "version": "2.7.6"
  }
 },
 "nbformat": 4,
 "nbformat_minor": 5
}
