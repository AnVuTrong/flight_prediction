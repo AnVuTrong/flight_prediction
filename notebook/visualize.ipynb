{
 "cells": [
  {
   "cell_type": "code",
   "id": "initial_id",
   "metadata": {
    "collapsed": true,
    "ExecuteTime": {
     "end_time": "2024-07-06T04:09:20.938866Z",
     "start_time": "2024-07-06T04:09:18.516850Z"
    }
   },
   "source": "from modules.visualize import FlightVisualizer",
   "outputs": [],
   "execution_count": 1
  },
  {
   "metadata": {
    "ExecuteTime": {
     "end_time": "2024-07-06T04:09:20.942956Z",
     "start_time": "2024-07-06T04:09:20.940369Z"
    }
   },
   "cell_type": "code",
   "source": [
    "checkpoint_path = '../log/epoch=55-val_loss=0.00.ckpt'\n",
    "data_path = '../data/csv/raw.csv'"
   ],
   "id": "f2e49f20064850a9",
   "outputs": [],
   "execution_count": 2
  },
  {
   "metadata": {
    "ExecuteTime": {
     "end_time": "2024-07-06T04:09:21.787187Z",
     "start_time": "2024-07-06T04:09:20.944581Z"
    }
   },
   "cell_type": "code",
   "source": [
    "visualizer = FlightVisualizer(checkpoint_path, data_path)\n",
    "visualizer.run_visualization()"
   ],
   "id": "db1a58713c14a6fd",
   "outputs": [
    {
     "name": "stdout",
     "output_type": "stream",
     "text": [
      "Actual Path (Target Variables):\n",
      "       Ac_kts   Ac_Lat    Ac_Lon  Ac_feet\n",
      "19383   197.0  10.8025  106.6150   1625.0\n",
      "19384   220.0  10.7968  106.6008   1850.0\n",
      "19385   261.0  10.7845  106.5681   2600.0\n",
      "19386   264.0  10.7827  106.5474   3450.0\n",
      "19387   261.0  10.7925  106.5254   4550.0\n",
      "...       ...      ...       ...      ...\n",
      "19559   152.0  21.2546  105.6826   1800.0\n",
      "19560   151.0  21.2486  105.7035   1425.0\n",
      "19561   150.0  21.2454  105.7148   1225.0\n",
      "19562   150.0  21.2420  105.7264    975.0\n",
      "19563   150.0  21.2402  105.7328   1141.0\n",
      "\n",
      "[181 rows x 4 columns]\n",
      "Predicted Path (Target Variables):\n",
      "         Ac_kts     Ac_Lat      Ac_Lon       Ac_feet\n",
      "0    103.892105  10.531070  105.283600   -870.167725\n",
      "1    107.294273  10.502138  105.287064   -738.734131\n",
      "2    111.535370  10.519108  105.302399   -416.908020\n",
      "3    117.701668  10.592467  105.331909     88.290047\n",
      "4    126.304634  10.727025  105.376228    786.291443\n",
      "..          ...        ...         ...           ...\n",
      "176  423.734589  16.459738  106.851799  26023.017578\n",
      "177  423.857788  16.462196  106.852425  26034.082031\n",
      "178  423.982330  16.464615  106.853043  26045.152344\n",
      "179  424.107361  16.467007  106.853661  26056.175781\n",
      "180  424.232147  16.469374  106.854271  26067.128906\n",
      "\n",
      "[181 rows x 4 columns]\n",
      "Map saved as name.html\n"
     ]
    }
   ],
   "execution_count": 3
  },
  {
   "metadata": {
    "ExecuteTime": {
     "end_time": "2024-07-06T04:09:21.790948Z",
     "start_time": "2024-07-06T04:09:21.788699Z"
    }
   },
   "cell_type": "code",
   "source": "",
   "id": "f7f74ff9f01588d8",
   "outputs": [],
   "execution_count": 3
  }
 ],
 "metadata": {
  "kernelspec": {
   "display_name": "Python 3",
   "language": "python",
   "name": "python3"
  },
  "language_info": {
   "codemirror_mode": {
    "name": "ipython",
    "version": 2
   },
   "file_extension": ".py",
   "mimetype": "text/x-python",
   "name": "python",
   "nbconvert_exporter": "python",
   "pygments_lexer": "ipython2",
   "version": "2.7.6"
  }
 },
 "nbformat": 4,
 "nbformat_minor": 5
}
